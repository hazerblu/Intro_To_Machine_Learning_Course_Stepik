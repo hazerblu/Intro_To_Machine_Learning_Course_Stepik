{
 "cells": [
  {
   "cell_type": "markdown",
   "id": "ba1c73a7",
   "metadata": {},
   "source": [
    "## Numpy"
   ]
  },
  {
   "cell_type": "markdown",
   "id": "5c2e3c8b",
   "metadata": {},
   "source": [
    "- библиотека в Питоне для создания многомерных массивов\n",
    "- есть возсожность применять функции сразу ко многим элементам (режим broadcast, без использования циклов)\n",
    "- в нее встроены функции и методы линала, статистич распределений, тригонометрии, случ чисел и тд\n",
    "- структуры numpy очень похожи на обычные списки, но являются намного более эффективными структурами "
   ]
  },
  {
   "cell_type": "markdown",
   "id": "d05486fa",
   "metadata": {},
   "source": [
    "## Массивы Numpy"
   ]
  },
  {
   "cell_type": "markdown",
   "id": "e1d76952",
   "metadata": {},
   "source": [
    "*Способы создания массивов в numpy:*\n",
    "- конвертация обычных списков\n",
    "- встроенные функции \n",
    "- создание случ данных "
   ]
  },
  {
   "cell_type": "code",
   "execution_count": 3,
   "id": "6baa0247",
   "metadata": {},
   "outputs": [
    {
     "data": {
      "text/plain": [
       "'1.18.1'"
      ]
     },
     "execution_count": 3,
     "metadata": {},
     "output_type": "execute_result"
    }
   ],
   "source": [
    "import numpy as np # общепринятый стандарт импорта \n",
    "numpy.__version__"
   ]
  },
  {
   "cell_type": "markdown",
   "id": "52662a37",
   "metadata": {},
   "source": [
    "Shift + Tab -> просмотр docstring у функции "
   ]
  },
  {
   "cell_type": "markdown",
   "id": "5747912c",
   "metadata": {},
   "source": [
    "### np.array()"
   ]
  },
  {
   "cell_type": "code",
   "execution_count": 6,
   "id": "e2944989",
   "metadata": {},
   "outputs": [
    {
     "data": {
      "text/plain": [
       "array([1, 2, 3])"
      ]
     },
     "execution_count": 6,
     "metadata": {},
     "output_type": "execute_result"
    }
   ],
   "source": [
    "sp = [1,2,3]\n",
    "np.array(sp) # при этом исходный список никак не меняется "
   ]
  },
  {
   "cell_type": "code",
   "execution_count": 7,
   "id": "5a2e1318",
   "metadata": {},
   "outputs": [
    {
     "data": {
      "text/plain": [
       "array([[1, 2, 3],\n",
       "       [4, 5, 6],\n",
       "       [7, 8, 9]])"
      ]
     },
     "execution_count": 7,
     "metadata": {},
     "output_type": "execute_result"
    }
   ],
   "source": [
    "sp2 = [[1,2,3], [4,5,6], [7,8,9]]\n",
    "np.array(sp2)"
   ]
  },
  {
   "cell_type": "markdown",
   "id": "f1122a0b",
   "metadata": {},
   "source": [
    "### np.arange()"
   ]
  },
  {
   "cell_type": "code",
   "execution_count": 8,
   "id": "14b40121",
   "metadata": {},
   "outputs": [
    {
     "data": {
      "text/plain": [
       "array([0, 1, 2, 3, 4, 5, 6, 7, 8, 9])"
      ]
     },
     "execution_count": 8,
     "metadata": {},
     "output_type": "execute_result"
    }
   ],
   "source": [
    "np.arange(0, 10) # без шага "
   ]
  },
  {
   "cell_type": "code",
   "execution_count": 9,
   "id": "f6e80fe5",
   "metadata": {},
   "outputs": [
    {
     "data": {
      "text/plain": [
       "array([0, 2, 4, 6, 8])"
      ]
     },
     "execution_count": 9,
     "metadata": {},
     "output_type": "execute_result"
    }
   ],
   "source": [
    "np.arange(0, 10, 2) # c шагом \n",
    "# самое главное, что верхняя граница не входит в интервал  "
   ]
  },
  {
   "cell_type": "markdown",
   "id": "76c89851",
   "metadata": {},
   "source": [
    "### np.zeros(), np.ones()"
   ]
  },
  {
   "cell_type": "code",
   "execution_count": 12,
   "id": "f2e95c7e",
   "metadata": {},
   "outputs": [
    {
     "data": {
      "text/plain": [
       "array([[0., 0., 0., 0., 0.],\n",
       "       [0., 0., 0., 0., 0.],\n",
       "       [0., 0., 0., 0., 0.]])"
      ]
     },
     "execution_count": 12,
     "metadata": {},
     "output_type": "execute_result"
    }
   ],
   "source": [
    "# создание массива/матрицы чисто из 0\n",
    "# по умолчанию тип данных идет float \n",
    "np.zeros((3, 5))"
   ]
  },
  {
   "cell_type": "code",
   "execution_count": 13,
   "id": "ba9b557c",
   "metadata": {},
   "outputs": [
    {
     "data": {
      "text/plain": [
       "array([[1., 1., 1., 1., 1., 1., 1., 1.]])"
      ]
     },
     "execution_count": 13,
     "metadata": {},
     "output_type": "execute_result"
    }
   ],
   "source": [
    "# создание массива/матрицы чисто из 1\n",
    "np.ones((1, 8))"
   ]
  },
  {
   "cell_type": "markdown",
   "id": "c1e8d679",
   "metadata": {},
   "source": [
    "### np.linspace()"
   ]
  },
  {
   "cell_type": "code",
   "execution_count": 16,
   "id": "b8f980c1",
   "metadata": {},
   "outputs": [
    {
     "data": {
      "text/plain": [
       "array([ 0.  ,  1.25,  2.5 ,  3.75,  5.  ,  6.25,  7.5 ,  8.75, 10.  ])"
      ]
     },
     "execution_count": 16,
     "metadata": {},
     "output_type": "execute_result"
    }
   ],
   "source": [
    "# создание равноотстоящих друг от друга чисел \n",
    "np.linspace(0, 10, 9) # верхняя граница здесь включительна!"
   ]
  },
  {
   "cell_type": "code",
   "execution_count": 21,
   "id": "10c0086a",
   "metadata": {},
   "outputs": [
    {
     "data": {
      "text/plain": [
       "array([ 3.        ,  3.78947368,  4.57894737,  5.36842105,  6.15789474,\n",
       "        6.94736842,  7.73684211,  8.52631579,  9.31578947, 10.10526316,\n",
       "       10.89473684, 11.68421053, 12.47368421, 13.26315789, 14.05263158,\n",
       "       14.84210526, 15.63157895, 16.42105263, 17.21052632, 18.        ])"
      ]
     },
     "execution_count": 21,
     "metadata": {},
     "output_type": "execute_result"
    }
   ],
   "source": [
    "np.linspace(3, 18, 20)"
   ]
  },
  {
   "cell_type": "markdown",
   "id": "d2202b2f",
   "metadata": {},
   "source": [
    "### np.eye()"
   ]
  },
  {
   "cell_type": "code",
   "execution_count": 22,
   "id": "e45689dd",
   "metadata": {},
   "outputs": [
    {
     "data": {
      "text/plain": [
       "array([[1., 0., 0., 0., 0.],\n",
       "       [0., 1., 0., 0., 0.],\n",
       "       [0., 0., 1., 0., 0.],\n",
       "       [0., 0., 0., 1., 0.],\n",
       "       [0., 0., 0., 0., 1.]])"
      ]
     },
     "execution_count": 22,
     "metadata": {},
     "output_type": "execute_result"
    }
   ],
   "source": [
    "# создание единичной (квадратной) матрицы \n",
    "np.eye(5) "
   ]
  },
  {
   "cell_type": "markdown",
   "id": "147ff3a5",
   "metadata": {},
   "source": [
    "### Создание случайно распределенных чисел "
   ]
  },
  {
   "cell_type": "markdown",
   "id": "930ce830",
   "metadata": {},
   "source": [
    "### np.random.rand()"
   ]
  },
  {
   "cell_type": "code",
   "execution_count": 24,
   "id": "23d5abe9",
   "metadata": {},
   "outputs": [
    {
     "data": {
      "text/plain": [
       "0.2610191350258819"
      ]
     },
     "execution_count": 24,
     "metadata": {},
     "output_type": "execute_result"
    }
   ],
   "source": [
    "# uniform distribution - равномерное распределение (числа [0, 1) )\n",
    "\n",
    "# то есть каждое число мж выпасть с одинаковой вероятностью \n",
    "np.random.rand()"
   ]
  },
  {
   "cell_type": "code",
   "execution_count": 27,
   "id": "c3579cb7",
   "metadata": {},
   "outputs": [
    {
     "data": {
      "text/plain": [
       "array([0.64993524, 0.90645732, 0.33289792, 0.40383189, 0.47816349])"
      ]
     },
     "execution_count": 27,
     "metadata": {},
     "output_type": "execute_result"
    }
   ],
   "source": [
    "# создание массива из 5 случ чисел \n",
    "# аргументом указывается кол-во чисел \n",
    "np.random.rand(5)"
   ]
  },
  {
   "cell_type": "code",
   "execution_count": 28,
   "id": "e40c17fd",
   "metadata": {},
   "outputs": [
    {
     "data": {
      "text/plain": [
       "array([[0.73420236, 0.98274933, 0.96950824, 0.24958645, 0.17942953],\n",
       "       [0.02484118, 0.40052082, 0.1010713 , 0.28649743, 0.35902401],\n",
       "       [0.85444141, 0.03611113, 0.28796936, 0.52632194, 0.8687005 ],\n",
       "       [0.48817004, 0.6684805 , 0.86653347, 0.69812686, 0.98359992]])"
      ]
     },
     "execution_count": 28,
     "metadata": {},
     "output_type": "execute_result"
    }
   ],
   "source": [
    "# создание двумерной матрицы из случ чисел \n",
    "# здесь числа размерности НЕ в кортеже пишем \n",
    "np.random.rand(4, 5)"
   ]
  },
  {
   "cell_type": "markdown",
   "id": "40f3c98e",
   "metadata": {},
   "source": [
    "### np.random.randn()"
   ]
  },
  {
   "cell_type": "code",
   "execution_count": 30,
   "id": "5477c867",
   "metadata": {},
   "outputs": [
    {
     "data": {
      "text/plain": [
       "array([-0.15043241,  0.30741068, -0.51149107, -1.25862439, -0.1152625 ,\n",
       "       -1.57614555,  1.21541209, -0.22027338, -0.38606967, -1.23729967])"
      ]
     },
     "execution_count": 30,
     "metadata": {},
     "output_type": "execute_result"
    }
   ],
   "source": [
    "# нормальное распределение - распределение Гаусса \n",
    "# стандратное нормальное распределение (M = 0, D = 1)\n",
    "# (standard normal distribution)\n",
    "np.random.randn(10)"
   ]
  },
  {
   "cell_type": "code",
   "execution_count": 31,
   "id": "e84b96e9",
   "metadata": {},
   "outputs": [
    {
     "data": {
      "text/plain": [
       "array([[ 0.64057873,  0.33873021,  2.24091081],\n",
       "       [-1.18924812, -0.76991397,  0.12761147]])"
      ]
     },
     "execution_count": 31,
     "metadata": {},
     "output_type": "execute_result"
    }
   ],
   "source": [
    "# чем ближе числа к 0, тем выше вероятность их получить \n",
    "np.random.randn(2, 3)"
   ]
  },
  {
   "cell_type": "markdown",
   "id": "df3ccda0",
   "metadata": {},
   "source": [
    "### np.random.randint()"
   ]
  },
  {
   "cell_type": "code",
   "execution_count": 33,
   "id": "1707fa0e",
   "metadata": {},
   "outputs": [
    {
     "data": {
      "text/plain": [
       "array([21, 41, 64, 67, 51, 40, 99, 58, 10, 76])"
      ]
     },
     "execution_count": 33,
     "metadata": {},
     "output_type": "execute_result"
    }
   ],
   "source": [
    "# верхняя граница не включительна \n",
    "np.random.randint(0, 101, 10)"
   ]
  },
  {
   "cell_type": "code",
   "execution_count": 34,
   "id": "0d355c76",
   "metadata": {},
   "outputs": [
    {
     "data": {
      "text/plain": [
       "array([[41, 61, 76, 89, 27, 60, 69],\n",
       "       [44, 81, 54, 91, 94, 51, 29],\n",
       "       [89, 89, 83, 80, 52, 70, 36]])"
      ]
     },
     "execution_count": 34,
     "metadata": {},
     "output_type": "execute_result"
    }
   ],
   "source": [
    "# генерация из равномерного распределения \n",
    "np.random.randint(0, 101, (3, 7))"
   ]
  },
  {
   "cell_type": "markdown",
   "id": "6da6d1c5",
   "metadata": {},
   "source": [
    "### Воспроизводимость случайных чисел "
   ]
  },
  {
   "cell_type": "code",
   "execution_count": 39,
   "id": "7e1d617f",
   "metadata": {},
   "outputs": [
    {
     "data": {
      "text/plain": [
       "array([0.37454012, 0.95071431, 0.73199394, 0.59865848])"
      ]
     },
     "execution_count": 39,
     "metadata": {},
     "output_type": "execute_result"
    }
   ],
   "source": [
    "np.random.seed(42) # начальное состояние генератора случ чисел\n",
    "np.random.rand(4)\n",
    "# то есть при такой постановке задаче - всегда одни и те же случ числа "
   ]
  },
  {
   "cell_type": "code",
   "execution_count": 41,
   "id": "29a4f114",
   "metadata": {},
   "outputs": [
    {
     "data": {
      "text/plain": [
       "array([0.60111501, 0.70807258, 0.02058449, 0.96990985])"
      ]
     },
     "execution_count": 41,
     "metadata": {},
     "output_type": "execute_result"
    }
   ],
   "source": [
    "np.random.rand(4)"
   ]
  },
  {
   "cell_type": "markdown",
   "id": "5ac94c9a",
   "metadata": {},
   "source": [
    "### Полезные функции при работе с numpy-массивами "
   ]
  },
  {
   "cell_type": "code",
   "execution_count": 44,
   "id": "43138465",
   "metadata": {},
   "outputs": [
    {
     "data": {
      "text/plain": [
       "array([ 0,  1,  2,  3,  4,  5,  6,  7,  8,  9, 10, 11, 12, 13, 14, 15, 16,\n",
       "       17, 18, 19, 20, 21, 22, 23, 24])"
      ]
     },
     "execution_count": 44,
     "metadata": {},
     "output_type": "execute_result"
    }
   ],
   "source": [
    "arr = np.arange(0, 25)\n",
    "arr"
   ]
  },
  {
   "cell_type": "code",
   "execution_count": 46,
   "id": "8dd9cb10",
   "metadata": {},
   "outputs": [
    {
     "data": {
      "text/plain": [
       "array([[ 0,  1,  2,  3,  4],\n",
       "       [ 5,  6,  7,  8,  9],\n",
       "       [10, 11, 12, 13, 14],\n",
       "       [15, 16, 17, 18, 19],\n",
       "       [20, 21, 22, 23, 24]])"
      ]
     },
     "execution_count": 46,
     "metadata": {},
     "output_type": "execute_result"
    }
   ],
   "source": [
    "# преобразование массива в матрицу \n",
    "# размерность обязательно дж соотв кол-ву чисел (иначе, ValueError)\n",
    "arr.reshape(5, 5)"
   ]
  },
  {
   "cell_type": "code",
   "execution_count": 48,
   "id": "0d0ab5de",
   "metadata": {},
   "outputs": [
    {
     "data": {
      "text/plain": [
       "array([88, 48, 90, 58, 41, 91, 59, 79, 14, 61])"
      ]
     },
     "execution_count": 48,
     "metadata": {},
     "output_type": "execute_result"
    }
   ],
   "source": [
    "randarr = np.random.randint(0, 101, 10)\n",
    "randarr"
   ]
  },
  {
   "cell_type": "code",
   "execution_count": 49,
   "id": "34729617",
   "metadata": {},
   "outputs": [
    {
     "data": {
      "text/plain": [
       "5"
      ]
     },
     "execution_count": 49,
     "metadata": {},
     "output_type": "execute_result"
    }
   ],
   "source": [
    "randarr.argmax() # позиция (индекс) максимума в массиве "
   ]
  },
  {
   "cell_type": "code",
   "execution_count": 50,
   "id": "86391563",
   "metadata": {},
   "outputs": [
    {
     "data": {
      "text/plain": [
       "dtype('int32')"
      ]
     },
     "execution_count": 50,
     "metadata": {},
     "output_type": "execute_result"
    }
   ],
   "source": [
    "# атрибут dtype указывает - какие числа хранятся в массиве \n",
    "randarr.dtype\n",
    "\n",
    "# тут получаются 32-битные целые числа "
   ]
  },
  {
   "cell_type": "code",
   "execution_count": 51,
   "id": "880cbfab",
   "metadata": {},
   "outputs": [
    {
     "data": {
      "text/plain": [
       "array([ 0,  1,  2,  3,  4,  5,  6,  7,  8,  9, 10, 11, 12, 13, 14, 15, 16,\n",
       "       17, 18, 19, 20, 21, 22, 23, 24])"
      ]
     },
     "execution_count": 51,
     "metadata": {},
     "output_type": "execute_result"
    }
   ],
   "source": [
    "arr"
   ]
  },
  {
   "cell_type": "code",
   "execution_count": 52,
   "id": "bc926f12",
   "metadata": {},
   "outputs": [
    {
     "data": {
      "text/plain": [
       "(25,)"
      ]
     },
     "execution_count": 52,
     "metadata": {},
     "output_type": "execute_result"
    }
   ],
   "source": [
    "# атрибут показывает размерности объекта \n",
    "arr.shape\n",
    "\n",
    "# в данном случае это просто массив одномерный - поэтому кортеж из 1 эл"
   ]
  },
  {
   "cell_type": "code",
   "execution_count": 53,
   "id": "0d70fd23",
   "metadata": {},
   "outputs": [
    {
     "data": {
      "text/plain": [
       "array([[ 0,  1,  2,  3,  4],\n",
       "       [ 5,  6,  7,  8,  9],\n",
       "       [10, 11, 12, 13, 14],\n",
       "       [15, 16, 17, 18, 19],\n",
       "       [20, 21, 22, 23, 24]])"
      ]
     },
     "execution_count": 53,
     "metadata": {},
     "output_type": "execute_result"
    }
   ],
   "source": [
    "arr = arr.reshape(5, 5)\n",
    "arr"
   ]
  },
  {
   "cell_type": "code",
   "execution_count": 54,
   "id": "38d2dccd",
   "metadata": {},
   "outputs": [
    {
     "data": {
      "text/plain": [
       "(5, 5)"
      ]
     },
     "execution_count": 54,
     "metadata": {},
     "output_type": "execute_result"
    }
   ],
   "source": [
    "arr.shape"
   ]
  },
  {
   "cell_type": "code",
   "execution_count": 59,
   "id": "e0229bff",
   "metadata": {},
   "outputs": [
    {
     "data": {
      "text/plain": [
       "array([[ 0,  1,  2,  3,  4,  5,  6,  7,  8,  9, 10, 11, 12, 13, 14, 15,\n",
       "        16, 17, 18, 19, 20, 21, 22, 23, 24]])"
      ]
     },
     "execution_count": 59,
     "metadata": {},
     "output_type": "execute_result"
    }
   ],
   "source": [
    "arr = arr.reshape(1, 25)\n",
    "arr"
   ]
  },
  {
   "cell_type": "code",
   "execution_count": 58,
   "id": "4a428bee",
   "metadata": {},
   "outputs": [
    {
     "data": {
      "text/plain": [
       "(1, 25)"
      ]
     },
     "execution_count": 58,
     "metadata": {},
     "output_type": "execute_result"
    }
   ],
   "source": [
    "arr.shape \n",
    "\n",
    "# в данном случае это двумерная матрица с 1 строкой из 25 элементов "
   ]
  },
  {
   "cell_type": "markdown",
   "id": "7146419e",
   "metadata": {},
   "source": [
    "## NumPy - индексация и выборки "
   ]
  },
  {
   "cell_type": "code",
   "execution_count": 60,
   "id": "6a0ec96d",
   "metadata": {},
   "outputs": [],
   "source": [
    "import numpy as np"
   ]
  },
  {
   "cell_type": "code",
   "execution_count": 61,
   "id": "83512d9a",
   "metadata": {},
   "outputs": [
    {
     "data": {
      "text/plain": [
       "array([ 0,  1,  2,  3,  4,  5,  6,  7,  8,  9, 10])"
      ]
     },
     "execution_count": 61,
     "metadata": {},
     "output_type": "execute_result"
    }
   ],
   "source": [
    "arr = np.arange(0, 11)\n",
    "arr"
   ]
  },
  {
   "cell_type": "code",
   "execution_count": 62,
   "id": "51d83211",
   "metadata": {},
   "outputs": [
    {
     "data": {
      "text/plain": [
       "8"
      ]
     },
     "execution_count": 62,
     "metadata": {},
     "output_type": "execute_result"
    }
   ],
   "source": [
    "# получение 1 элемента \n",
    "arr[8]"
   ]
  },
  {
   "cell_type": "code",
   "execution_count": 63,
   "id": "6477c0b4",
   "metadata": {},
   "outputs": [
    {
     "data": {
      "text/plain": [
       "array([1, 2, 3, 4])"
      ]
     },
     "execution_count": 63,
     "metadata": {},
     "output_type": "execute_result"
    }
   ],
   "source": [
    "# срезы такие же как в списках \n",
    "arr[1:5]"
   ]
  },
  {
   "cell_type": "markdown",
   "id": "59ef9205",
   "metadata": {},
   "source": [
    "### Операции broadcast "
   ]
  },
  {
   "cell_type": "markdown",
   "id": "2a4278e0",
   "metadata": {},
   "source": [
    "Это отличительная особенность numpy-списков по сравнению с обычными;\n",
    "\n",
    "в обычных массивах мы мж менять только по 1 элементу или передать объект, соразмерный размеру заменяемого куска;\n",
    "\n",
    "в numpy мы 1 элементом мж заменить сразу все."
   ]
  },
  {
   "cell_type": "markdown",
   "id": "6200e090",
   "metadata": {},
   "source": [
    "#### Одномерные массивы "
   ]
  },
  {
   "cell_type": "code",
   "execution_count": 64,
   "id": "b6f48ce3",
   "metadata": {},
   "outputs": [
    {
     "data": {
      "text/plain": [
       "array([ 0,  1,  2,  3,  4,  5,  6,  7,  8,  9, 10])"
      ]
     },
     "execution_count": 64,
     "metadata": {},
     "output_type": "execute_result"
    }
   ],
   "source": [
    "arr"
   ]
  },
  {
   "cell_type": "code",
   "execution_count": 65,
   "id": "1a4bb598",
   "metadata": {},
   "outputs": [
    {
     "data": {
      "text/plain": [
       "array([100, 100, 100, 100, 100,   5,   6,   7,   8,   9,  10])"
      ]
     },
     "execution_count": 65,
     "metadata": {},
     "output_type": "execute_result"
    }
   ],
   "source": [
    "# broadcasting - присвоение 1 значения сраз многим \n",
    "arr[0:5] = 100\n",
    "arr"
   ]
  },
  {
   "cell_type": "code",
   "execution_count": 66,
   "id": "3c07e8c5",
   "metadata": {},
   "outputs": [],
   "source": [
    "arr = np.arange(0, 11)\n",
    "\n",
    "# slice_of_arr содержит ссылку на исходный массив \n",
    "slice_of_arr = arr[0:5]"
   ]
  },
  {
   "cell_type": "code",
   "execution_count": 67,
   "id": "0bcec463",
   "metadata": {},
   "outputs": [
    {
     "data": {
      "text/plain": [
       "array([99, 99, 99, 99, 99])"
      ]
     },
     "execution_count": 67,
     "metadata": {},
     "output_type": "execute_result"
    }
   ],
   "source": [
    "slice_of_arr[:] = 99\n",
    "slice_of_arr"
   ]
  },
  {
   "cell_type": "code",
   "execution_count": 68,
   "id": "80389f84",
   "metadata": {},
   "outputs": [
    {
     "data": {
      "text/plain": [
       "array([99, 99, 99, 99, 99,  5,  6,  7,  8,  9, 10])"
      ]
     },
     "execution_count": 68,
     "metadata": {},
     "output_type": "execute_result"
    }
   ],
   "source": [
    "arr\n",
    "\n",
    "# любые изменения по ссылку будут приводить к изменениям в исходном массиве "
   ]
  },
  {
   "cell_type": "code",
   "execution_count": 70,
   "id": "533f4f1d",
   "metadata": {},
   "outputs": [
    {
     "name": "stdout",
     "output_type": "stream",
     "text": [
      "[99 60 60 60 60]\n",
      "[99 99 99 99 99  5  6  7  8  9 10]\n"
     ]
    }
   ],
   "source": [
    "# как не менять исходный объект? - только через копию copy()\n",
    "\n",
    "arr_copy = arr.copy()\n",
    "slice2 = arr_copy[0:5]\n",
    "slice2[1:] = 60\n",
    "print(slice2)\n",
    "print(arr)"
   ]
  },
  {
   "cell_type": "markdown",
   "id": "4f50d4f7",
   "metadata": {},
   "source": [
    "#### Двумерные массивы "
   ]
  },
  {
   "cell_type": "code",
   "execution_count": 73,
   "id": "07af03b3",
   "metadata": {},
   "outputs": [
    {
     "data": {
      "text/plain": [
       "array([[ 5, 10, 15],\n",
       "       [20, 25, 30],\n",
       "       [35, 40, 45]])"
      ]
     },
     "execution_count": 73,
     "metadata": {},
     "output_type": "execute_result"
    }
   ],
   "source": [
    "arr_2d = np.array([[5,10,15], [20,25,30], [35,40,45]])\n",
    "arr_2d"
   ]
  },
  {
   "cell_type": "code",
   "execution_count": 74,
   "id": "19e1ad05",
   "metadata": {},
   "outputs": [
    {
     "data": {
      "text/plain": [
       "(3, 3)"
      ]
     },
     "execution_count": 74,
     "metadata": {},
     "output_type": "execute_result"
    }
   ],
   "source": [
    "arr_2d.shape"
   ]
  },
  {
   "cell_type": "code",
   "execution_count": 76,
   "id": "68e0db45",
   "metadata": {},
   "outputs": [
    {
     "data": {
      "text/plain": [
       "45"
      ]
     },
     "execution_count": 76,
     "metadata": {},
     "output_type": "execute_result"
    }
   ],
   "source": [
    "arr_2d[2][2]"
   ]
  },
  {
   "cell_type": "code",
   "execution_count": 77,
   "id": "e5ffa7d7",
   "metadata": {},
   "outputs": [
    {
     "data": {
      "text/plain": [
       "45"
      ]
     },
     "execution_count": 77,
     "metadata": {},
     "output_type": "execute_result"
    }
   ],
   "source": [
    "arr_2d[2,2]\n",
    "\n",
    "# и та, и другая записи валидны "
   ]
  },
  {
   "cell_type": "code",
   "execution_count": 78,
   "id": "67c6aa6f",
   "metadata": {},
   "outputs": [
    {
     "data": {
      "text/plain": [
       "array([[10, 15],\n",
       "       [25, 30]])"
      ]
     },
     "execution_count": 78,
     "metadata": {},
     "output_type": "execute_result"
    }
   ],
   "source": [
    "# получение среза из матрицы \n",
    "# сначала надо срез по строкам, потом срез по столбцам \n",
    "\n",
    "arr_2d[:2, 1:]"
   ]
  },
  {
   "cell_type": "markdown",
   "id": "1ba1fc4f",
   "metadata": {},
   "source": [
    "### Conditional selection "
   ]
  },
  {
   "cell_type": "code",
   "execution_count": 80,
   "id": "bbf6e30b",
   "metadata": {},
   "outputs": [
    {
     "data": {
      "text/plain": [
       "array([ 1,  2,  3,  4,  5,  6,  7,  8,  9, 10])"
      ]
     },
     "execution_count": 80,
     "metadata": {},
     "output_type": "execute_result"
    }
   ],
   "source": [
    "# выбор по условию\n",
    "\n",
    "arr = np.arange(1, 11)\n",
    "arr"
   ]
  },
  {
   "cell_type": "code",
   "execution_count": 81,
   "id": "c0c450d4",
   "metadata": {},
   "outputs": [
    {
     "data": {
      "text/plain": [
       "array([False, False, False, False,  True,  True,  True,  True,  True,\n",
       "        True])"
      ]
     },
     "execution_count": 81,
     "metadata": {},
     "output_type": "execute_result"
    }
   ],
   "source": [
    "# офигеть!\n",
    "arr > 4"
   ]
  },
  {
   "cell_type": "code",
   "execution_count": 82,
   "id": "5e3f95b5",
   "metadata": {},
   "outputs": [
    {
     "data": {
      "text/plain": [
       "array([ 5,  6,  7,  8,  9, 10])"
      ]
     },
     "execution_count": 82,
     "metadata": {},
     "output_type": "execute_result"
    }
   ],
   "source": [
    "bool_arr = arr > 4\n",
    "arr[bool_arr]\n",
    "\n",
    "# это нужно для фильтрации данных (МАГИЯ!)"
   ]
  },
  {
   "cell_type": "code",
   "execution_count": 83,
   "id": "63c61675",
   "metadata": {},
   "outputs": [
    {
     "data": {
      "text/plain": [
       "array([ 5,  6,  7,  8,  9, 10])"
      ]
     },
     "execution_count": 83,
     "metadata": {},
     "output_type": "execute_result"
    }
   ],
   "source": [
    "arr[arr >= 5]"
   ]
  },
  {
   "cell_type": "markdown",
   "id": "57085d51",
   "metadata": {},
   "source": [
    "## Операции с массивами NumPy"
   ]
  },
  {
   "cell_type": "code",
   "execution_count": 84,
   "id": "95a1d2e6",
   "metadata": {},
   "outputs": [],
   "source": [
    "import numpy as np"
   ]
  },
  {
   "cell_type": "code",
   "execution_count": 85,
   "id": "8f4bd352",
   "metadata": {},
   "outputs": [
    {
     "data": {
      "text/plain": [
       "array([0, 1, 2, 3, 4, 5, 6, 7, 8, 9])"
      ]
     },
     "execution_count": 85,
     "metadata": {},
     "output_type": "execute_result"
    }
   ],
   "source": [
    "arr = np.arange(0, 10)\n",
    "arr"
   ]
  },
  {
   "cell_type": "code",
   "execution_count": 86,
   "id": "588c5fe2",
   "metadata": {},
   "outputs": [
    {
     "data": {
      "text/plain": [
       "array([ 5,  6,  7,  8,  9, 10, 11, 12, 13, 14])"
      ]
     },
     "execution_count": 86,
     "metadata": {},
     "output_type": "execute_result"
    }
   ],
   "source": [
    "# прибавление произойдет ко всем элементам массива \n",
    "arr + 5"
   ]
  },
  {
   "cell_type": "code",
   "execution_count": 87,
   "id": "940ade69",
   "metadata": {},
   "outputs": [
    {
     "data": {
      "text/plain": [
       "array([ 0,  2,  4,  6,  8, 10, 12, 14, 16, 18])"
      ]
     },
     "execution_count": 87,
     "metadata": {},
     "output_type": "execute_result"
    }
   ],
   "source": [
    "# массивы могут +, -, * и тп только в случае одинаковой размерости \n",
    "arr + arr"
   ]
  },
  {
   "cell_type": "code",
   "execution_count": 88,
   "id": "85542e62",
   "metadata": {},
   "outputs": [
    {
     "name": "stderr",
     "output_type": "stream",
     "text": [
      "C:\\Users\\User\\anaconda3\\envs\\ML_Course_Python\\lib\\site-packages\\ipykernel_launcher.py:1: RuntimeWarning: invalid value encountered in true_divide\n",
      "  \"\"\"Entry point for launching an IPython kernel.\n"
     ]
    },
    {
     "data": {
      "text/plain": [
       "array([nan,  1.,  1.,  1.,  1.,  1.,  1.,  1.,  1.,  1.])"
      ]
     },
     "execution_count": 88,
     "metadata": {},
     "output_type": "execute_result"
    }
   ],
   "source": [
    "# здесь 0/0 выдает nan = not a number + предупреждение \n",
    "# хотя в целом операция выполняется \n",
    "arr / arr"
   ]
  },
  {
   "cell_type": "markdown",
   "id": "5e5a22e4",
   "metadata": {},
   "source": [
    "### Особенности при делениии на 0 (inf, nan)"
   ]
  },
  {
   "cell_type": "code",
   "execution_count": 89,
   "id": "f0db7258",
   "metadata": {},
   "outputs": [
    {
     "ename": "ZeroDivisionError",
     "evalue": "division by zero",
     "output_type": "error",
     "traceback": [
      "\u001b[1;31m---------------------------------------------------------------------------\u001b[0m",
      "\u001b[1;31mZeroDivisionError\u001b[0m                         Traceback (most recent call last)",
      "\u001b[1;32m~\\AppData\\Local\\Temp\\ipykernel_8048\\1455669704.py\u001b[0m in \u001b[0;36m<module>\u001b[1;34m\u001b[0m\n\u001b[1;32m----> 1\u001b[1;33m \u001b[1;36m1\u001b[0m \u001b[1;33m/\u001b[0m \u001b[1;36m0\u001b[0m\u001b[1;33m\u001b[0m\u001b[0m\n\u001b[0m",
      "\u001b[1;31mZeroDivisionError\u001b[0m: division by zero"
     ]
    }
   ],
   "source": [
    "# в обычном питоне при делении на 0 происходит ошибка \n",
    "1 / 0"
   ]
  },
  {
   "cell_type": "code",
   "execution_count": 90,
   "id": "f4dc6386",
   "metadata": {},
   "outputs": [
    {
     "name": "stderr",
     "output_type": "stream",
     "text": [
      "C:\\Users\\User\\anaconda3\\envs\\ML_Course_Python\\lib\\site-packages\\ipykernel_launcher.py:1: RuntimeWarning: divide by zero encountered in true_divide\n",
      "  \"\"\"Entry point for launching an IPython kernel.\n"
     ]
    },
    {
     "data": {
      "text/plain": [
       "array([       inf, 1.        , 0.5       , 0.33333333, 0.25      ,\n",
       "       0.2       , 0.16666667, 0.14285714, 0.125     , 0.11111111])"
      ]
     },
     "execution_count": 90,
     "metadata": {},
     "output_type": "execute_result"
    }
   ],
   "source": [
    "# здесь при делении 1 на 0 - будет inf (бесконечность)\n",
    "1 / arr"
   ]
  },
  {
   "cell_type": "markdown",
   "id": "abe74f17",
   "metadata": {},
   "source": [
    "### Спец функции "
   ]
  },
  {
   "cell_type": "code",
   "execution_count": 91,
   "id": "25ddf28b",
   "metadata": {},
   "outputs": [
    {
     "data": {
      "text/plain": [
       "array([0.        , 1.        , 1.41421356, 1.73205081, 2.        ,\n",
       "       2.23606798, 2.44948974, 2.64575131, 2.82842712, 3.        ])"
      ]
     },
     "execution_count": 91,
     "metadata": {},
     "output_type": "execute_result"
    }
   ],
   "source": [
    "# взятие корня из каждого элемента \n",
    "np.sqrt(arr)"
   ]
  },
  {
   "cell_type": "code",
   "execution_count": 92,
   "id": "828eb295",
   "metadata": {},
   "outputs": [
    {
     "name": "stderr",
     "output_type": "stream",
     "text": [
      "C:\\Users\\User\\anaconda3\\envs\\ML_Course_Python\\lib\\site-packages\\ipykernel_launcher.py:2: RuntimeWarning: divide by zero encountered in log\n",
      "  \n"
     ]
    },
    {
     "data": {
      "text/plain": [
       "array([      -inf, 0.        , 0.69314718, 1.09861229, 1.38629436,\n",
       "       1.60943791, 1.79175947, 1.94591015, 2.07944154, 2.19722458])"
      ]
     },
     "execution_count": 92,
     "metadata": {},
     "output_type": "execute_result"
    }
   ],
   "source": [
    "# взятие логарифма от каждого элемента \n",
    "np.log(arr)\n",
    "\n",
    "# здесь тоже возникает предупреждение, связанное с 0"
   ]
  },
  {
   "cell_type": "markdown",
   "id": "136224a1",
   "metadata": {},
   "source": [
    "### Статистич функции "
   ]
  },
  {
   "cell_type": "code",
   "execution_count": 94,
   "id": "cc2c2dd2",
   "metadata": {},
   "outputs": [
    {
     "data": {
      "text/plain": [
       "array([0, 1, 2, 3, 4, 5, 6, 7, 8, 9])"
      ]
     },
     "execution_count": 94,
     "metadata": {},
     "output_type": "execute_result"
    }
   ],
   "source": [
    "arr"
   ]
  },
  {
   "cell_type": "code",
   "execution_count": 93,
   "id": "086b876a",
   "metadata": {},
   "outputs": [
    {
     "data": {
      "text/plain": [
       "4.5"
      ]
     },
     "execution_count": 93,
     "metadata": {},
     "output_type": "execute_result"
    }
   ],
   "source": [
    "# взятие среднего от всех элементов \n",
    "arr.mean()"
   ]
  },
  {
   "cell_type": "code",
   "execution_count": 95,
   "id": "97b27554",
   "metadata": {},
   "outputs": [
    {
     "data": {
      "text/plain": [
       "8.25"
      ]
     },
     "execution_count": 95,
     "metadata": {},
     "output_type": "execute_result"
    }
   ],
   "source": [
    "# дисперсия \n",
    "arr.var()"
   ]
  },
  {
   "cell_type": "code",
   "execution_count": 96,
   "id": "668fe321",
   "metadata": {},
   "outputs": [
    {
     "data": {
      "text/plain": [
       "2.8722813232690143"
      ]
     },
     "execution_count": 96,
     "metadata": {},
     "output_type": "execute_result"
    }
   ],
   "source": [
    "# среднекв отклонение \n",
    "arr.std()"
   ]
  },
  {
   "cell_type": "markdown",
   "id": "575504af",
   "metadata": {},
   "source": [
    "### Работа с двумерными массивами (матрицами)"
   ]
  },
  {
   "cell_type": "code",
   "execution_count": 97,
   "id": "befb1c06",
   "metadata": {},
   "outputs": [
    {
     "data": {
      "text/plain": [
       "array([[ 0,  1,  2,  3,  4],\n",
       "       [ 5,  6,  7,  8,  9],\n",
       "       [10, 11, 12, 13, 14],\n",
       "       [15, 16, 17, 18, 19],\n",
       "       [20, 21, 22, 23, 24]])"
      ]
     },
     "execution_count": 97,
     "metadata": {},
     "output_type": "execute_result"
    }
   ],
   "source": [
    "mtr = np.arange(0,25).reshape(5, 5)\n",
    "mtr"
   ]
  },
  {
   "cell_type": "code",
   "execution_count": 98,
   "id": "7ccec4e9",
   "metadata": {},
   "outputs": [
    {
     "data": {
      "text/plain": [
       "300"
      ]
     },
     "execution_count": 98,
     "metadata": {},
     "output_type": "execute_result"
    }
   ],
   "source": [
    "# сумма всех элементов матрицы \n",
    "mtr.sum()"
   ]
  },
  {
   "cell_type": "code",
   "execution_count": 99,
   "id": "54706153",
   "metadata": {},
   "outputs": [
    {
     "data": {
      "text/plain": [
       "array([50, 55, 60, 65, 70])"
      ]
     },
     "execution_count": 99,
     "metadata": {},
     "output_type": "execute_result"
    }
   ],
   "source": [
    "# сумма по каждой колонке \n",
    "mtr.sum(axis = 0) # указываем 0, так как тип строки исчезают "
   ]
  },
  {
   "cell_type": "code",
   "execution_count": 100,
   "id": "8fa7c999",
   "metadata": {},
   "outputs": [
    {
     "data": {
      "text/plain": [
       "array([ 10,  35,  60,  85, 110])"
      ]
     },
     "execution_count": 100,
     "metadata": {},
     "output_type": "execute_result"
    }
   ],
   "source": [
    "# сумма по каждой строке \n",
    "mtr.sum(axis = 1) "
   ]
  },
  {
   "cell_type": "code",
   "execution_count": null,
   "id": "654cb1f4",
   "metadata": {},
   "outputs": [],
   "source": []
  }
 ],
 "metadata": {
  "kernelspec": {
   "display_name": "Python 3 (ipykernel)",
   "language": "python",
   "name": "python3"
  },
  "language_info": {
   "codemirror_mode": {
    "name": "ipython",
    "version": 3
   },
   "file_extension": ".py",
   "mimetype": "text/x-python",
   "name": "python",
   "nbconvert_exporter": "python",
   "pygments_lexer": "ipython3",
   "version": "3.9.7"
  }
 },
 "nbformat": 4,
 "nbformat_minor": 5
}
