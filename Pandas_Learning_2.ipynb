{
 "cells": [
  {
   "cell_type": "markdown",
   "id": "a619ba77",
   "metadata": {},
   "source": [
    "### Задание практическое по Pandas "
   ]
  },
  {
   "cell_type": "code",
   "execution_count": 2,
   "id": "d92bddca",
   "metadata": {},
   "outputs": [],
   "source": [
    "import numpy as np\n",
    "import pandas as pd"
   ]
  },
  {
   "cell_type": "code",
   "execution_count": 25,
   "id": "35f2e6bb",
   "metadata": {},
   "outputs": [
    {
     "data": {
      "text/html": [
       "<div>\n",
       "<style scoped>\n",
       "    .dataframe tbody tr th:only-of-type {\n",
       "        vertical-align: middle;\n",
       "    }\n",
       "\n",
       "    .dataframe tbody tr th {\n",
       "        vertical-align: top;\n",
       "    }\n",
       "\n",
       "    .dataframe thead th {\n",
       "        text-align: right;\n",
       "    }\n",
       "</style>\n",
       "<table border=\"1\" class=\"dataframe\">\n",
       "  <thead>\n",
       "    <tr style=\"text-align: right;\">\n",
       "      <th></th>\n",
       "      <th>Date</th>\n",
       "      <th>Store</th>\n",
       "      <th>Product</th>\n",
       "      <th>Sales</th>\n",
       "      <th>Expenses</th>\n",
       "      <th>City</th>\n",
       "    </tr>\n",
       "  </thead>\n",
       "  <tbody>\n",
       "    <tr>\n",
       "      <th>0</th>\n",
       "      <td>2023-10-01</td>\n",
       "      <td>A</td>\n",
       "      <td>Product1</td>\n",
       "      <td>500</td>\n",
       "      <td>200</td>\n",
       "      <td>New York</td>\n",
       "    </tr>\n",
       "    <tr>\n",
       "      <th>1</th>\n",
       "      <td>2023-10-01</td>\n",
       "      <td>B</td>\n",
       "      <td>Product2</td>\n",
       "      <td>800</td>\n",
       "      <td>300</td>\n",
       "      <td>Los Angeles</td>\n",
       "    </tr>\n",
       "    <tr>\n",
       "      <th>2</th>\n",
       "      <td>2023-10-02</td>\n",
       "      <td>A</td>\n",
       "      <td>Product1</td>\n",
       "      <td>600</td>\n",
       "      <td>250</td>\n",
       "      <td>New York</td>\n",
       "    </tr>\n",
       "    <tr>\n",
       "      <th>3</th>\n",
       "      <td>2023-10-02</td>\n",
       "      <td>B</td>\n",
       "      <td>Product2</td>\n",
       "      <td>750</td>\n",
       "      <td>280</td>\n",
       "      <td>Los Angeles</td>\n",
       "    </tr>\n",
       "    <tr>\n",
       "      <th>4</th>\n",
       "      <td>2023-10-03</td>\n",
       "      <td>A</td>\n",
       "      <td>Product1</td>\n",
       "      <td>550</td>\n",
       "      <td>220</td>\n",
       "      <td>New York</td>\n",
       "    </tr>\n",
       "    <tr>\n",
       "      <th>5</th>\n",
       "      <td>2023-10-03</td>\n",
       "      <td>B</td>\n",
       "      <td>Product2</td>\n",
       "      <td>900</td>\n",
       "      <td>350</td>\n",
       "      <td>Los Angeles</td>\n",
       "    </tr>\n",
       "    <tr>\n",
       "      <th>6</th>\n",
       "      <td>2023-10-01</td>\n",
       "      <td>C</td>\n",
       "      <td>Product1</td>\n",
       "      <td>700</td>\n",
       "      <td>280</td>\n",
       "      <td>San Francisco</td>\n",
       "    </tr>\n",
       "    <tr>\n",
       "      <th>7</th>\n",
       "      <td>2023-10-01</td>\n",
       "      <td>C</td>\n",
       "      <td>Product2</td>\n",
       "      <td>950</td>\n",
       "      <td>350</td>\n",
       "      <td>San Francisco</td>\n",
       "    </tr>\n",
       "    <tr>\n",
       "      <th>8</th>\n",
       "      <td>2023-10-02</td>\n",
       "      <td>C</td>\n",
       "      <td>Product1</td>\n",
       "      <td>600</td>\n",
       "      <td>240</td>\n",
       "      <td>San Francisco</td>\n",
       "    </tr>\n",
       "    <tr>\n",
       "      <th>9</th>\n",
       "      <td>2023-10-02</td>\n",
       "      <td>C</td>\n",
       "      <td>Product2</td>\n",
       "      <td>850</td>\n",
       "      <td>320</td>\n",
       "      <td>San Francisco</td>\n",
       "    </tr>\n",
       "    <tr>\n",
       "      <th>10</th>\n",
       "      <td>2023-10-03</td>\n",
       "      <td>C</td>\n",
       "      <td>Product1</td>\n",
       "      <td>750</td>\n",
       "      <td>290</td>\n",
       "      <td>San Francisco</td>\n",
       "    </tr>\n",
       "    <tr>\n",
       "      <th>11</th>\n",
       "      <td>2023-10-03</td>\n",
       "      <td>C</td>\n",
       "      <td>Product2</td>\n",
       "      <td>1000</td>\n",
       "      <td>400</td>\n",
       "      <td>San Francisco</td>\n",
       "    </tr>\n",
       "  </tbody>\n",
       "</table>\n",
       "</div>"
      ],
      "text/plain": [
       "          Date Store   Product  Sales  Expenses           City\n",
       "0   2023-10-01     A  Product1    500       200       New York\n",
       "1   2023-10-01     B  Product2    800       300    Los Angeles\n",
       "2   2023-10-02     A  Product1    600       250       New York\n",
       "3   2023-10-02     B  Product2    750       280    Los Angeles\n",
       "4   2023-10-03     A  Product1    550       220       New York\n",
       "5   2023-10-03     B  Product2    900       350    Los Angeles\n",
       "6   2023-10-01     C  Product1    700       280  San Francisco\n",
       "7   2023-10-01     C  Product2    950       350  San Francisco\n",
       "8   2023-10-02     C  Product1    600       240  San Francisco\n",
       "9   2023-10-02     C  Product2    850       320  San Francisco\n",
       "10  2023-10-03     C  Product1    750       290  San Francisco\n",
       "11  2023-10-03     C  Product2   1000       400  San Francisco"
      ]
     },
     "execution_count": 25,
     "metadata": {},
     "output_type": "execute_result"
    }
   ],
   "source": [
    "df = pd.read_csv('products.csv')\n",
    "df"
   ]
  },
  {
   "cell_type": "markdown",
   "id": "448fd763",
   "metadata": {},
   "source": [
    "1) Проведите предварительный анализ данных: \n",
    "\n",
    "выведите первые несколько строк таблицы, определите, какие столбцы есть в наборе данных, и проверьте наличие пропущенных значений."
   ]
  },
  {
   "cell_type": "code",
   "execution_count": 26,
   "id": "60f983e4",
   "metadata": {},
   "outputs": [
    {
     "data": {
      "text/html": [
       "<div>\n",
       "<style scoped>\n",
       "    .dataframe tbody tr th:only-of-type {\n",
       "        vertical-align: middle;\n",
       "    }\n",
       "\n",
       "    .dataframe tbody tr th {\n",
       "        vertical-align: top;\n",
       "    }\n",
       "\n",
       "    .dataframe thead th {\n",
       "        text-align: right;\n",
       "    }\n",
       "</style>\n",
       "<table border=\"1\" class=\"dataframe\">\n",
       "  <thead>\n",
       "    <tr style=\"text-align: right;\">\n",
       "      <th></th>\n",
       "      <th>Date</th>\n",
       "      <th>Store</th>\n",
       "      <th>Product</th>\n",
       "      <th>Sales</th>\n",
       "      <th>Expenses</th>\n",
       "      <th>City</th>\n",
       "    </tr>\n",
       "  </thead>\n",
       "  <tbody>\n",
       "    <tr>\n",
       "      <th>0</th>\n",
       "      <td>2023-10-01</td>\n",
       "      <td>A</td>\n",
       "      <td>Product1</td>\n",
       "      <td>500</td>\n",
       "      <td>200</td>\n",
       "      <td>New York</td>\n",
       "    </tr>\n",
       "    <tr>\n",
       "      <th>1</th>\n",
       "      <td>2023-10-01</td>\n",
       "      <td>B</td>\n",
       "      <td>Product2</td>\n",
       "      <td>800</td>\n",
       "      <td>300</td>\n",
       "      <td>Los Angeles</td>\n",
       "    </tr>\n",
       "    <tr>\n",
       "      <th>2</th>\n",
       "      <td>2023-10-02</td>\n",
       "      <td>A</td>\n",
       "      <td>Product1</td>\n",
       "      <td>600</td>\n",
       "      <td>250</td>\n",
       "      <td>New York</td>\n",
       "    </tr>\n",
       "    <tr>\n",
       "      <th>3</th>\n",
       "      <td>2023-10-02</td>\n",
       "      <td>B</td>\n",
       "      <td>Product2</td>\n",
       "      <td>750</td>\n",
       "      <td>280</td>\n",
       "      <td>Los Angeles</td>\n",
       "    </tr>\n",
       "    <tr>\n",
       "      <th>4</th>\n",
       "      <td>2023-10-03</td>\n",
       "      <td>A</td>\n",
       "      <td>Product1</td>\n",
       "      <td>550</td>\n",
       "      <td>220</td>\n",
       "      <td>New York</td>\n",
       "    </tr>\n",
       "  </tbody>\n",
       "</table>\n",
       "</div>"
      ],
      "text/plain": [
       "         Date Store   Product  Sales  Expenses         City\n",
       "0  2023-10-01     A  Product1    500       200     New York\n",
       "1  2023-10-01     B  Product2    800       300  Los Angeles\n",
       "2  2023-10-02     A  Product1    600       250     New York\n",
       "3  2023-10-02     B  Product2    750       280  Los Angeles\n",
       "4  2023-10-03     A  Product1    550       220     New York"
      ]
     },
     "execution_count": 26,
     "metadata": {},
     "output_type": "execute_result"
    }
   ],
   "source": [
    "df.head(5)"
   ]
  },
  {
   "cell_type": "code",
   "execution_count": 27,
   "id": "fb621c82",
   "metadata": {},
   "outputs": [
    {
     "data": {
      "text/plain": [
       "Index(['Date', 'Store', 'Product', 'Sales', 'Expenses', 'City'], dtype='object')"
      ]
     },
     "execution_count": 27,
     "metadata": {},
     "output_type": "execute_result"
    }
   ],
   "source": [
    "df.columns"
   ]
  },
  {
   "cell_type": "code",
   "execution_count": 28,
   "id": "eaa87fdb",
   "metadata": {},
   "outputs": [
    {
     "data": {
      "text/html": [
       "<div>\n",
       "<style scoped>\n",
       "    .dataframe tbody tr th:only-of-type {\n",
       "        vertical-align: middle;\n",
       "    }\n",
       "\n",
       "    .dataframe tbody tr th {\n",
       "        vertical-align: top;\n",
       "    }\n",
       "\n",
       "    .dataframe thead th {\n",
       "        text-align: right;\n",
       "    }\n",
       "</style>\n",
       "<table border=\"1\" class=\"dataframe\">\n",
       "  <thead>\n",
       "    <tr style=\"text-align: right;\">\n",
       "      <th></th>\n",
       "      <th>Date</th>\n",
       "      <th>Store</th>\n",
       "      <th>Product</th>\n",
       "      <th>Sales</th>\n",
       "      <th>Expenses</th>\n",
       "      <th>City</th>\n",
       "    </tr>\n",
       "  </thead>\n",
       "  <tbody>\n",
       "    <tr>\n",
       "      <th>0</th>\n",
       "      <td>False</td>\n",
       "      <td>False</td>\n",
       "      <td>False</td>\n",
       "      <td>False</td>\n",
       "      <td>False</td>\n",
       "      <td>False</td>\n",
       "    </tr>\n",
       "    <tr>\n",
       "      <th>1</th>\n",
       "      <td>False</td>\n",
       "      <td>False</td>\n",
       "      <td>False</td>\n",
       "      <td>False</td>\n",
       "      <td>False</td>\n",
       "      <td>False</td>\n",
       "    </tr>\n",
       "    <tr>\n",
       "      <th>2</th>\n",
       "      <td>False</td>\n",
       "      <td>False</td>\n",
       "      <td>False</td>\n",
       "      <td>False</td>\n",
       "      <td>False</td>\n",
       "      <td>False</td>\n",
       "    </tr>\n",
       "    <tr>\n",
       "      <th>3</th>\n",
       "      <td>False</td>\n",
       "      <td>False</td>\n",
       "      <td>False</td>\n",
       "      <td>False</td>\n",
       "      <td>False</td>\n",
       "      <td>False</td>\n",
       "    </tr>\n",
       "    <tr>\n",
       "      <th>4</th>\n",
       "      <td>False</td>\n",
       "      <td>False</td>\n",
       "      <td>False</td>\n",
       "      <td>False</td>\n",
       "      <td>False</td>\n",
       "      <td>False</td>\n",
       "    </tr>\n",
       "    <tr>\n",
       "      <th>5</th>\n",
       "      <td>False</td>\n",
       "      <td>False</td>\n",
       "      <td>False</td>\n",
       "      <td>False</td>\n",
       "      <td>False</td>\n",
       "      <td>False</td>\n",
       "    </tr>\n",
       "    <tr>\n",
       "      <th>6</th>\n",
       "      <td>False</td>\n",
       "      <td>False</td>\n",
       "      <td>False</td>\n",
       "      <td>False</td>\n",
       "      <td>False</td>\n",
       "      <td>False</td>\n",
       "    </tr>\n",
       "    <tr>\n",
       "      <th>7</th>\n",
       "      <td>False</td>\n",
       "      <td>False</td>\n",
       "      <td>False</td>\n",
       "      <td>False</td>\n",
       "      <td>False</td>\n",
       "      <td>False</td>\n",
       "    </tr>\n",
       "    <tr>\n",
       "      <th>8</th>\n",
       "      <td>False</td>\n",
       "      <td>False</td>\n",
       "      <td>False</td>\n",
       "      <td>False</td>\n",
       "      <td>False</td>\n",
       "      <td>False</td>\n",
       "    </tr>\n",
       "    <tr>\n",
       "      <th>9</th>\n",
       "      <td>False</td>\n",
       "      <td>False</td>\n",
       "      <td>False</td>\n",
       "      <td>False</td>\n",
       "      <td>False</td>\n",
       "      <td>False</td>\n",
       "    </tr>\n",
       "    <tr>\n",
       "      <th>10</th>\n",
       "      <td>False</td>\n",
       "      <td>False</td>\n",
       "      <td>False</td>\n",
       "      <td>False</td>\n",
       "      <td>False</td>\n",
       "      <td>False</td>\n",
       "    </tr>\n",
       "    <tr>\n",
       "      <th>11</th>\n",
       "      <td>False</td>\n",
       "      <td>False</td>\n",
       "      <td>False</td>\n",
       "      <td>False</td>\n",
       "      <td>False</td>\n",
       "      <td>False</td>\n",
       "    </tr>\n",
       "  </tbody>\n",
       "</table>\n",
       "</div>"
      ],
      "text/plain": [
       "     Date  Store  Product  Sales  Expenses   City\n",
       "0   False  False    False  False     False  False\n",
       "1   False  False    False  False     False  False\n",
       "2   False  False    False  False     False  False\n",
       "3   False  False    False  False     False  False\n",
       "4   False  False    False  False     False  False\n",
       "5   False  False    False  False     False  False\n",
       "6   False  False    False  False     False  False\n",
       "7   False  False    False  False     False  False\n",
       "8   False  False    False  False     False  False\n",
       "9   False  False    False  False     False  False\n",
       "10  False  False    False  False     False  False\n",
       "11  False  False    False  False     False  False"
      ]
     },
     "execution_count": 28,
     "metadata": {},
     "output_type": "execute_result"
    }
   ],
   "source": [
    "df.isnull()\n",
    "\n",
    "# видим, что пропущенных значений нет "
   ]
  },
  {
   "cell_type": "markdown",
   "id": "6e60b9ac",
   "metadata": {},
   "source": [
    "2) Рассчитайте общую сумму продаж (столбец 'Sales') для каждого магазина."
   ]
  },
  {
   "cell_type": "code",
   "execution_count": 29,
   "id": "44e12f59",
   "metadata": {},
   "outputs": [
    {
     "data": {
      "text/plain": [
       "Store\n",
       "A    1650\n",
       "B    2450\n",
       "C    4850\n",
       "Name: Sales, dtype: int64"
      ]
     },
     "execution_count": 29,
     "metadata": {},
     "output_type": "execute_result"
    }
   ],
   "source": [
    "df.groupby('Store').sum()['Sales']\n",
    "\n",
    "# это получился Series Object "
   ]
  },
  {
   "cell_type": "markdown",
   "id": "79cd05f1",
   "metadata": {},
   "source": [
    "3) Определите, какой магазин совершил наибольшую продажу, и выведите информацию о этом магазине."
   ]
  },
  {
   "cell_type": "code",
   "execution_count": 30,
   "id": "7f65ee9a",
   "metadata": {},
   "outputs": [
    {
     "name": "stdout",
     "output_type": "stream",
     "text": [
      "C 4850\n"
     ]
    }
   ],
   "source": [
    "sales = df.groupby('Store').sum()['Sales']\n",
    "ind_max = sales.idxmax() # индекс максимума \n",
    "max_sales = sales[ind_max] # значение максимума по этому индексу \n",
    "print(ind_max, max_sales)"
   ]
  },
  {
   "cell_type": "markdown",
   "id": "df9e21be",
   "metadata": {},
   "source": [
    "4) Найдите среднюю цену продукта во всех магазинах."
   ]
  },
  {
   "cell_type": "code",
   "execution_count": 31,
   "id": "296d91a9",
   "metadata": {},
   "outputs": [
    {
     "data": {
      "text/plain": [
       "Store  Product \n",
       "A      Product1    550.00\n",
       "B      Product2    816.67\n",
       "C      Product1    683.33\n",
       "       Product2    933.33\n",
       "Name: Sales, dtype: float64"
      ]
     },
     "execution_count": 31,
     "metadata": {},
     "output_type": "execute_result"
    }
   ],
   "source": [
    "df.groupby(['Store', 'Product']).mean()['Sales'].round(2)"
   ]
  },
  {
   "cell_type": "markdown",
   "id": "3b268e5f",
   "metadata": {},
   "source": [
    "5) Создайте новый столбец, который будет содержать информацию о прибыли (продажи минус затраты) для каждой продажи."
   ]
  },
  {
   "cell_type": "code",
   "execution_count": 32,
   "id": "9a240925",
   "metadata": {},
   "outputs": [
    {
     "data": {
      "text/html": [
       "<div>\n",
       "<style scoped>\n",
       "    .dataframe tbody tr th:only-of-type {\n",
       "        vertical-align: middle;\n",
       "    }\n",
       "\n",
       "    .dataframe tbody tr th {\n",
       "        vertical-align: top;\n",
       "    }\n",
       "\n",
       "    .dataframe thead th {\n",
       "        text-align: right;\n",
       "    }\n",
       "</style>\n",
       "<table border=\"1\" class=\"dataframe\">\n",
       "  <thead>\n",
       "    <tr style=\"text-align: right;\">\n",
       "      <th></th>\n",
       "      <th>Date</th>\n",
       "      <th>Store</th>\n",
       "      <th>Product</th>\n",
       "      <th>Sales</th>\n",
       "      <th>Expenses</th>\n",
       "      <th>City</th>\n",
       "      <th>Profit</th>\n",
       "    </tr>\n",
       "  </thead>\n",
       "  <tbody>\n",
       "    <tr>\n",
       "      <th>0</th>\n",
       "      <td>2023-10-01</td>\n",
       "      <td>A</td>\n",
       "      <td>Product1</td>\n",
       "      <td>500</td>\n",
       "      <td>200</td>\n",
       "      <td>New York</td>\n",
       "      <td>300</td>\n",
       "    </tr>\n",
       "    <tr>\n",
       "      <th>1</th>\n",
       "      <td>2023-10-01</td>\n",
       "      <td>B</td>\n",
       "      <td>Product2</td>\n",
       "      <td>800</td>\n",
       "      <td>300</td>\n",
       "      <td>Los Angeles</td>\n",
       "      <td>500</td>\n",
       "    </tr>\n",
       "    <tr>\n",
       "      <th>2</th>\n",
       "      <td>2023-10-02</td>\n",
       "      <td>A</td>\n",
       "      <td>Product1</td>\n",
       "      <td>600</td>\n",
       "      <td>250</td>\n",
       "      <td>New York</td>\n",
       "      <td>350</td>\n",
       "    </tr>\n",
       "    <tr>\n",
       "      <th>3</th>\n",
       "      <td>2023-10-02</td>\n",
       "      <td>B</td>\n",
       "      <td>Product2</td>\n",
       "      <td>750</td>\n",
       "      <td>280</td>\n",
       "      <td>Los Angeles</td>\n",
       "      <td>470</td>\n",
       "    </tr>\n",
       "    <tr>\n",
       "      <th>4</th>\n",
       "      <td>2023-10-03</td>\n",
       "      <td>A</td>\n",
       "      <td>Product1</td>\n",
       "      <td>550</td>\n",
       "      <td>220</td>\n",
       "      <td>New York</td>\n",
       "      <td>330</td>\n",
       "    </tr>\n",
       "  </tbody>\n",
       "</table>\n",
       "</div>"
      ],
      "text/plain": [
       "         Date Store   Product  Sales  Expenses         City  Profit\n",
       "0  2023-10-01     A  Product1    500       200     New York     300\n",
       "1  2023-10-01     B  Product2    800       300  Los Angeles     500\n",
       "2  2023-10-02     A  Product1    600       250     New York     350\n",
       "3  2023-10-02     B  Product2    750       280  Los Angeles     470\n",
       "4  2023-10-03     A  Product1    550       220     New York     330"
      ]
     },
     "execution_count": 32,
     "metadata": {},
     "output_type": "execute_result"
    }
   ],
   "source": [
    "df['Profit'] = df['Sales'] - df['Expenses']\n",
    "df"
   ]
  },
  {
   "cell_type": "markdown",
   "id": "ef465d17",
   "metadata": {},
   "source": [
    "6) Определите, какой продукт принес наибольшую прибыль, и выведите информацию о нем."
   ]
  },
  {
   "cell_type": "code",
   "execution_count": 36,
   "id": "ea792083",
   "metadata": {},
   "outputs": [
    {
     "data": {
      "text/plain": [
       "Date           2023-10-01\n",
       "Store                   C\n",
       "Product          Product2\n",
       "Sales                 950\n",
       "Expenses              350\n",
       "City        San Francisco\n",
       "Profit                600\n",
       "Name: 7, dtype: object"
      ]
     },
     "execution_count": 36,
     "metadata": {},
     "output_type": "execute_result"
    }
   ],
   "source": [
    "id_max = df['Profit'].idxmax()\n",
    "df.iloc[id_max]"
   ]
  },
  {
   "cell_type": "code",
   "execution_count": null,
   "id": "99caa70e",
   "metadata": {},
   "outputs": [],
   "source": []
  },
  {
   "cell_type": "markdown",
   "id": "df4e25ba",
   "metadata": {},
   "source": [
    "7) Посчитайте суммарную прибыль для каждого магазина и определите магазин с наибольшей суммарной прибылью."
   ]
  },
  {
   "cell_type": "code",
   "execution_count": 37,
   "id": "09e7e797",
   "metadata": {},
   "outputs": [
    {
     "data": {
      "text/plain": [
       "Store\n",
       "A     980\n",
       "B    1520\n",
       "C    2970\n",
       "Name: Profit, dtype: int64"
      ]
     },
     "execution_count": 37,
     "metadata": {},
     "output_type": "execute_result"
    }
   ],
   "source": [
    "df.groupby('Store').sum()['Profit']"
   ]
  },
  {
   "cell_type": "code",
   "execution_count": 39,
   "id": "e3a5e566",
   "metadata": {},
   "outputs": [
    {
     "name": "stdout",
     "output_type": "stream",
     "text": [
      "C 2970\n"
     ]
    }
   ],
   "source": [
    "profit_series = df.groupby('Store').sum()['Profit']\n",
    "ind_max = profit_series.idxmax()\n",
    "print(ind_max, profit_series[ind_max])"
   ]
  },
  {
   "cell_type": "markdown",
   "id": "a37056dd",
   "metadata": {},
   "source": [
    "8) Рассчитайте среднюю прибыль для каждого города (если есть информация о городах) и определите город с наибольшей средней прибылью."
   ]
  },
  {
   "cell_type": "code",
   "execution_count": 42,
   "id": "ddd0bc93",
   "metadata": {},
   "outputs": [
    {
     "data": {
      "text/plain": [
       "City\n",
       "Los Angeles      506.667\n",
       "New York         326.667\n",
       "San Francisco    495.000\n",
       "Name: Profit, dtype: float64"
      ]
     },
     "execution_count": 42,
     "metadata": {},
     "output_type": "execute_result"
    }
   ],
   "source": [
    "df.groupby('City').mean()['Profit'].round(3)"
   ]
  },
  {
   "cell_type": "code",
   "execution_count": 43,
   "id": "38df91ca",
   "metadata": {},
   "outputs": [
    {
     "name": "stdout",
     "output_type": "stream",
     "text": [
      "Los Angeles 506.667\n"
     ]
    }
   ],
   "source": [
    "city_series = df.groupby('City').mean()['Profit'].round(3)\n",
    "ind_max = city_series.idxmax()\n",
    "print(ind_max, city_series[ind_max])"
   ]
  },
  {
   "cell_type": "markdown",
   "id": "1cf48db6",
   "metadata": {},
   "source": [
    "## Объединение датафреймов "
   ]
  },
  {
   "cell_type": "markdown",
   "id": "0f40da93",
   "metadata": {},
   "source": [
    "## Конкатенация "
   ]
  },
  {
   "cell_type": "markdown",
   "id": "07362ccc",
   "metadata": {},
   "source": [
    "Когда оба датафрейма имеют одинаковый формат (оба csv или другой), то их очень просто объединить  через конкатенацию pd.concat()\n",
    "\n",
    "2 вида конкатенации:\n",
    "\n",
    "-- Конкатенация по колонкам (строки в 2 датафреймах должны быть одинаковые)\n",
    "\n",
    "-- Конкатенация по строкам (одинаковые колонки дб у 2х датафреймов)"
   ]
  },
  {
   "cell_type": "code",
   "execution_count": 2,
   "id": "418aa2a6",
   "metadata": {},
   "outputs": [],
   "source": [
    "import numpy as np\n",
    "import pandas as pd"
   ]
  },
  {
   "cell_type": "code",
   "execution_count": 45,
   "id": "f06a650d",
   "metadata": {},
   "outputs": [],
   "source": [
    "data_one = {'A': ['A0', 'A1', 'A2', 'A3'], 'B': ['B0', 'B1', 'B2', 'B3']}\n",
    "\n",
    "data_two = {'C': ['C0', 'C1', 'C2', 'C3'], 'D': ['D0', 'D1', 'D2', 'D3']}\n",
    "\n",
    "df_one = pd.DataFrame(data_one)\n",
    "df_two = pd.DataFrame(data_two)"
   ]
  },
  {
   "cell_type": "code",
   "execution_count": 46,
   "id": "913128f4",
   "metadata": {},
   "outputs": [
    {
     "data": {
      "text/html": [
       "<div>\n",
       "<style scoped>\n",
       "    .dataframe tbody tr th:only-of-type {\n",
       "        vertical-align: middle;\n",
       "    }\n",
       "\n",
       "    .dataframe tbody tr th {\n",
       "        vertical-align: top;\n",
       "    }\n",
       "\n",
       "    .dataframe thead th {\n",
       "        text-align: right;\n",
       "    }\n",
       "</style>\n",
       "<table border=\"1\" class=\"dataframe\">\n",
       "  <thead>\n",
       "    <tr style=\"text-align: right;\">\n",
       "      <th></th>\n",
       "      <th>A</th>\n",
       "      <th>B</th>\n",
       "    </tr>\n",
       "  </thead>\n",
       "  <tbody>\n",
       "    <tr>\n",
       "      <th>0</th>\n",
       "      <td>A0</td>\n",
       "      <td>B0</td>\n",
       "    </tr>\n",
       "    <tr>\n",
       "      <th>1</th>\n",
       "      <td>A1</td>\n",
       "      <td>B1</td>\n",
       "    </tr>\n",
       "    <tr>\n",
       "      <th>2</th>\n",
       "      <td>A2</td>\n",
       "      <td>B2</td>\n",
       "    </tr>\n",
       "    <tr>\n",
       "      <th>3</th>\n",
       "      <td>A3</td>\n",
       "      <td>B3</td>\n",
       "    </tr>\n",
       "  </tbody>\n",
       "</table>\n",
       "</div>"
      ],
      "text/plain": [
       "    A   B\n",
       "0  A0  B0\n",
       "1  A1  B1\n",
       "2  A2  B2\n",
       "3  A3  B3"
      ]
     },
     "execution_count": 46,
     "metadata": {},
     "output_type": "execute_result"
    }
   ],
   "source": [
    "df_one"
   ]
  },
  {
   "cell_type": "code",
   "execution_count": 47,
   "id": "1b5c0890",
   "metadata": {},
   "outputs": [
    {
     "data": {
      "text/html": [
       "<div>\n",
       "<style scoped>\n",
       "    .dataframe tbody tr th:only-of-type {\n",
       "        vertical-align: middle;\n",
       "    }\n",
       "\n",
       "    .dataframe tbody tr th {\n",
       "        vertical-align: top;\n",
       "    }\n",
       "\n",
       "    .dataframe thead th {\n",
       "        text-align: right;\n",
       "    }\n",
       "</style>\n",
       "<table border=\"1\" class=\"dataframe\">\n",
       "  <thead>\n",
       "    <tr style=\"text-align: right;\">\n",
       "      <th></th>\n",
       "      <th>C</th>\n",
       "      <th>D</th>\n",
       "    </tr>\n",
       "  </thead>\n",
       "  <tbody>\n",
       "    <tr>\n",
       "      <th>0</th>\n",
       "      <td>C0</td>\n",
       "      <td>D0</td>\n",
       "    </tr>\n",
       "    <tr>\n",
       "      <th>1</th>\n",
       "      <td>C1</td>\n",
       "      <td>D1</td>\n",
       "    </tr>\n",
       "    <tr>\n",
       "      <th>2</th>\n",
       "      <td>C2</td>\n",
       "      <td>D2</td>\n",
       "    </tr>\n",
       "    <tr>\n",
       "      <th>3</th>\n",
       "      <td>C3</td>\n",
       "      <td>D3</td>\n",
       "    </tr>\n",
       "  </tbody>\n",
       "</table>\n",
       "</div>"
      ],
      "text/plain": [
       "    C   D\n",
       "0  C0  D0\n",
       "1  C1  D1\n",
       "2  C2  D2\n",
       "3  C3  D3"
      ]
     },
     "execution_count": 47,
     "metadata": {},
     "output_type": "execute_result"
    }
   ],
   "source": [
    "df_two"
   ]
  },
  {
   "cell_type": "markdown",
   "id": "0825fb9a",
   "metadata": {},
   "source": [
    "Объединение датафреймов с одинаковыми индексами (строками) [по колонкам]"
   ]
  },
  {
   "cell_type": "code",
   "execution_count": 49,
   "id": "be308b0b",
   "metadata": {},
   "outputs": [
    {
     "data": {
      "text/html": [
       "<div>\n",
       "<style scoped>\n",
       "    .dataframe tbody tr th:only-of-type {\n",
       "        vertical-align: middle;\n",
       "    }\n",
       "\n",
       "    .dataframe tbody tr th {\n",
       "        vertical-align: top;\n",
       "    }\n",
       "\n",
       "    .dataframe thead th {\n",
       "        text-align: right;\n",
       "    }\n",
       "</style>\n",
       "<table border=\"1\" class=\"dataframe\">\n",
       "  <thead>\n",
       "    <tr style=\"text-align: right;\">\n",
       "      <th></th>\n",
       "      <th>A</th>\n",
       "      <th>B</th>\n",
       "      <th>C</th>\n",
       "      <th>D</th>\n",
       "    </tr>\n",
       "  </thead>\n",
       "  <tbody>\n",
       "    <tr>\n",
       "      <th>0</th>\n",
       "      <td>A0</td>\n",
       "      <td>B0</td>\n",
       "      <td>C0</td>\n",
       "      <td>D0</td>\n",
       "    </tr>\n",
       "    <tr>\n",
       "      <th>1</th>\n",
       "      <td>A1</td>\n",
       "      <td>B1</td>\n",
       "      <td>C1</td>\n",
       "      <td>D1</td>\n",
       "    </tr>\n",
       "    <tr>\n",
       "      <th>2</th>\n",
       "      <td>A2</td>\n",
       "      <td>B2</td>\n",
       "      <td>C2</td>\n",
       "      <td>D2</td>\n",
       "    </tr>\n",
       "    <tr>\n",
       "      <th>3</th>\n",
       "      <td>A3</td>\n",
       "      <td>B3</td>\n",
       "      <td>C3</td>\n",
       "      <td>D3</td>\n",
       "    </tr>\n",
       "  </tbody>\n",
       "</table>\n",
       "</div>"
      ],
      "text/plain": [
       "    A   B   C   D\n",
       "0  A0  B0  C0  D0\n",
       "1  A1  B1  C1  D1\n",
       "2  A2  B2  C2  D2\n",
       "3  A3  B3  C3  D3"
      ]
     },
     "execution_count": 49,
     "metadata": {},
     "output_type": "execute_result"
    }
   ],
   "source": [
    "pd.concat([df_one, df_two], axis = 1)\n",
    "\n",
    "# указываем axis = 1, что значит по колонкам "
   ]
  },
  {
   "cell_type": "code",
   "execution_count": 50,
   "id": "399a23d8",
   "metadata": {},
   "outputs": [
    {
     "data": {
      "text/html": [
       "<div>\n",
       "<style scoped>\n",
       "    .dataframe tbody tr th:only-of-type {\n",
       "        vertical-align: middle;\n",
       "    }\n",
       "\n",
       "    .dataframe tbody tr th {\n",
       "        vertical-align: top;\n",
       "    }\n",
       "\n",
       "    .dataframe thead th {\n",
       "        text-align: right;\n",
       "    }\n",
       "</style>\n",
       "<table border=\"1\" class=\"dataframe\">\n",
       "  <thead>\n",
       "    <tr style=\"text-align: right;\">\n",
       "      <th></th>\n",
       "      <th>C</th>\n",
       "      <th>D</th>\n",
       "      <th>A</th>\n",
       "      <th>B</th>\n",
       "    </tr>\n",
       "  </thead>\n",
       "  <tbody>\n",
       "    <tr>\n",
       "      <th>0</th>\n",
       "      <td>C0</td>\n",
       "      <td>D0</td>\n",
       "      <td>A0</td>\n",
       "      <td>B0</td>\n",
       "    </tr>\n",
       "    <tr>\n",
       "      <th>1</th>\n",
       "      <td>C1</td>\n",
       "      <td>D1</td>\n",
       "      <td>A1</td>\n",
       "      <td>B1</td>\n",
       "    </tr>\n",
       "    <tr>\n",
       "      <th>2</th>\n",
       "      <td>C2</td>\n",
       "      <td>D2</td>\n",
       "      <td>A2</td>\n",
       "      <td>B2</td>\n",
       "    </tr>\n",
       "    <tr>\n",
       "      <th>3</th>\n",
       "      <td>C3</td>\n",
       "      <td>D3</td>\n",
       "      <td>A3</td>\n",
       "      <td>B3</td>\n",
       "    </tr>\n",
       "  </tbody>\n",
       "</table>\n",
       "</div>"
      ],
      "text/plain": [
       "    C   D   A   B\n",
       "0  C0  D0  A0  B0\n",
       "1  C1  D1  A1  B1\n",
       "2  C2  D2  A2  B2\n",
       "3  C3  D3  A3  B3"
      ]
     },
     "execution_count": 50,
     "metadata": {},
     "output_type": "execute_result"
    }
   ],
   "source": [
    "pd.concat([df_two, df_one], axis = 1)\n",
    "\n",
    "# важен порядок, в ктр мы указываем датафреймы "
   ]
  },
  {
   "cell_type": "markdown",
   "id": "1d0d935b",
   "metadata": {},
   "source": [
    "Объединение датафреймов по строкам (когда имеем одинаковые колонки)"
   ]
  },
  {
   "cell_type": "code",
   "execution_count": 51,
   "id": "b70f34fd",
   "metadata": {},
   "outputs": [
    {
     "data": {
      "text/html": [
       "<div>\n",
       "<style scoped>\n",
       "    .dataframe tbody tr th:only-of-type {\n",
       "        vertical-align: middle;\n",
       "    }\n",
       "\n",
       "    .dataframe tbody tr th {\n",
       "        vertical-align: top;\n",
       "    }\n",
       "\n",
       "    .dataframe thead th {\n",
       "        text-align: right;\n",
       "    }\n",
       "</style>\n",
       "<table border=\"1\" class=\"dataframe\">\n",
       "  <thead>\n",
       "    <tr style=\"text-align: right;\">\n",
       "      <th></th>\n",
       "      <th>A</th>\n",
       "      <th>B</th>\n",
       "      <th>C</th>\n",
       "      <th>D</th>\n",
       "    </tr>\n",
       "  </thead>\n",
       "  <tbody>\n",
       "    <tr>\n",
       "      <th>0</th>\n",
       "      <td>A0</td>\n",
       "      <td>B0</td>\n",
       "      <td>NaN</td>\n",
       "      <td>NaN</td>\n",
       "    </tr>\n",
       "    <tr>\n",
       "      <th>1</th>\n",
       "      <td>A1</td>\n",
       "      <td>B1</td>\n",
       "      <td>NaN</td>\n",
       "      <td>NaN</td>\n",
       "    </tr>\n",
       "    <tr>\n",
       "      <th>2</th>\n",
       "      <td>A2</td>\n",
       "      <td>B2</td>\n",
       "      <td>NaN</td>\n",
       "      <td>NaN</td>\n",
       "    </tr>\n",
       "    <tr>\n",
       "      <th>3</th>\n",
       "      <td>A3</td>\n",
       "      <td>B3</td>\n",
       "      <td>NaN</td>\n",
       "      <td>NaN</td>\n",
       "    </tr>\n",
       "    <tr>\n",
       "      <th>0</th>\n",
       "      <td>NaN</td>\n",
       "      <td>NaN</td>\n",
       "      <td>C0</td>\n",
       "      <td>D0</td>\n",
       "    </tr>\n",
       "    <tr>\n",
       "      <th>1</th>\n",
       "      <td>NaN</td>\n",
       "      <td>NaN</td>\n",
       "      <td>C1</td>\n",
       "      <td>D1</td>\n",
       "    </tr>\n",
       "    <tr>\n",
       "      <th>2</th>\n",
       "      <td>NaN</td>\n",
       "      <td>NaN</td>\n",
       "      <td>C2</td>\n",
       "      <td>D2</td>\n",
       "    </tr>\n",
       "    <tr>\n",
       "      <th>3</th>\n",
       "      <td>NaN</td>\n",
       "      <td>NaN</td>\n",
       "      <td>C3</td>\n",
       "      <td>D3</td>\n",
       "    </tr>\n",
       "  </tbody>\n",
       "</table>\n",
       "</div>"
      ],
      "text/plain": [
       "     A    B    C    D\n",
       "0   A0   B0  NaN  NaN\n",
       "1   A1   B1  NaN  NaN\n",
       "2   A2   B2  NaN  NaN\n",
       "3   A3   B3  NaN  NaN\n",
       "0  NaN  NaN   C0   D0\n",
       "1  NaN  NaN   C1   D1\n",
       "2  NaN  NaN   C2   D2\n",
       "3  NaN  NaN   C3   D3"
      ]
     },
     "execution_count": 51,
     "metadata": {},
     "output_type": "execute_result"
    }
   ],
   "source": [
    "pd.concat([df_one, df_two], axis = 0)\n",
    "\n",
    "# недостающие значения автоматически проставаться NaN"
   ]
  },
  {
   "cell_type": "markdown",
   "id": "a5019dd8",
   "metadata": {},
   "source": [
    "Но если колонки НЕ одинаковые, но мы хотим именно по строкам объединить данные, то мж переименовать колонки в одном из датафрейме"
   ]
  },
  {
   "cell_type": "code",
   "execution_count": 52,
   "id": "4ca0b177",
   "metadata": {},
   "outputs": [],
   "source": [
    "df_two.columns = df_one.columns"
   ]
  },
  {
   "cell_type": "code",
   "execution_count": 53,
   "id": "a48b929e",
   "metadata": {},
   "outputs": [
    {
     "data": {
      "text/html": [
       "<div>\n",
       "<style scoped>\n",
       "    .dataframe tbody tr th:only-of-type {\n",
       "        vertical-align: middle;\n",
       "    }\n",
       "\n",
       "    .dataframe tbody tr th {\n",
       "        vertical-align: top;\n",
       "    }\n",
       "\n",
       "    .dataframe thead th {\n",
       "        text-align: right;\n",
       "    }\n",
       "</style>\n",
       "<table border=\"1\" class=\"dataframe\">\n",
       "  <thead>\n",
       "    <tr style=\"text-align: right;\">\n",
       "      <th></th>\n",
       "      <th>A</th>\n",
       "      <th>B</th>\n",
       "    </tr>\n",
       "  </thead>\n",
       "  <tbody>\n",
       "    <tr>\n",
       "      <th>0</th>\n",
       "      <td>C0</td>\n",
       "      <td>D0</td>\n",
       "    </tr>\n",
       "    <tr>\n",
       "      <th>1</th>\n",
       "      <td>C1</td>\n",
       "      <td>D1</td>\n",
       "    </tr>\n",
       "    <tr>\n",
       "      <th>2</th>\n",
       "      <td>C2</td>\n",
       "      <td>D2</td>\n",
       "    </tr>\n",
       "    <tr>\n",
       "      <th>3</th>\n",
       "      <td>C3</td>\n",
       "      <td>D3</td>\n",
       "    </tr>\n",
       "  </tbody>\n",
       "</table>\n",
       "</div>"
      ],
      "text/plain": [
       "    A   B\n",
       "0  C0  D0\n",
       "1  C1  D1\n",
       "2  C2  D2\n",
       "3  C3  D3"
      ]
     },
     "execution_count": 53,
     "metadata": {},
     "output_type": "execute_result"
    }
   ],
   "source": [
    "df_two"
   ]
  },
  {
   "cell_type": "code",
   "execution_count": 54,
   "id": "3b8bbe2b",
   "metadata": {},
   "outputs": [
    {
     "data": {
      "text/html": [
       "<div>\n",
       "<style scoped>\n",
       "    .dataframe tbody tr th:only-of-type {\n",
       "        vertical-align: middle;\n",
       "    }\n",
       "\n",
       "    .dataframe tbody tr th {\n",
       "        vertical-align: top;\n",
       "    }\n",
       "\n",
       "    .dataframe thead th {\n",
       "        text-align: right;\n",
       "    }\n",
       "</style>\n",
       "<table border=\"1\" class=\"dataframe\">\n",
       "  <thead>\n",
       "    <tr style=\"text-align: right;\">\n",
       "      <th></th>\n",
       "      <th>A</th>\n",
       "      <th>B</th>\n",
       "    </tr>\n",
       "  </thead>\n",
       "  <tbody>\n",
       "    <tr>\n",
       "      <th>0</th>\n",
       "      <td>A0</td>\n",
       "      <td>B0</td>\n",
       "    </tr>\n",
       "    <tr>\n",
       "      <th>1</th>\n",
       "      <td>A1</td>\n",
       "      <td>B1</td>\n",
       "    </tr>\n",
       "    <tr>\n",
       "      <th>2</th>\n",
       "      <td>A2</td>\n",
       "      <td>B2</td>\n",
       "    </tr>\n",
       "    <tr>\n",
       "      <th>3</th>\n",
       "      <td>A3</td>\n",
       "      <td>B3</td>\n",
       "    </tr>\n",
       "    <tr>\n",
       "      <th>0</th>\n",
       "      <td>C0</td>\n",
       "      <td>D0</td>\n",
       "    </tr>\n",
       "    <tr>\n",
       "      <th>1</th>\n",
       "      <td>C1</td>\n",
       "      <td>D1</td>\n",
       "    </tr>\n",
       "    <tr>\n",
       "      <th>2</th>\n",
       "      <td>C2</td>\n",
       "      <td>D2</td>\n",
       "    </tr>\n",
       "    <tr>\n",
       "      <th>3</th>\n",
       "      <td>C3</td>\n",
       "      <td>D3</td>\n",
       "    </tr>\n",
       "  </tbody>\n",
       "</table>\n",
       "</div>"
      ],
      "text/plain": [
       "    A   B\n",
       "0  A0  B0\n",
       "1  A1  B1\n",
       "2  A2  B2\n",
       "3  A3  B3\n",
       "0  C0  D0\n",
       "1  C1  D1\n",
       "2  C2  D2\n",
       "3  C3  D3"
      ]
     },
     "execution_count": 54,
     "metadata": {},
     "output_type": "execute_result"
    }
   ],
   "source": [
    "pd.concat([df_one, df_two], axis = 0)\n",
    "\n",
    "# теперь получилась красивая конкатенация по строкам "
   ]
  },
  {
   "cell_type": "markdown",
   "id": "0c63957b",
   "metadata": {},
   "source": [
    "Но мы видим, что индексы повторяются, а мы хотим сделать их уникальными - для этого создадим новый df"
   ]
  },
  {
   "cell_type": "code",
   "execution_count": 55,
   "id": "47321d34",
   "metadata": {},
   "outputs": [
    {
     "data": {
      "text/html": [
       "<div>\n",
       "<style scoped>\n",
       "    .dataframe tbody tr th:only-of-type {\n",
       "        vertical-align: middle;\n",
       "    }\n",
       "\n",
       "    .dataframe tbody tr th {\n",
       "        vertical-align: top;\n",
       "    }\n",
       "\n",
       "    .dataframe thead th {\n",
       "        text-align: right;\n",
       "    }\n",
       "</style>\n",
       "<table border=\"1\" class=\"dataframe\">\n",
       "  <thead>\n",
       "    <tr style=\"text-align: right;\">\n",
       "      <th></th>\n",
       "      <th>A</th>\n",
       "      <th>B</th>\n",
       "    </tr>\n",
       "  </thead>\n",
       "  <tbody>\n",
       "    <tr>\n",
       "      <th>0</th>\n",
       "      <td>A0</td>\n",
       "      <td>B0</td>\n",
       "    </tr>\n",
       "    <tr>\n",
       "      <th>1</th>\n",
       "      <td>A1</td>\n",
       "      <td>B1</td>\n",
       "    </tr>\n",
       "    <tr>\n",
       "      <th>2</th>\n",
       "      <td>A2</td>\n",
       "      <td>B2</td>\n",
       "    </tr>\n",
       "    <tr>\n",
       "      <th>3</th>\n",
       "      <td>A3</td>\n",
       "      <td>B3</td>\n",
       "    </tr>\n",
       "    <tr>\n",
       "      <th>4</th>\n",
       "      <td>C0</td>\n",
       "      <td>D0</td>\n",
       "    </tr>\n",
       "    <tr>\n",
       "      <th>5</th>\n",
       "      <td>C1</td>\n",
       "      <td>D1</td>\n",
       "    </tr>\n",
       "    <tr>\n",
       "      <th>6</th>\n",
       "      <td>C2</td>\n",
       "      <td>D2</td>\n",
       "    </tr>\n",
       "    <tr>\n",
       "      <th>7</th>\n",
       "      <td>C3</td>\n",
       "      <td>D3</td>\n",
       "    </tr>\n",
       "  </tbody>\n",
       "</table>\n",
       "</div>"
      ],
      "text/plain": [
       "    A   B\n",
       "0  A0  B0\n",
       "1  A1  B1\n",
       "2  A2  B2\n",
       "3  A3  B3\n",
       "4  C0  D0\n",
       "5  C1  D1\n",
       "6  C2  D2\n",
       "7  C3  D3"
      ]
     },
     "execution_count": 55,
     "metadata": {},
     "output_type": "execute_result"
    }
   ],
   "source": [
    "df_three = pd.concat([df_one, df_two], axis = 0) \n",
    "\n",
    "df_three.index = range(len(df_three))\n",
    "\n",
    "df_three"
   ]
  },
  {
   "cell_type": "markdown",
   "id": "c6ec7231",
   "metadata": {},
   "source": [
    "## MERGE"
   ]
  },
  {
   "cell_type": "markdown",
   "id": "47f29b66",
   "metadata": {},
   "source": [
    "Если дф имеют разный формат, то их нельзя объединить с помощью конкатенации - здесь уже применяем слияние -> merge \n",
    "\n",
    "Эта операция аналогична операции JOIN в SQL "
   ]
  },
  {
   "cell_type": "markdown",
   "id": "2b2ec1d1",
   "metadata": {},
   "source": [
    "pd.merge() имеет параметр how, ктр мб равен:\n",
    "- inner\n",
    "- outer\n",
    "- left/right\n",
    "\n",
    "(в зависимости от того, что делать с информацией, ктр есть только в одном из дата фреймов)"
   ]
  },
  {
   "cell_type": "markdown",
   "id": "ad491ba7",
   "metadata": {},
   "source": [
    "pd.merge() также имеет параметр on - по какому столбцу производим объединение таблиц;\n",
    "\n",
    "этот столбец должен быть первичным ключом (то есть все строки уникальны) и должен присутствовать в обеих таблицах "
   ]
  },
  {
   "cell_type": "markdown",
   "id": "0c7b86bb",
   "metadata": {},
   "source": [
    "how = 'inner' -> берем только те строки, ктр есть сразу в обеих таблицах \n",
    "\n",
    "pd.merge(table1, table2, how = 'inner', on = 'name')"
   ]
  },
  {
   "cell_type": "markdown",
   "id": "03213d51",
   "metadata": {},
   "source": [
    "### INNER JOIN "
   ]
  },
  {
   "cell_type": "code",
   "execution_count": 3,
   "id": "16ecaf55",
   "metadata": {},
   "outputs": [],
   "source": [
    "registrations = pd.DataFrame({'reg_id':[1,2,3,4],'name':['Andrew','Bobo','Claire','David']})\n",
    "\n",
    "logins = pd.DataFrame({'log_id':[1,2,3,4],'name':['Xavier','Andrew','Yolanda','Bobo']})"
   ]
  },
  {
   "cell_type": "code",
   "execution_count": 4,
   "id": "3857e871",
   "metadata": {},
   "outputs": [
    {
     "data": {
      "text/html": [
       "<div>\n",
       "<style scoped>\n",
       "    .dataframe tbody tr th:only-of-type {\n",
       "        vertical-align: middle;\n",
       "    }\n",
       "\n",
       "    .dataframe tbody tr th {\n",
       "        vertical-align: top;\n",
       "    }\n",
       "\n",
       "    .dataframe thead th {\n",
       "        text-align: right;\n",
       "    }\n",
       "</style>\n",
       "<table border=\"1\" class=\"dataframe\">\n",
       "  <thead>\n",
       "    <tr style=\"text-align: right;\">\n",
       "      <th></th>\n",
       "      <th>reg_id</th>\n",
       "      <th>name</th>\n",
       "    </tr>\n",
       "  </thead>\n",
       "  <tbody>\n",
       "    <tr>\n",
       "      <th>0</th>\n",
       "      <td>1</td>\n",
       "      <td>Andrew</td>\n",
       "    </tr>\n",
       "    <tr>\n",
       "      <th>1</th>\n",
       "      <td>2</td>\n",
       "      <td>Bobo</td>\n",
       "    </tr>\n",
       "    <tr>\n",
       "      <th>2</th>\n",
       "      <td>3</td>\n",
       "      <td>Claire</td>\n",
       "    </tr>\n",
       "    <tr>\n",
       "      <th>3</th>\n",
       "      <td>4</td>\n",
       "      <td>David</td>\n",
       "    </tr>\n",
       "  </tbody>\n",
       "</table>\n",
       "</div>"
      ],
      "text/plain": [
       "   reg_id    name\n",
       "0       1  Andrew\n",
       "1       2    Bobo\n",
       "2       3  Claire\n",
       "3       4   David"
      ]
     },
     "execution_count": 4,
     "metadata": {},
     "output_type": "execute_result"
    }
   ],
   "source": [
    "registrations"
   ]
  },
  {
   "cell_type": "code",
   "execution_count": 5,
   "id": "463a9f10",
   "metadata": {},
   "outputs": [
    {
     "data": {
      "text/html": [
       "<div>\n",
       "<style scoped>\n",
       "    .dataframe tbody tr th:only-of-type {\n",
       "        vertical-align: middle;\n",
       "    }\n",
       "\n",
       "    .dataframe tbody tr th {\n",
       "        vertical-align: top;\n",
       "    }\n",
       "\n",
       "    .dataframe thead th {\n",
       "        text-align: right;\n",
       "    }\n",
       "</style>\n",
       "<table border=\"1\" class=\"dataframe\">\n",
       "  <thead>\n",
       "    <tr style=\"text-align: right;\">\n",
       "      <th></th>\n",
       "      <th>log_id</th>\n",
       "      <th>name</th>\n",
       "    </tr>\n",
       "  </thead>\n",
       "  <tbody>\n",
       "    <tr>\n",
       "      <th>0</th>\n",
       "      <td>1</td>\n",
       "      <td>Xavier</td>\n",
       "    </tr>\n",
       "    <tr>\n",
       "      <th>1</th>\n",
       "      <td>2</td>\n",
       "      <td>Andrew</td>\n",
       "    </tr>\n",
       "    <tr>\n",
       "      <th>2</th>\n",
       "      <td>3</td>\n",
       "      <td>Yolanda</td>\n",
       "    </tr>\n",
       "    <tr>\n",
       "      <th>3</th>\n",
       "      <td>4</td>\n",
       "      <td>Bobo</td>\n",
       "    </tr>\n",
       "  </tbody>\n",
       "</table>\n",
       "</div>"
      ],
      "text/plain": [
       "   log_id     name\n",
       "0       1   Xavier\n",
       "1       2   Andrew\n",
       "2       3  Yolanda\n",
       "3       4     Bobo"
      ]
     },
     "execution_count": 5,
     "metadata": {},
     "output_type": "execute_result"
    }
   ],
   "source": [
    "logins"
   ]
  },
  {
   "cell_type": "code",
   "execution_count": 6,
   "id": "b8e92cec",
   "metadata": {},
   "outputs": [
    {
     "data": {
      "text/html": [
       "<div>\n",
       "<style scoped>\n",
       "    .dataframe tbody tr th:only-of-type {\n",
       "        vertical-align: middle;\n",
       "    }\n",
       "\n",
       "    .dataframe tbody tr th {\n",
       "        vertical-align: top;\n",
       "    }\n",
       "\n",
       "    .dataframe thead th {\n",
       "        text-align: right;\n",
       "    }\n",
       "</style>\n",
       "<table border=\"1\" class=\"dataframe\">\n",
       "  <thead>\n",
       "    <tr style=\"text-align: right;\">\n",
       "      <th></th>\n",
       "      <th>reg_id</th>\n",
       "      <th>name</th>\n",
       "      <th>log_id</th>\n",
       "    </tr>\n",
       "  </thead>\n",
       "  <tbody>\n",
       "    <tr>\n",
       "      <th>0</th>\n",
       "      <td>1</td>\n",
       "      <td>Andrew</td>\n",
       "      <td>2</td>\n",
       "    </tr>\n",
       "    <tr>\n",
       "      <th>1</th>\n",
       "      <td>2</td>\n",
       "      <td>Bobo</td>\n",
       "      <td>4</td>\n",
       "    </tr>\n",
       "  </tbody>\n",
       "</table>\n",
       "</div>"
      ],
      "text/plain": [
       "   reg_id    name  log_id\n",
       "0       1  Andrew       2\n",
       "1       2    Bobo       4"
      ]
     },
     "execution_count": 6,
     "metadata": {},
     "output_type": "execute_result"
    }
   ],
   "source": [
    "pd.merge(registrations, logins, how = 'inner', on = 'name')\n",
    "\n",
    "# объединили 2 датафрейма \n",
    "# причем для метода inner НЕ важен порядок таблиц "
   ]
  },
  {
   "cell_type": "markdown",
   "id": "560bd834",
   "metadata": {},
   "source": [
    "!!! Если названия колонок в датафреймах не совпадают, то вместо параметра ON нужно использовать параметры left_on и right_on, чтобы отдельно указать названия колонок для левой таблицы и правой таблицы\n",
    "\n",
    "pd.merge(registration, logins, how='inner', left_on='name', right_on='names')"
   ]
  },
  {
   "cell_type": "markdown",
   "id": "bafb91e0",
   "metadata": {},
   "source": [
    "### LEFT/RIGHT JOIN "
   ]
  },
  {
   "cell_type": "markdown",
   "id": "2469a876",
   "metadata": {},
   "source": [
    "Здесь ВАЖЕН порядок таблиц!"
   ]
  },
  {
   "cell_type": "markdown",
   "id": "64184b45",
   "metadata": {},
   "source": [
    "если how = 'left', то берем все строки из левой таблицы -> и те, ктр совпадают по ключам с правой, и те, что не совпадают (тогда на пропусках ставится NaN)\n",
    "\n",
    "eсли how = 'right', то все наоборот -> берем все строки из правой таблицы"
   ]
  },
  {
   "cell_type": "code",
   "execution_count": 8,
   "id": "b4158b9a",
   "metadata": {},
   "outputs": [
    {
     "data": {
      "text/html": [
       "<div>\n",
       "<style scoped>\n",
       "    .dataframe tbody tr th:only-of-type {\n",
       "        vertical-align: middle;\n",
       "    }\n",
       "\n",
       "    .dataframe tbody tr th {\n",
       "        vertical-align: top;\n",
       "    }\n",
       "\n",
       "    .dataframe thead th {\n",
       "        text-align: right;\n",
       "    }\n",
       "</style>\n",
       "<table border=\"1\" class=\"dataframe\">\n",
       "  <thead>\n",
       "    <tr style=\"text-align: right;\">\n",
       "      <th></th>\n",
       "      <th>reg_id</th>\n",
       "      <th>name</th>\n",
       "      <th>log_id</th>\n",
       "    </tr>\n",
       "  </thead>\n",
       "  <tbody>\n",
       "    <tr>\n",
       "      <th>0</th>\n",
       "      <td>1</td>\n",
       "      <td>Andrew</td>\n",
       "      <td>2.0</td>\n",
       "    </tr>\n",
       "    <tr>\n",
       "      <th>1</th>\n",
       "      <td>2</td>\n",
       "      <td>Bobo</td>\n",
       "      <td>4.0</td>\n",
       "    </tr>\n",
       "    <tr>\n",
       "      <th>2</th>\n",
       "      <td>3</td>\n",
       "      <td>Claire</td>\n",
       "      <td>NaN</td>\n",
       "    </tr>\n",
       "    <tr>\n",
       "      <th>3</th>\n",
       "      <td>4</td>\n",
       "      <td>David</td>\n",
       "      <td>NaN</td>\n",
       "    </tr>\n",
       "  </tbody>\n",
       "</table>\n",
       "</div>"
      ],
      "text/plain": [
       "   reg_id    name  log_id\n",
       "0       1  Andrew     2.0\n",
       "1       2    Bobo     4.0\n",
       "2       3  Claire     NaN\n",
       "3       4   David     NaN"
      ]
     },
     "execution_count": 8,
     "metadata": {},
     "output_type": "execute_result"
    }
   ],
   "source": [
    "pd.merge(left = registrations, right = logins, how = 'left', on = 'name')\n",
    "\n",
    "# левое объединение "
   ]
  },
  {
   "cell_type": "code",
   "execution_count": 9,
   "id": "4862285b",
   "metadata": {},
   "outputs": [
    {
     "data": {
      "text/html": [
       "<div>\n",
       "<style scoped>\n",
       "    .dataframe tbody tr th:only-of-type {\n",
       "        vertical-align: middle;\n",
       "    }\n",
       "\n",
       "    .dataframe tbody tr th {\n",
       "        vertical-align: top;\n",
       "    }\n",
       "\n",
       "    .dataframe thead th {\n",
       "        text-align: right;\n",
       "    }\n",
       "</style>\n",
       "<table border=\"1\" class=\"dataframe\">\n",
       "  <thead>\n",
       "    <tr style=\"text-align: right;\">\n",
       "      <th></th>\n",
       "      <th>reg_id</th>\n",
       "      <th>name</th>\n",
       "      <th>log_id</th>\n",
       "    </tr>\n",
       "  </thead>\n",
       "  <tbody>\n",
       "    <tr>\n",
       "      <th>0</th>\n",
       "      <td>NaN</td>\n",
       "      <td>Xavier</td>\n",
       "      <td>1</td>\n",
       "    </tr>\n",
       "    <tr>\n",
       "      <th>1</th>\n",
       "      <td>1.0</td>\n",
       "      <td>Andrew</td>\n",
       "      <td>2</td>\n",
       "    </tr>\n",
       "    <tr>\n",
       "      <th>2</th>\n",
       "      <td>NaN</td>\n",
       "      <td>Yolanda</td>\n",
       "      <td>3</td>\n",
       "    </tr>\n",
       "    <tr>\n",
       "      <th>3</th>\n",
       "      <td>2.0</td>\n",
       "      <td>Bobo</td>\n",
       "      <td>4</td>\n",
       "    </tr>\n",
       "  </tbody>\n",
       "</table>\n",
       "</div>"
      ],
      "text/plain": [
       "   reg_id     name  log_id\n",
       "0     NaN   Xavier       1\n",
       "1     1.0   Andrew       2\n",
       "2     NaN  Yolanda       3\n",
       "3     2.0     Bobo       4"
      ]
     },
     "execution_count": 9,
     "metadata": {},
     "output_type": "execute_result"
    }
   ],
   "source": [
    "pd.merge(left = registrations, right = logins, how = 'right', on = 'name')\n",
    "\n",
    "# правое объединение "
   ]
  },
  {
   "cell_type": "markdown",
   "id": "d97714df",
   "metadata": {},
   "source": [
    "### OUTER JOIN "
   ]
  },
  {
   "cell_type": "markdown",
   "id": "a9be54f7",
   "metadata": {},
   "source": [
    "в итоговое объединение попадают все строки из 2 таблиц, и те, что совпадают, и те, что не сопадают \n",
    "\n",
    "там, где нужно расставляются NaN \n",
    "\n",
    "порядок НЕ важен при указании таблиц "
   ]
  },
  {
   "cell_type": "code",
   "execution_count": 10,
   "id": "72277ed9",
   "metadata": {},
   "outputs": [
    {
     "data": {
      "text/html": [
       "<div>\n",
       "<style scoped>\n",
       "    .dataframe tbody tr th:only-of-type {\n",
       "        vertical-align: middle;\n",
       "    }\n",
       "\n",
       "    .dataframe tbody tr th {\n",
       "        vertical-align: top;\n",
       "    }\n",
       "\n",
       "    .dataframe thead th {\n",
       "        text-align: right;\n",
       "    }\n",
       "</style>\n",
       "<table border=\"1\" class=\"dataframe\">\n",
       "  <thead>\n",
       "    <tr style=\"text-align: right;\">\n",
       "      <th></th>\n",
       "      <th>reg_id</th>\n",
       "      <th>name</th>\n",
       "      <th>log_id</th>\n",
       "    </tr>\n",
       "  </thead>\n",
       "  <tbody>\n",
       "    <tr>\n",
       "      <th>0</th>\n",
       "      <td>1.0</td>\n",
       "      <td>Andrew</td>\n",
       "      <td>2.0</td>\n",
       "    </tr>\n",
       "    <tr>\n",
       "      <th>1</th>\n",
       "      <td>2.0</td>\n",
       "      <td>Bobo</td>\n",
       "      <td>4.0</td>\n",
       "    </tr>\n",
       "    <tr>\n",
       "      <th>2</th>\n",
       "      <td>3.0</td>\n",
       "      <td>Claire</td>\n",
       "      <td>NaN</td>\n",
       "    </tr>\n",
       "    <tr>\n",
       "      <th>3</th>\n",
       "      <td>4.0</td>\n",
       "      <td>David</td>\n",
       "      <td>NaN</td>\n",
       "    </tr>\n",
       "    <tr>\n",
       "      <th>4</th>\n",
       "      <td>NaN</td>\n",
       "      <td>Xavier</td>\n",
       "      <td>1.0</td>\n",
       "    </tr>\n",
       "    <tr>\n",
       "      <th>5</th>\n",
       "      <td>NaN</td>\n",
       "      <td>Yolanda</td>\n",
       "      <td>3.0</td>\n",
       "    </tr>\n",
       "  </tbody>\n",
       "</table>\n",
       "</div>"
      ],
      "text/plain": [
       "   reg_id     name  log_id\n",
       "0     1.0   Andrew     2.0\n",
       "1     2.0     Bobo     4.0\n",
       "2     3.0   Claire     NaN\n",
       "3     4.0    David     NaN\n",
       "4     NaN   Xavier     1.0\n",
       "5     NaN  Yolanda     3.0"
      ]
     },
     "execution_count": 10,
     "metadata": {},
     "output_type": "execute_result"
    }
   ],
   "source": [
    "pd.merge(registrations, logins, how = 'outer', on = 'name')"
   ]
  },
  {
   "cell_type": "markdown",
   "id": "4accd4b2",
   "metadata": {},
   "source": [
    "### Объединение df по индексам (не по колонкам) через merge"
   ]
  },
  {
   "cell_type": "code",
   "execution_count": 11,
   "id": "d5311bde",
   "metadata": {},
   "outputs": [
    {
     "data": {
      "text/html": [
       "<div>\n",
       "<style scoped>\n",
       "    .dataframe tbody tr th:only-of-type {\n",
       "        vertical-align: middle;\n",
       "    }\n",
       "\n",
       "    .dataframe tbody tr th {\n",
       "        vertical-align: top;\n",
       "    }\n",
       "\n",
       "    .dataframe thead th {\n",
       "        text-align: right;\n",
       "    }\n",
       "</style>\n",
       "<table border=\"1\" class=\"dataframe\">\n",
       "  <thead>\n",
       "    <tr style=\"text-align: right;\">\n",
       "      <th></th>\n",
       "      <th>reg_id</th>\n",
       "      <th>name</th>\n",
       "    </tr>\n",
       "  </thead>\n",
       "  <tbody>\n",
       "    <tr>\n",
       "      <th>0</th>\n",
       "      <td>1</td>\n",
       "      <td>Andrew</td>\n",
       "    </tr>\n",
       "    <tr>\n",
       "      <th>1</th>\n",
       "      <td>2</td>\n",
       "      <td>Bobo</td>\n",
       "    </tr>\n",
       "    <tr>\n",
       "      <th>2</th>\n",
       "      <td>3</td>\n",
       "      <td>Claire</td>\n",
       "    </tr>\n",
       "    <tr>\n",
       "      <th>3</th>\n",
       "      <td>4</td>\n",
       "      <td>David</td>\n",
       "    </tr>\n",
       "  </tbody>\n",
       "</table>\n",
       "</div>"
      ],
      "text/plain": [
       "   reg_id    name\n",
       "0       1  Andrew\n",
       "1       2    Bobo\n",
       "2       3  Claire\n",
       "3       4   David"
      ]
     },
     "execution_count": 11,
     "metadata": {},
     "output_type": "execute_result"
    }
   ],
   "source": [
    "registrations"
   ]
  },
  {
   "cell_type": "code",
   "execution_count": 12,
   "id": "6fbd3fa8",
   "metadata": {},
   "outputs": [
    {
     "data": {
      "text/html": [
       "<div>\n",
       "<style scoped>\n",
       "    .dataframe tbody tr th:only-of-type {\n",
       "        vertical-align: middle;\n",
       "    }\n",
       "\n",
       "    .dataframe tbody tr th {\n",
       "        vertical-align: top;\n",
       "    }\n",
       "\n",
       "    .dataframe thead th {\n",
       "        text-align: right;\n",
       "    }\n",
       "</style>\n",
       "<table border=\"1\" class=\"dataframe\">\n",
       "  <thead>\n",
       "    <tr style=\"text-align: right;\">\n",
       "      <th></th>\n",
       "      <th>reg_id</th>\n",
       "    </tr>\n",
       "    <tr>\n",
       "      <th>name</th>\n",
       "      <th></th>\n",
       "    </tr>\n",
       "  </thead>\n",
       "  <tbody>\n",
       "    <tr>\n",
       "      <th>Andrew</th>\n",
       "      <td>1</td>\n",
       "    </tr>\n",
       "    <tr>\n",
       "      <th>Bobo</th>\n",
       "      <td>2</td>\n",
       "    </tr>\n",
       "    <tr>\n",
       "      <th>Claire</th>\n",
       "      <td>3</td>\n",
       "    </tr>\n",
       "    <tr>\n",
       "      <th>David</th>\n",
       "      <td>4</td>\n",
       "    </tr>\n",
       "  </tbody>\n",
       "</table>\n",
       "</div>"
      ],
      "text/plain": [
       "        reg_id\n",
       "name          \n",
       "Andrew       1\n",
       "Bobo         2\n",
       "Claire       3\n",
       "David        4"
      ]
     },
     "execution_count": 12,
     "metadata": {},
     "output_type": "execute_result"
    }
   ],
   "source": [
    "registrations = registrations.set_index('name')\n",
    "registrations"
   ]
  },
  {
   "cell_type": "code",
   "execution_count": 14,
   "id": "236a9c92",
   "metadata": {},
   "outputs": [
    {
     "data": {
      "text/html": [
       "<div>\n",
       "<style scoped>\n",
       "    .dataframe tbody tr th:only-of-type {\n",
       "        vertical-align: middle;\n",
       "    }\n",
       "\n",
       "    .dataframe tbody tr th {\n",
       "        vertical-align: top;\n",
       "    }\n",
       "\n",
       "    .dataframe thead th {\n",
       "        text-align: right;\n",
       "    }\n",
       "</style>\n",
       "<table border=\"1\" class=\"dataframe\">\n",
       "  <thead>\n",
       "    <tr style=\"text-align: right;\">\n",
       "      <th></th>\n",
       "      <th>reg_id</th>\n",
       "      <th>log_id</th>\n",
       "      <th>name</th>\n",
       "    </tr>\n",
       "  </thead>\n",
       "  <tbody>\n",
       "    <tr>\n",
       "      <th>1</th>\n",
       "      <td>1</td>\n",
       "      <td>2</td>\n",
       "      <td>Andrew</td>\n",
       "    </tr>\n",
       "    <tr>\n",
       "      <th>3</th>\n",
       "      <td>2</td>\n",
       "      <td>4</td>\n",
       "      <td>Bobo</td>\n",
       "    </tr>\n",
       "  </tbody>\n",
       "</table>\n",
       "</div>"
      ],
      "text/plain": [
       "   reg_id  log_id    name\n",
       "1       1       2  Andrew\n",
       "3       2       4    Bobo"
      ]
     },
     "execution_count": 14,
     "metadata": {},
     "output_type": "execute_result"
    }
   ],
   "source": [
    "pd.merge(registrations, logins, left_index = True, right_on = 'name', how = 'inner')\n",
    "\n",
    "# объединение по индексу левому и правой колонке Name"
   ]
  },
  {
   "cell_type": "markdown",
   "id": "7e151dc4",
   "metadata": {},
   "source": [
    "### Объединение, если колонки называются по-разному"
   ]
  },
  {
   "cell_type": "code",
   "execution_count": 15,
   "id": "806c7855",
   "metadata": {},
   "outputs": [
    {
     "data": {
      "text/html": [
       "<div>\n",
       "<style scoped>\n",
       "    .dataframe tbody tr th:only-of-type {\n",
       "        vertical-align: middle;\n",
       "    }\n",
       "\n",
       "    .dataframe tbody tr th {\n",
       "        vertical-align: top;\n",
       "    }\n",
       "\n",
       "    .dataframe thead th {\n",
       "        text-align: right;\n",
       "    }\n",
       "</style>\n",
       "<table border=\"1\" class=\"dataframe\">\n",
       "  <thead>\n",
       "    <tr style=\"text-align: right;\">\n",
       "      <th></th>\n",
       "      <th>name</th>\n",
       "      <th>reg_id</th>\n",
       "    </tr>\n",
       "  </thead>\n",
       "  <tbody>\n",
       "    <tr>\n",
       "      <th>0</th>\n",
       "      <td>Andrew</td>\n",
       "      <td>1</td>\n",
       "    </tr>\n",
       "    <tr>\n",
       "      <th>1</th>\n",
       "      <td>Bobo</td>\n",
       "      <td>2</td>\n",
       "    </tr>\n",
       "    <tr>\n",
       "      <th>2</th>\n",
       "      <td>Claire</td>\n",
       "      <td>3</td>\n",
       "    </tr>\n",
       "    <tr>\n",
       "      <th>3</th>\n",
       "      <td>David</td>\n",
       "      <td>4</td>\n",
       "    </tr>\n",
       "  </tbody>\n",
       "</table>\n",
       "</div>"
      ],
      "text/plain": [
       "     name  reg_id\n",
       "0  Andrew       1\n",
       "1    Bobo       2\n",
       "2  Claire       3\n",
       "3   David       4"
      ]
     },
     "execution_count": 15,
     "metadata": {},
     "output_type": "execute_result"
    }
   ],
   "source": [
    "registrations = registrations.reset_index() # сброс индекса \n",
    "registrations"
   ]
  },
  {
   "cell_type": "code",
   "execution_count": 16,
   "id": "12de98cf",
   "metadata": {},
   "outputs": [
    {
     "data": {
      "text/html": [
       "<div>\n",
       "<style scoped>\n",
       "    .dataframe tbody tr th:only-of-type {\n",
       "        vertical-align: middle;\n",
       "    }\n",
       "\n",
       "    .dataframe tbody tr th {\n",
       "        vertical-align: top;\n",
       "    }\n",
       "\n",
       "    .dataframe thead th {\n",
       "        text-align: right;\n",
       "    }\n",
       "</style>\n",
       "<table border=\"1\" class=\"dataframe\">\n",
       "  <thead>\n",
       "    <tr style=\"text-align: right;\">\n",
       "      <th></th>\n",
       "      <th>reg_name</th>\n",
       "      <th>reg_id</th>\n",
       "    </tr>\n",
       "  </thead>\n",
       "  <tbody>\n",
       "    <tr>\n",
       "      <th>0</th>\n",
       "      <td>Andrew</td>\n",
       "      <td>1</td>\n",
       "    </tr>\n",
       "    <tr>\n",
       "      <th>1</th>\n",
       "      <td>Bobo</td>\n",
       "      <td>2</td>\n",
       "    </tr>\n",
       "    <tr>\n",
       "      <th>2</th>\n",
       "      <td>Claire</td>\n",
       "      <td>3</td>\n",
       "    </tr>\n",
       "    <tr>\n",
       "      <th>3</th>\n",
       "      <td>David</td>\n",
       "      <td>4</td>\n",
       "    </tr>\n",
       "  </tbody>\n",
       "</table>\n",
       "</div>"
      ],
      "text/plain": [
       "  reg_name  reg_id\n",
       "0   Andrew       1\n",
       "1     Bobo       2\n",
       "2   Claire       3\n",
       "3    David       4"
      ]
     },
     "execution_count": 16,
     "metadata": {},
     "output_type": "execute_result"
    }
   ],
   "source": [
    "registrations.columns = ['reg_name', 'reg_id']\n",
    "# переименовываем колонку имени \n",
    "registrations"
   ]
  },
  {
   "cell_type": "code",
   "execution_count": 17,
   "id": "2b093c97",
   "metadata": {},
   "outputs": [
    {
     "data": {
      "text/html": [
       "<div>\n",
       "<style scoped>\n",
       "    .dataframe tbody tr th:only-of-type {\n",
       "        vertical-align: middle;\n",
       "    }\n",
       "\n",
       "    .dataframe tbody tr th {\n",
       "        vertical-align: top;\n",
       "    }\n",
       "\n",
       "    .dataframe thead th {\n",
       "        text-align: right;\n",
       "    }\n",
       "</style>\n",
       "<table border=\"1\" class=\"dataframe\">\n",
       "  <thead>\n",
       "    <tr style=\"text-align: right;\">\n",
       "      <th></th>\n",
       "      <th>reg_name</th>\n",
       "      <th>reg_id</th>\n",
       "      <th>log_id</th>\n",
       "      <th>name</th>\n",
       "    </tr>\n",
       "  </thead>\n",
       "  <tbody>\n",
       "    <tr>\n",
       "      <th>0</th>\n",
       "      <td>Andrew</td>\n",
       "      <td>1</td>\n",
       "      <td>2</td>\n",
       "      <td>Andrew</td>\n",
       "    </tr>\n",
       "    <tr>\n",
       "      <th>1</th>\n",
       "      <td>Bobo</td>\n",
       "      <td>2</td>\n",
       "      <td>4</td>\n",
       "      <td>Bobo</td>\n",
       "    </tr>\n",
       "  </tbody>\n",
       "</table>\n",
       "</div>"
      ],
      "text/plain": [
       "  reg_name  reg_id  log_id    name\n",
       "0   Andrew       1       2  Andrew\n",
       "1     Bobo       2       4    Bobo"
      ]
     },
     "execution_count": 17,
     "metadata": {},
     "output_type": "execute_result"
    }
   ],
   "source": [
    "pd.merge(registrations, logins, how='inner', left_on = 'reg_name', right_on = 'name')\n",
    "\n",
    "# но тут останутся обе колонки объединения, хотя они содержат те же знач"
   ]
  },
  {
   "cell_type": "code",
   "execution_count": 18,
   "id": "c57f337b",
   "metadata": {},
   "outputs": [
    {
     "data": {
      "text/html": [
       "<div>\n",
       "<style scoped>\n",
       "    .dataframe tbody tr th:only-of-type {\n",
       "        vertical-align: middle;\n",
       "    }\n",
       "\n",
       "    .dataframe tbody tr th {\n",
       "        vertical-align: top;\n",
       "    }\n",
       "\n",
       "    .dataframe thead th {\n",
       "        text-align: right;\n",
       "    }\n",
       "</style>\n",
       "<table border=\"1\" class=\"dataframe\">\n",
       "  <thead>\n",
       "    <tr style=\"text-align: right;\">\n",
       "      <th></th>\n",
       "      <th>reg_id</th>\n",
       "      <th>log_id</th>\n",
       "      <th>name</th>\n",
       "    </tr>\n",
       "  </thead>\n",
       "  <tbody>\n",
       "    <tr>\n",
       "      <th>0</th>\n",
       "      <td>1</td>\n",
       "      <td>2</td>\n",
       "      <td>Andrew</td>\n",
       "    </tr>\n",
       "    <tr>\n",
       "      <th>1</th>\n",
       "      <td>2</td>\n",
       "      <td>4</td>\n",
       "      <td>Bobo</td>\n",
       "    </tr>\n",
       "  </tbody>\n",
       "</table>\n",
       "</div>"
      ],
      "text/plain": [
       "   reg_id  log_id    name\n",
       "0       1       2  Andrew\n",
       "1       2       4    Bobo"
      ]
     },
     "execution_count": 18,
     "metadata": {},
     "output_type": "execute_result"
    }
   ],
   "source": [
    "# но мы можем сделать удаление с помощью drop\n",
    "\n",
    "rez = pd.merge(registrations, logins, how='inner', left_on = 'reg_name', right_on = 'name')\n",
    "rez.drop('reg_name', axis = 1) # удаляем колонку лишнюю "
   ]
  },
  {
   "cell_type": "markdown",
   "id": "bd28c167",
   "metadata": {},
   "source": [
    "### Работа с дубликатами колонок "
   ]
  },
  {
   "cell_type": "code",
   "execution_count": 19,
   "id": "34afa213",
   "metadata": {},
   "outputs": [],
   "source": [
    "registrations.columns = ['name', 'id']\n",
    "logins.columns = ['id', 'name']"
   ]
  },
  {
   "cell_type": "code",
   "execution_count": 20,
   "id": "3d15127d",
   "metadata": {},
   "outputs": [
    {
     "data": {
      "text/html": [
       "<div>\n",
       "<style scoped>\n",
       "    .dataframe tbody tr th:only-of-type {\n",
       "        vertical-align: middle;\n",
       "    }\n",
       "\n",
       "    .dataframe tbody tr th {\n",
       "        vertical-align: top;\n",
       "    }\n",
       "\n",
       "    .dataframe thead th {\n",
       "        text-align: right;\n",
       "    }\n",
       "</style>\n",
       "<table border=\"1\" class=\"dataframe\">\n",
       "  <thead>\n",
       "    <tr style=\"text-align: right;\">\n",
       "      <th></th>\n",
       "      <th>name</th>\n",
       "      <th>id</th>\n",
       "    </tr>\n",
       "  </thead>\n",
       "  <tbody>\n",
       "    <tr>\n",
       "      <th>0</th>\n",
       "      <td>Andrew</td>\n",
       "      <td>1</td>\n",
       "    </tr>\n",
       "    <tr>\n",
       "      <th>1</th>\n",
       "      <td>Bobo</td>\n",
       "      <td>2</td>\n",
       "    </tr>\n",
       "    <tr>\n",
       "      <th>2</th>\n",
       "      <td>Claire</td>\n",
       "      <td>3</td>\n",
       "    </tr>\n",
       "    <tr>\n",
       "      <th>3</th>\n",
       "      <td>David</td>\n",
       "      <td>4</td>\n",
       "    </tr>\n",
       "  </tbody>\n",
       "</table>\n",
       "</div>"
      ],
      "text/plain": [
       "     name  id\n",
       "0  Andrew   1\n",
       "1    Bobo   2\n",
       "2  Claire   3\n",
       "3   David   4"
      ]
     },
     "execution_count": 20,
     "metadata": {},
     "output_type": "execute_result"
    }
   ],
   "source": [
    "registrations"
   ]
  },
  {
   "cell_type": "code",
   "execution_count": 22,
   "id": "d3489681",
   "metadata": {},
   "outputs": [
    {
     "data": {
      "text/html": [
       "<div>\n",
       "<style scoped>\n",
       "    .dataframe tbody tr th:only-of-type {\n",
       "        vertical-align: middle;\n",
       "    }\n",
       "\n",
       "    .dataframe tbody tr th {\n",
       "        vertical-align: top;\n",
       "    }\n",
       "\n",
       "    .dataframe thead th {\n",
       "        text-align: right;\n",
       "    }\n",
       "</style>\n",
       "<table border=\"1\" class=\"dataframe\">\n",
       "  <thead>\n",
       "    <tr style=\"text-align: right;\">\n",
       "      <th></th>\n",
       "      <th>id</th>\n",
       "      <th>name</th>\n",
       "    </tr>\n",
       "  </thead>\n",
       "  <tbody>\n",
       "    <tr>\n",
       "      <th>0</th>\n",
       "      <td>1</td>\n",
       "      <td>Xavier</td>\n",
       "    </tr>\n",
       "    <tr>\n",
       "      <th>1</th>\n",
       "      <td>2</td>\n",
       "      <td>Andrew</td>\n",
       "    </tr>\n",
       "    <tr>\n",
       "      <th>2</th>\n",
       "      <td>3</td>\n",
       "      <td>Yolanda</td>\n",
       "    </tr>\n",
       "    <tr>\n",
       "      <th>3</th>\n",
       "      <td>4</td>\n",
       "      <td>Bobo</td>\n",
       "    </tr>\n",
       "  </tbody>\n",
       "</table>\n",
       "</div>"
      ],
      "text/plain": [
       "   id     name\n",
       "0   1   Xavier\n",
       "1   2   Andrew\n",
       "2   3  Yolanda\n",
       "3   4     Bobo"
      ]
     },
     "execution_count": 22,
     "metadata": {},
     "output_type": "execute_result"
    }
   ],
   "source": [
    "logins"
   ]
  },
  {
   "cell_type": "code",
   "execution_count": 23,
   "id": "434068e4",
   "metadata": {},
   "outputs": [
    {
     "data": {
      "text/html": [
       "<div>\n",
       "<style scoped>\n",
       "    .dataframe tbody tr th:only-of-type {\n",
       "        vertical-align: middle;\n",
       "    }\n",
       "\n",
       "    .dataframe tbody tr th {\n",
       "        vertical-align: top;\n",
       "    }\n",
       "\n",
       "    .dataframe thead th {\n",
       "        text-align: right;\n",
       "    }\n",
       "</style>\n",
       "<table border=\"1\" class=\"dataframe\">\n",
       "  <thead>\n",
       "    <tr style=\"text-align: right;\">\n",
       "      <th></th>\n",
       "      <th>name</th>\n",
       "      <th>id_x</th>\n",
       "      <th>id_y</th>\n",
       "    </tr>\n",
       "  </thead>\n",
       "  <tbody>\n",
       "    <tr>\n",
       "      <th>0</th>\n",
       "      <td>Andrew</td>\n",
       "      <td>1</td>\n",
       "      <td>2</td>\n",
       "    </tr>\n",
       "    <tr>\n",
       "      <th>1</th>\n",
       "      <td>Bobo</td>\n",
       "      <td>2</td>\n",
       "      <td>4</td>\n",
       "    </tr>\n",
       "  </tbody>\n",
       "</table>\n",
       "</div>"
      ],
      "text/plain": [
       "     name  id_x  id_y\n",
       "0  Andrew     1     2\n",
       "1    Bobo     2     4"
      ]
     },
     "execution_count": 23,
     "metadata": {},
     "output_type": "execute_result"
    }
   ],
   "source": [
    "pd.merge(registrations, logins, how = 'inner', on = 'name')\n",
    "\n",
    "# Pandas автоматически переименует колонки с одинаковыми названиями\n",
    "# причем для левой будет суффикс _x, для правой - _y"
   ]
  },
  {
   "cell_type": "code",
   "execution_count": 24,
   "id": "dc5ae80e",
   "metadata": {},
   "outputs": [
    {
     "data": {
      "text/html": [
       "<div>\n",
       "<style scoped>\n",
       "    .dataframe tbody tr th:only-of-type {\n",
       "        vertical-align: middle;\n",
       "    }\n",
       "\n",
       "    .dataframe tbody tr th {\n",
       "        vertical-align: top;\n",
       "    }\n",
       "\n",
       "    .dataframe thead th {\n",
       "        text-align: right;\n",
       "    }\n",
       "</style>\n",
       "<table border=\"1\" class=\"dataframe\">\n",
       "  <thead>\n",
       "    <tr style=\"text-align: right;\">\n",
       "      <th></th>\n",
       "      <th>name</th>\n",
       "      <th>id_reg</th>\n",
       "      <th>id_log</th>\n",
       "    </tr>\n",
       "  </thead>\n",
       "  <tbody>\n",
       "    <tr>\n",
       "      <th>0</th>\n",
       "      <td>Andrew</td>\n",
       "      <td>1</td>\n",
       "      <td>2</td>\n",
       "    </tr>\n",
       "    <tr>\n",
       "      <th>1</th>\n",
       "      <td>Bobo</td>\n",
       "      <td>2</td>\n",
       "      <td>4</td>\n",
       "    </tr>\n",
       "  </tbody>\n",
       "</table>\n",
       "</div>"
      ],
      "text/plain": [
       "     name  id_reg  id_log\n",
       "0  Andrew       1       2\n",
       "1    Bobo       2       4"
      ]
     },
     "execution_count": 24,
     "metadata": {},
     "output_type": "execute_result"
    }
   ],
   "source": [
    "# Но если мы хотим свои суффиксы для лучшего понимания\n",
    "# то для этого есть спец параметр \n",
    "\n",
    "pd.merge(registrations, logins, how = 'inner', on = 'name', suffixes = ('_reg', '_log'))"
   ]
  },
  {
   "cell_type": "markdown",
   "id": "0f64e45f",
   "metadata": {},
   "source": [
    "## Методы для обработки текста "
   ]
  },
  {
   "cell_type": "code",
   "execution_count": 25,
   "id": "360f1bf0",
   "metadata": {},
   "outputs": [],
   "source": [
    "import numpy as np\n",
    "import pandas as pd"
   ]
  },
  {
   "cell_type": "code",
   "execution_count": 26,
   "id": "0612980b",
   "metadata": {},
   "outputs": [],
   "source": [
    "email = 'nastius@yandex.ru'"
   ]
  },
  {
   "cell_type": "code",
   "execution_count": 27,
   "id": "52524ed8",
   "metadata": {},
   "outputs": [
    {
     "data": {
      "text/plain": [
       "['nastius', 'yandex.ru']"
      ]
     },
     "execution_count": 27,
     "metadata": {},
     "output_type": "execute_result"
    }
   ],
   "source": [
    "email.split('@')"
   ]
  },
  {
   "cell_type": "code",
   "execution_count": 28,
   "id": "410f886d",
   "metadata": {},
   "outputs": [
    {
     "data": {
      "text/plain": [
       "0    andrew\n",
       "1      bobo\n",
       "2    claire\n",
       "3     david\n",
       "4         5\n",
       "dtype: object"
      ]
     },
     "execution_count": 28,
     "metadata": {},
     "output_type": "execute_result"
    }
   ],
   "source": [
    "# создадим объект Series\n",
    "\n",
    "names = pd.Series(['andrew', 'bobo', 'claire', 'david', '5'])\n",
    "\n",
    "names\n",
    "\n",
    "# строки в Pandas - это тип object (в новых версиях хотят сделать StringDType)"
   ]
  },
  {
   "cell_type": "code",
   "execution_count": 29,
   "id": "8bbc83ff",
   "metadata": {},
   "outputs": [
    {
     "data": {
      "text/plain": [
       "0    ANDREW\n",
       "1      BOBO\n",
       "2    CLAIRE\n",
       "3     DAVID\n",
       "4         5\n",
       "dtype: object"
      ]
     },
     "execution_count": 29,
     "metadata": {},
     "output_type": "execute_result"
    }
   ],
   "source": [
    "# делаем все внутренние строки большими \n",
    "\n",
    "names.str.upper()"
   ]
  },
  {
   "cell_type": "markdown",
   "id": "173b0082",
   "metadata": {},
   "source": [
    "Все методы доступные для обычных строк Питон - доступны и для строк в Pandas -> через `<pandas object>.str.<str function>`"
   ]
  },
  {
   "cell_type": "code",
   "execution_count": 30,
   "id": "dd8a0903",
   "metadata": {},
   "outputs": [
    {
     "data": {
      "text/plain": [
       "0    False\n",
       "1    False\n",
       "2    False\n",
       "3    False\n",
       "4     True\n",
       "dtype: bool"
      ]
     },
     "execution_count": 30,
     "metadata": {},
     "output_type": "execute_result"
    }
   ],
   "source": [
    "names.str.isdigit()"
   ]
  },
  {
   "cell_type": "markdown",
   "id": "8dd12398",
   "metadata": {},
   "source": [
    "так как тут получился Series из True/False, то это впоследствии мж испольовать для conditional filtering "
   ]
  },
  {
   "cell_type": "code",
   "execution_count": 32,
   "id": "7fb74019",
   "metadata": {},
   "outputs": [
    {
     "data": {
      "text/plain": [
       "0    GOOG,APPL,AMZN\n",
       "1        JPN,BAC,GS\n",
       "dtype: object"
      ]
     },
     "execution_count": 32,
     "metadata": {},
     "output_type": "execute_result"
    }
   ],
   "source": [
    "tech_finance = ['GOOG,APPL,AMZN', 'JPN,BAC,GS']\n",
    "tickers = pd.Series(tech_finance)\n",
    "tickers"
   ]
  },
  {
   "cell_type": "code",
   "execution_count": 33,
   "id": "5d5cddca",
   "metadata": {},
   "outputs": [
    {
     "data": {
      "text/plain": [
       "0    [GOOG, APPL, AMZN]\n",
       "1        [JPN, BAC, GS]\n",
       "dtype: object"
      ]
     },
     "execution_count": 33,
     "metadata": {},
     "output_type": "execute_result"
    }
   ],
   "source": [
    "tickers.str.split(',')"
   ]
  },
  {
   "cell_type": "code",
   "execution_count": 34,
   "id": "3f0e56a6",
   "metadata": {},
   "outputs": [
    {
     "data": {
      "text/plain": [
       "0    GOOG\n",
       "1     JPN\n",
       "dtype: object"
      ]
     },
     "execution_count": 34,
     "metadata": {},
     "output_type": "execute_result"
    }
   ],
   "source": [
    "tickers.str.split(',').str[0]\n",
    "\n",
    "# то есть получили по 1 элементу для каждого из списков\n",
    "# s.split(',')[0] - это синтаксис для обычного Питона "
   ]
  },
  {
   "cell_type": "code",
   "execution_count": 35,
   "id": "eea62655",
   "metadata": {},
   "outputs": [
    {
     "data": {
      "text/html": [
       "<div>\n",
       "<style scoped>\n",
       "    .dataframe tbody tr th:only-of-type {\n",
       "        vertical-align: middle;\n",
       "    }\n",
       "\n",
       "    .dataframe tbody tr th {\n",
       "        vertical-align: top;\n",
       "    }\n",
       "\n",
       "    .dataframe thead th {\n",
       "        text-align: right;\n",
       "    }\n",
       "</style>\n",
       "<table border=\"1\" class=\"dataframe\">\n",
       "  <thead>\n",
       "    <tr style=\"text-align: right;\">\n",
       "      <th></th>\n",
       "      <th>0</th>\n",
       "      <th>1</th>\n",
       "      <th>2</th>\n",
       "    </tr>\n",
       "  </thead>\n",
       "  <tbody>\n",
       "    <tr>\n",
       "      <th>0</th>\n",
       "      <td>GOOG</td>\n",
       "      <td>APPL</td>\n",
       "      <td>AMZN</td>\n",
       "    </tr>\n",
       "    <tr>\n",
       "      <th>1</th>\n",
       "      <td>JPN</td>\n",
       "      <td>BAC</td>\n",
       "      <td>GS</td>\n",
       "    </tr>\n",
       "  </tbody>\n",
       "</table>\n",
       "</div>"
      ],
      "text/plain": [
       "      0     1     2\n",
       "0  GOOG  APPL  AMZN\n",
       "1   JPN   BAC    GS"
      ]
     },
     "execution_count": 35,
     "metadata": {},
     "output_type": "execute_result"
    }
   ],
   "source": [
    "# получение df из исходного объекта Series\n",
    "# где значениями колонок будут разделенные строки \n",
    "\n",
    "tickers.str.split(',', expand = True)"
   ]
  },
  {
   "cell_type": "code",
   "execution_count": 36,
   "id": "bda6acc1",
   "metadata": {},
   "outputs": [
    {
     "data": {
      "text/plain": [
       "0      andrew  \n",
       "1         bo:bo\n",
       "2      claire  \n",
       "dtype: object"
      ]
     },
     "execution_count": 36,
     "metadata": {},
     "output_type": "execute_result"
    }
   ],
   "source": [
    "# создадим Series c ошибками в строках \n",
    "messy_names = pd.Series(['andrew  ', 'bo:bo', '  claire  '])\n",
    "messy_names"
   ]
  },
  {
   "cell_type": "markdown",
   "id": "d02f1bad",
   "metadata": {},
   "source": [
    "Хотим сделать эти данные красивыми - применим несколько строковых методов сразу "
   ]
  },
  {
   "cell_type": "code",
   "execution_count": 40,
   "id": "84eb48dc",
   "metadata": {},
   "outputs": [
    {
     "data": {
      "text/plain": [
       "0    Andrew\n",
       "1      Bobo\n",
       "2    Claire\n",
       "dtype: object"
      ]
     },
     "execution_count": 40,
     "metadata": {},
     "output_type": "execute_result"
    }
   ],
   "source": [
    "# сначала убираем ':', потом пробелы, потом делаем букву первую заглавной \n",
    "\n",
    "messy_names.str.replace(':', '').str.strip().str.capitalize()"
   ]
  },
  {
   "cell_type": "markdown",
   "id": "2f0a4f55",
   "metadata": {},
   "source": [
    "Если нет нужного строкового метода, то всегда можем применить apply() для собственной функции"
   ]
  },
  {
   "cell_type": "code",
   "execution_count": 41,
   "id": "7237c4db",
   "metadata": {},
   "outputs": [],
   "source": [
    "def clean_up(name):\n",
    "    name = name.replace(':', '')\n",
    "    name = name.strip()\n",
    "    name = name.capitalize()\n",
    "    return name"
   ]
  },
  {
   "cell_type": "code",
   "execution_count": 42,
   "id": "aaf8dfb1",
   "metadata": {},
   "outputs": [
    {
     "data": {
      "text/plain": [
       "0    Andrew\n",
       "1      Bobo\n",
       "2    Claire\n",
       "dtype: object"
      ]
     },
     "execution_count": 42,
     "metadata": {},
     "output_type": "execute_result"
    }
   ],
   "source": [
    "messy_names.apply(clean_up)"
   ]
  },
  {
   "cell_type": "markdown",
   "id": "83864d94",
   "metadata": {},
   "source": [
    "Какой из вариантов более эффективный? Применять встроенные методы строк Pandas или через apply()?\n",
    "\n",
    "Ответим на этот вопрос через timeit"
   ]
  },
  {
   "cell_type": "code",
   "execution_count": 43,
   "id": "baaee9a9",
   "metadata": {},
   "outputs": [],
   "source": [
    "import timeit\n",
    "\n",
    "setup = '''\n",
    "import numpy as np\n",
    "import pandas as pd \n",
    "messy_names = pd.Series(['andrew  ', 'bo:bo', '  claire  '])\n",
    "def clean_up(name):\n",
    "    name = name.replace(':', '')\n",
    "    name = name.strip()\n",
    "    name = name.capitalize()\n",
    "    return name\n",
    "'''\n",
    "\n",
    "statem_1 = '''\n",
    "messy_names.str.replace(':', '').str.strip().str.capitalize()\n",
    "'''\n",
    "\n",
    "statem_2 = '''\n",
    "messy_names.apply(clean_up)\n",
    "'''\n",
    "\n",
    "statem_3 = '''\n",
    "np.vectorize(clean_up)(messy_names)\n",
    "'''"
   ]
  },
  {
   "cell_type": "code",
   "execution_count": 44,
   "id": "17498371",
   "metadata": {},
   "outputs": [
    {
     "data": {
      "text/plain": [
       "3.440968900000371"
      ]
     },
     "execution_count": 44,
     "metadata": {},
     "output_type": "execute_result"
    }
   ],
   "source": [
    "timeit.timeit(setup = setup, stmt = statem_1, number = 10000)"
   ]
  },
  {
   "cell_type": "code",
   "execution_count": 45,
   "id": "24136244",
   "metadata": {},
   "outputs": [
    {
     "data": {
      "text/plain": [
       "1.041928700000426"
      ]
     },
     "execution_count": 45,
     "metadata": {},
     "output_type": "execute_result"
    }
   ],
   "source": [
    "timeit.timeit(setup = setup, stmt = statem_2, number = 10000)"
   ]
  },
  {
   "cell_type": "code",
   "execution_count": 46,
   "id": "dd990b8f",
   "metadata": {},
   "outputs": [
    {
     "data": {
      "text/plain": [
       "0.2899133000000802"
      ]
     },
     "execution_count": 46,
     "metadata": {},
     "output_type": "execute_result"
    }
   ],
   "source": [
    "timeit.timeit(setup = setup, stmt = statem_3, number = 10000)"
   ]
  },
  {
   "cell_type": "markdown",
   "id": "3fd0dd31",
   "metadata": {},
   "source": [
    "Итог: для повышения производительности лучше использовать свои собственные функции через векторизацию (np.vectorize()) ! "
   ]
  },
  {
   "cell_type": "markdown",
   "id": "3649e62f",
   "metadata": {},
   "source": [
    "## Методы для работы с датой и временем "
   ]
  },
  {
   "cell_type": "markdown",
   "id": "c84716c6",
   "metadata": {},
   "source": [
    "В Питоне есть объект datetime для хранения информации о дате и времени \n",
    "\n",
    "В Pandas также можно работать с этими объектами "
   ]
  },
  {
   "cell_type": "code",
   "execution_count": 47,
   "id": "03d1cc99",
   "metadata": {},
   "outputs": [],
   "source": [
    "from datetime import datetime"
   ]
  },
  {
   "cell_type": "code",
   "execution_count": 50,
   "id": "6453241c",
   "metadata": {},
   "outputs": [
    {
     "data": {
      "text/plain": [
       "datetime.datetime(2023, 11, 12, 0, 0)"
      ]
     },
     "execution_count": 50,
     "metadata": {},
     "output_type": "execute_result"
    }
   ],
   "source": [
    "# создадим свою дату\n",
    "\n",
    "year = 2023\n",
    "month = 11\n",
    "day = 12\n",
    "hour = 6\n",
    "mins = 42\n",
    "sec = 56\n",
    "\n",
    "my_date = datetime(year, month, day)\n",
    "my_date"
   ]
  },
  {
   "cell_type": "code",
   "execution_count": 52,
   "id": "488838b8",
   "metadata": {},
   "outputs": [
    {
     "data": {
      "text/plain": [
       "datetime.datetime(2023, 11, 12, 6, 42, 56)"
      ]
     },
     "execution_count": 52,
     "metadata": {},
     "output_type": "execute_result"
    }
   ],
   "source": [
    "my_datetime = datetime(year, month, day, hour, mins, sec)\n",
    "my_datetime"
   ]
  },
  {
   "cell_type": "code",
   "execution_count": 53,
   "id": "f94e8d93",
   "metadata": {},
   "outputs": [
    {
     "data": {
      "text/plain": [
       "2023"
      ]
     },
     "execution_count": 53,
     "metadata": {},
     "output_type": "execute_result"
    }
   ],
   "source": [
    "my_datetime.year"
   ]
  },
  {
   "cell_type": "code",
   "execution_count": 57,
   "id": "622de1ab",
   "metadata": {},
   "outputs": [
    {
     "data": {
      "text/plain": [
       "0    Nov 11, 2021\n",
       "1      2030-02-24\n",
       "2            None\n",
       "dtype: object"
      ]
     },
     "execution_count": 57,
     "metadata": {},
     "output_type": "execute_result"
    }
   ],
   "source": [
    "my_ser = pd.Series(['Nov 11, 2021', '2030-02-24', None])\n",
    "my_ser"
   ]
  },
  {
   "cell_type": "code",
   "execution_count": 58,
   "id": "e4b9d1ba",
   "metadata": {},
   "outputs": [
    {
     "data": {
      "text/plain": [
       "0   2021-11-11\n",
       "1   2030-02-24\n",
       "2          NaT\n",
       "dtype: datetime64[ns]"
      ]
     },
     "execution_count": 58,
     "metadata": {},
     "output_type": "execute_result"
    }
   ],
   "source": [
    "# преобразование строки в формат дата -> to_datetime()\n",
    "\n",
    "pd.to_datetime(my_ser)"
   ]
  },
  {
   "cell_type": "code",
   "execution_count": 59,
   "id": "bc5b3e5c",
   "metadata": {},
   "outputs": [
    {
     "data": {
      "text/plain": [
       "Timestamp('2021-11-11 00:00:00')"
      ]
     },
     "execution_count": 59,
     "metadata": {},
     "output_type": "execute_result"
    }
   ],
   "source": [
    "time_ser = pd.to_datetime(my_ser)\n",
    "\n",
    "time_ser[0]\n",
    "\n",
    "# видим, что теперь каждый объект Series есть Timestamp\n",
    "# а значит, что мж извлекать отдельные части из даты "
   ]
  },
  {
   "cell_type": "code",
   "execution_count": 60,
   "id": "3e2cd48d",
   "metadata": {},
   "outputs": [
    {
     "data": {
      "text/plain": [
       "11"
      ]
     },
     "execution_count": 60,
     "metadata": {},
     "output_type": "execute_result"
    }
   ],
   "source": [
    "time_ser[0].month"
   ]
  },
  {
   "cell_type": "code",
   "execution_count": 62,
   "id": "eeba73c4",
   "metadata": {},
   "outputs": [
    {
     "data": {
      "text/plain": [
       "Timestamp('2020-12-31 00:00:00')"
      ]
     },
     "execution_count": 62,
     "metadata": {},
     "output_type": "execute_result"
    }
   ],
   "source": [
    "data_1 = '31-12-2020'\n",
    "pd.to_datetime(data_1)"
   ]
  },
  {
   "cell_type": "code",
   "execution_count": 63,
   "id": "035aef8f",
   "metadata": {},
   "outputs": [
    {
     "data": {
      "text/plain": [
       "Timestamp('2034-10-12 00:00:00')"
      ]
     },
     "execution_count": 63,
     "metadata": {},
     "output_type": "execute_result"
    }
   ],
   "source": [
    "data_2 = '10-12-2034'\n",
    "pd.to_datetime(data_2)"
   ]
  },
  {
   "cell_type": "code",
   "execution_count": 66,
   "id": "91a5442d",
   "metadata": {},
   "outputs": [
    {
     "data": {
      "text/plain": [
       "31"
      ]
     },
     "execution_count": 66,
     "metadata": {},
     "output_type": "execute_result"
    }
   ],
   "source": [
    "pd_data_1 = pd.to_datetime(data_1)\n",
    "pd_data_1.day"
   ]
  },
  {
   "cell_type": "code",
   "execution_count": 67,
   "id": "3cbb45f1",
   "metadata": {},
   "outputs": [
    {
     "data": {
      "text/plain": [
       "12"
      ]
     },
     "execution_count": 67,
     "metadata": {},
     "output_type": "execute_result"
    }
   ],
   "source": [
    "pd_data_2 = pd.to_datetime(data_2)\n",
    "pd_data_2.day"
   ]
  },
  {
   "cell_type": "markdown",
   "id": "9bb2b905",
   "metadata": {},
   "source": [
    "То есть во 2 примере Pandas распознает второе число как день в дате, а не первое, как мы этого ожидаем (это американский формат даты) \n",
    "\n",
    "В 1 примере то, что первое число это день сомнений не было, так как такого месяца не существует, поэтому pandas распознал "
   ]
  },
  {
   "cell_type": "markdown",
   "id": "0d8c965f",
   "metadata": {},
   "source": [
    "Чтобы такого диссонанса не было, то надо указывать этот нюанс отдельным аргументом -> dayfirst = True "
   ]
  },
  {
   "cell_type": "code",
   "execution_count": 68,
   "id": "7d52169a",
   "metadata": {},
   "outputs": [
    {
     "data": {
      "text/plain": [
       "Timestamp('2034-12-10 00:00:00')"
      ]
     },
     "execution_count": 68,
     "metadata": {},
     "output_type": "execute_result"
    }
   ],
   "source": [
    "data_2 = '10-12-2034'\n",
    "pd.to_datetime(data_2, dayfirst = True)"
   ]
  },
  {
   "cell_type": "code",
   "execution_count": 69,
   "id": "436d6f95",
   "metadata": {},
   "outputs": [
    {
     "data": {
      "text/plain": [
       "10"
      ]
     },
     "execution_count": 69,
     "metadata": {},
     "output_type": "execute_result"
    }
   ],
   "source": [
    "pd.to_datetime(data_2, dayfirst = True).day"
   ]
  },
  {
   "cell_type": "markdown",
   "id": "80964fe7",
   "metadata": {},
   "source": [
    "MAIN: чтобы не запутаться с форматом данных (евпрпейским или американским), то надо следить за тем, чтобы даты были в одном формате \n",
    "\n",
    "то есть при слиянии датафреймов следить за этим моментом! "
   ]
  },
  {
   "cell_type": "markdown",
   "id": "2c9c7373",
   "metadata": {},
   "source": [
    "### Форматирование TimeStamp"
   ]
  },
  {
   "cell_type": "code",
   "execution_count": 71,
   "id": "351416c8",
   "metadata": {},
   "outputs": [
    {
     "data": {
      "text/plain": [
       "Timestamp('2097-12-22 00:00:00')"
      ]
     },
     "execution_count": 71,
     "metadata": {},
     "output_type": "execute_result"
    }
   ],
   "source": [
    "style_date = '22--Dec--2097'\n",
    "\n",
    "pd.to_datetime(style_date, format = '%d--%b--%Y')\n",
    "\n",
    "# форматирование берется из таблицы кодов "
   ]
  },
  {
   "cell_type": "code",
   "execution_count": 72,
   "id": "e84accb2",
   "metadata": {},
   "outputs": [
    {
     "data": {
      "text/plain": [
       "Timestamp('2021-12-12 00:00:00')"
      ]
     },
     "execution_count": 72,
     "metadata": {},
     "output_type": "execute_result"
    }
   ],
   "source": [
    "custom_date = '12th of Dec 2021'\n",
    "\n",
    "pd.to_datetime(custom_date)\n",
    "\n",
    "# функция to_datetime() написана очень хорошо, поэтому мж разобрать и более сложные форматы сама"
   ]
  },
  {
   "cell_type": "markdown",
   "id": "3c1f9ccb",
   "metadata": {},
   "source": [
    "### Работа с df, содержащими даты "
   ]
  },
  {
   "cell_type": "code",
   "execution_count": 73,
   "id": "f07d85b3",
   "metadata": {},
   "outputs": [
    {
     "data": {
      "text/html": [
       "<div>\n",
       "<style scoped>\n",
       "    .dataframe tbody tr th:only-of-type {\n",
       "        vertical-align: middle;\n",
       "    }\n",
       "\n",
       "    .dataframe tbody tr th {\n",
       "        vertical-align: top;\n",
       "    }\n",
       "\n",
       "    .dataframe thead th {\n",
       "        text-align: right;\n",
       "    }\n",
       "</style>\n",
       "<table border=\"1\" class=\"dataframe\">\n",
       "  <thead>\n",
       "    <tr style=\"text-align: right;\">\n",
       "      <th></th>\n",
       "      <th>DATE</th>\n",
       "      <th>MRTSSM4453USN</th>\n",
       "    </tr>\n",
       "  </thead>\n",
       "  <tbody>\n",
       "    <tr>\n",
       "      <th>0</th>\n",
       "      <td>1992-01-01</td>\n",
       "      <td>1509</td>\n",
       "    </tr>\n",
       "    <tr>\n",
       "      <th>1</th>\n",
       "      <td>1992-02-01</td>\n",
       "      <td>1541</td>\n",
       "    </tr>\n",
       "    <tr>\n",
       "      <th>2</th>\n",
       "      <td>1992-03-01</td>\n",
       "      <td>1597</td>\n",
       "    </tr>\n",
       "    <tr>\n",
       "      <th>3</th>\n",
       "      <td>1992-04-01</td>\n",
       "      <td>1675</td>\n",
       "    </tr>\n",
       "    <tr>\n",
       "      <th>4</th>\n",
       "      <td>1992-05-01</td>\n",
       "      <td>1822</td>\n",
       "    </tr>\n",
       "  </tbody>\n",
       "</table>\n",
       "</div>"
      ],
      "text/plain": [
       "         DATE  MRTSSM4453USN\n",
       "0  1992-01-01           1509\n",
       "1  1992-02-01           1541\n",
       "2  1992-03-01           1597\n",
       "3  1992-04-01           1675\n",
       "4  1992-05-01           1822"
      ]
     },
     "execution_count": 73,
     "metadata": {},
     "output_type": "execute_result"
    }
   ],
   "source": [
    "sales = pd.read_csv('RetailSales_BeerWineLiquor.csv')\n",
    "\n",
    "sales.head()"
   ]
  },
  {
   "cell_type": "code",
   "execution_count": 74,
   "id": "458a3c75",
   "metadata": {},
   "outputs": [
    {
     "data": {
      "text/plain": [
       "0      1992-01-01\n",
       "1      1992-02-01\n",
       "2      1992-03-01\n",
       "3      1992-04-01\n",
       "4      1992-05-01\n",
       "          ...    \n",
       "335    2019-12-01\n",
       "336    2020-01-01\n",
       "337    2020-02-01\n",
       "338    2020-03-01\n",
       "339    2020-04-01\n",
       "Name: DATE, Length: 340, dtype: object"
      ]
     },
     "execution_count": 74,
     "metadata": {},
     "output_type": "execute_result"
    }
   ],
   "source": [
    "sales['DATE']\n",
    "\n",
    "# видим, что даты в строковом типе, а не в типе дата были в файле"
   ]
  },
  {
   "cell_type": "code",
   "execution_count": 75,
   "id": "00b926b9",
   "metadata": {},
   "outputs": [
    {
     "data": {
      "text/html": [
       "<div>\n",
       "<style scoped>\n",
       "    .dataframe tbody tr th:only-of-type {\n",
       "        vertical-align: middle;\n",
       "    }\n",
       "\n",
       "    .dataframe tbody tr th {\n",
       "        vertical-align: top;\n",
       "    }\n",
       "\n",
       "    .dataframe thead th {\n",
       "        text-align: right;\n",
       "    }\n",
       "</style>\n",
       "<table border=\"1\" class=\"dataframe\">\n",
       "  <thead>\n",
       "    <tr style=\"text-align: right;\">\n",
       "      <th></th>\n",
       "      <th>DATE</th>\n",
       "      <th>MRTSSM4453USN</th>\n",
       "    </tr>\n",
       "  </thead>\n",
       "  <tbody>\n",
       "    <tr>\n",
       "      <th>0</th>\n",
       "      <td>1992-01-01</td>\n",
       "      <td>1509</td>\n",
       "    </tr>\n",
       "    <tr>\n",
       "      <th>1</th>\n",
       "      <td>1992-02-01</td>\n",
       "      <td>1541</td>\n",
       "    </tr>\n",
       "    <tr>\n",
       "      <th>2</th>\n",
       "      <td>1992-03-01</td>\n",
       "      <td>1597</td>\n",
       "    </tr>\n",
       "    <tr>\n",
       "      <th>3</th>\n",
       "      <td>1992-04-01</td>\n",
       "      <td>1675</td>\n",
       "    </tr>\n",
       "    <tr>\n",
       "      <th>4</th>\n",
       "      <td>1992-05-01</td>\n",
       "      <td>1822</td>\n",
       "    </tr>\n",
       "  </tbody>\n",
       "</table>\n",
       "</div>"
      ],
      "text/plain": [
       "        DATE  MRTSSM4453USN\n",
       "0 1992-01-01           1509\n",
       "1 1992-02-01           1541\n",
       "2 1992-03-01           1597\n",
       "3 1992-04-01           1675\n",
       "4 1992-05-01           1822"
      ]
     },
     "execution_count": 75,
     "metadata": {},
     "output_type": "execute_result"
    }
   ],
   "source": [
    "# хотим сконвертировать в дата-формат\n",
    "\n",
    "sales['DATE'] = pd.to_datetime(sales['DATE'])\n",
    "\n",
    "sales.head()"
   ]
  },
  {
   "cell_type": "code",
   "execution_count": 76,
   "id": "658bdcab",
   "metadata": {},
   "outputs": [
    {
     "data": {
      "text/plain": [
       "0     1992-01-01\n",
       "1     1992-02-01\n",
       "2     1992-03-01\n",
       "3     1992-04-01\n",
       "4     1992-05-01\n",
       "         ...    \n",
       "335   2019-12-01\n",
       "336   2020-01-01\n",
       "337   2020-02-01\n",
       "338   2020-03-01\n",
       "339   2020-04-01\n",
       "Name: DATE, Length: 340, dtype: datetime64[ns]"
      ]
     },
     "execution_count": 76,
     "metadata": {},
     "output_type": "execute_result"
    }
   ],
   "source": [
    "sales['DATE']\n",
    "\n",
    "# видим, что данные действительно преобразовались "
   ]
  },
  {
   "cell_type": "code",
   "execution_count": 77,
   "id": "b20ed157",
   "metadata": {},
   "outputs": [
    {
     "data": {
      "text/plain": [
       "4"
      ]
     },
     "execution_count": 77,
     "metadata": {},
     "output_type": "execute_result"
    }
   ],
   "source": [
    "sales['DATE'][3].month"
   ]
  },
  {
   "cell_type": "code",
   "execution_count": 79,
   "id": "147302b9",
   "metadata": {},
   "outputs": [
    {
     "data": {
      "text/plain": [
       "0     1992-01-01\n",
       "1     1992-02-01\n",
       "2     1992-03-01\n",
       "3     1992-04-01\n",
       "4     1992-05-01\n",
       "         ...    \n",
       "335   2019-12-01\n",
       "336   2020-01-01\n",
       "337   2020-02-01\n",
       "338   2020-03-01\n",
       "339   2020-04-01\n",
       "Name: DATE, Length: 340, dtype: datetime64[ns]"
      ]
     },
     "execution_count": 79,
     "metadata": {},
     "output_type": "execute_result"
    }
   ],
   "source": [
    "# можно сразу при чтении файла указать, какие колонки считать DATE\n",
    "# то есть применится функция to_datetime() сразу\n",
    "\n",
    "sales_1 = pd.read_csv('RetailSales_BeerWineLiquor.csv', parse_dates = [0])\n",
    "# указываем индексы колонок, что за даты берем \n",
    "\n",
    "sales_1['DATE']"
   ]
  },
  {
   "cell_type": "markdown",
   "id": "eba26650",
   "metadata": {},
   "source": [
    "### Resampling"
   ]
  },
  {
   "cell_type": "code",
   "execution_count": 80,
   "id": "b64a9f66",
   "metadata": {},
   "outputs": [
    {
     "data": {
      "text/html": [
       "<div>\n",
       "<style scoped>\n",
       "    .dataframe tbody tr th:only-of-type {\n",
       "        vertical-align: middle;\n",
       "    }\n",
       "\n",
       "    .dataframe tbody tr th {\n",
       "        vertical-align: top;\n",
       "    }\n",
       "\n",
       "    .dataframe thead th {\n",
       "        text-align: right;\n",
       "    }\n",
       "</style>\n",
       "<table border=\"1\" class=\"dataframe\">\n",
       "  <thead>\n",
       "    <tr style=\"text-align: right;\">\n",
       "      <th></th>\n",
       "      <th>MRTSSM4453USN</th>\n",
       "    </tr>\n",
       "    <tr>\n",
       "      <th>DATE</th>\n",
       "      <th></th>\n",
       "    </tr>\n",
       "  </thead>\n",
       "  <tbody>\n",
       "    <tr>\n",
       "      <th>1992-01-01</th>\n",
       "      <td>1509</td>\n",
       "    </tr>\n",
       "    <tr>\n",
       "      <th>1992-02-01</th>\n",
       "      <td>1541</td>\n",
       "    </tr>\n",
       "    <tr>\n",
       "      <th>1992-03-01</th>\n",
       "      <td>1597</td>\n",
       "    </tr>\n",
       "    <tr>\n",
       "      <th>1992-04-01</th>\n",
       "      <td>1675</td>\n",
       "    </tr>\n",
       "    <tr>\n",
       "      <th>1992-05-01</th>\n",
       "      <td>1822</td>\n",
       "    </tr>\n",
       "  </tbody>\n",
       "</table>\n",
       "</div>"
      ],
      "text/plain": [
       "            MRTSSM4453USN\n",
       "DATE                     \n",
       "1992-01-01           1509\n",
       "1992-02-01           1541\n",
       "1992-03-01           1597\n",
       "1992-04-01           1675\n",
       "1992-05-01           1822"
      ]
     },
     "execution_count": 80,
     "metadata": {},
     "output_type": "execute_result"
    }
   ],
   "source": [
    "# поменяем индекс на дату \n",
    "sales_1 = sales_1.set_index('DATE')\n",
    "\n",
    "sales_1.head()"
   ]
  },
  {
   "cell_type": "code",
   "execution_count": 81,
   "id": "487e4f0a",
   "metadata": {},
   "outputs": [
    {
     "data": {
      "text/plain": [
       "<pandas.core.resample.DatetimeIndexResampler object at 0x000002123C4F8438>"
      ]
     },
     "execution_count": 81,
     "metadata": {},
     "output_type": "execute_result"
    }
   ],
   "source": [
    "# перегруппировываем наши данные по одному году \n",
    "sales_1.resample(rule = 'A')\n",
    "\n",
    "# почему в аргументе rule пишем А - пользуемся спец таблицей (документацией)"
   ]
  },
  {
   "cell_type": "code",
   "execution_count": 83,
   "id": "bbbea228",
   "metadata": {},
   "outputs": [
    {
     "data": {
      "text/html": [
       "<div>\n",
       "<style scoped>\n",
       "    .dataframe tbody tr th:only-of-type {\n",
       "        vertical-align: middle;\n",
       "    }\n",
       "\n",
       "    .dataframe tbody tr th {\n",
       "        vertical-align: top;\n",
       "    }\n",
       "\n",
       "    .dataframe thead th {\n",
       "        text-align: right;\n",
       "    }\n",
       "</style>\n",
       "<table border=\"1\" class=\"dataframe\">\n",
       "  <thead>\n",
       "    <tr style=\"text-align: right;\">\n",
       "      <th></th>\n",
       "      <th>MRTSSM4453USN</th>\n",
       "    </tr>\n",
       "    <tr>\n",
       "      <th>DATE</th>\n",
       "      <th></th>\n",
       "    </tr>\n",
       "  </thead>\n",
       "  <tbody>\n",
       "    <tr>\n",
       "      <th>1992-12-31</th>\n",
       "      <td>1807.250000</td>\n",
       "    </tr>\n",
       "    <tr>\n",
       "      <th>1993-12-31</th>\n",
       "      <td>1794.833333</td>\n",
       "    </tr>\n",
       "    <tr>\n",
       "      <th>1994-12-31</th>\n",
       "      <td>1841.750000</td>\n",
       "    </tr>\n",
       "    <tr>\n",
       "      <th>1995-12-31</th>\n",
       "      <td>1833.916667</td>\n",
       "    </tr>\n",
       "    <tr>\n",
       "      <th>1996-12-31</th>\n",
       "      <td>1929.750000</td>\n",
       "    </tr>\n",
       "  </tbody>\n",
       "</table>\n",
       "</div>"
      ],
      "text/plain": [
       "            MRTSSM4453USN\n",
       "DATE                     \n",
       "1992-12-31    1807.250000\n",
       "1993-12-31    1794.833333\n",
       "1994-12-31    1841.750000\n",
       "1995-12-31    1833.916667\n",
       "1996-12-31    1929.750000"
      ]
     },
     "execution_count": 83,
     "metadata": {},
     "output_type": "execute_result"
    }
   ],
   "source": [
    "sales_1.resample(rule = 'A').mean().head()"
   ]
  },
  {
   "cell_type": "code",
   "execution_count": 84,
   "id": "ffe60930",
   "metadata": {},
   "outputs": [
    {
     "data": {
      "text/html": [
       "<div>\n",
       "<style scoped>\n",
       "    .dataframe tbody tr th:only-of-type {\n",
       "        vertical-align: middle;\n",
       "    }\n",
       "\n",
       "    .dataframe tbody tr th {\n",
       "        vertical-align: top;\n",
       "    }\n",
       "\n",
       "    .dataframe thead th {\n",
       "        text-align: right;\n",
       "    }\n",
       "</style>\n",
       "<table border=\"1\" class=\"dataframe\">\n",
       "  <thead>\n",
       "    <tr style=\"text-align: right;\">\n",
       "      <th></th>\n",
       "      <th>DATE</th>\n",
       "      <th>MRTSSM4453USN</th>\n",
       "    </tr>\n",
       "  </thead>\n",
       "  <tbody>\n",
       "    <tr>\n",
       "      <th>0</th>\n",
       "      <td>1992-01-01</td>\n",
       "      <td>1509</td>\n",
       "    </tr>\n",
       "    <tr>\n",
       "      <th>1</th>\n",
       "      <td>1992-02-01</td>\n",
       "      <td>1541</td>\n",
       "    </tr>\n",
       "    <tr>\n",
       "      <th>2</th>\n",
       "      <td>1992-03-01</td>\n",
       "      <td>1597</td>\n",
       "    </tr>\n",
       "    <tr>\n",
       "      <th>3</th>\n",
       "      <td>1992-04-01</td>\n",
       "      <td>1675</td>\n",
       "    </tr>\n",
       "    <tr>\n",
       "      <th>4</th>\n",
       "      <td>1992-05-01</td>\n",
       "      <td>1822</td>\n",
       "    </tr>\n",
       "  </tbody>\n",
       "</table>\n",
       "</div>"
      ],
      "text/plain": [
       "        DATE  MRTSSM4453USN\n",
       "0 1992-01-01           1509\n",
       "1 1992-02-01           1541\n",
       "2 1992-03-01           1597\n",
       "3 1992-04-01           1675\n",
       "4 1992-05-01           1822"
      ]
     },
     "execution_count": 84,
     "metadata": {},
     "output_type": "execute_result"
    }
   ],
   "source": [
    "sales = pd.read_csv('RetailSales_BeerWineLiquor.csv', parse_dates = [0])\n",
    "\n",
    "sales.head()"
   ]
  },
  {
   "cell_type": "code",
   "execution_count": 86,
   "id": "861c33a0",
   "metadata": {},
   "outputs": [
    {
     "name": "stdout",
     "output_type": "stream",
     "text": [
      "<class 'pandas.core.frame.DataFrame'>\n",
      "RangeIndex: 340 entries, 0 to 339\n",
      "Data columns (total 2 columns):\n",
      " #   Column         Non-Null Count  Dtype         \n",
      "---  ------         --------------  -----         \n",
      " 0   DATE           340 non-null    datetime64[ns]\n",
      " 1   MRTSSM4453USN  340 non-null    int64         \n",
      "dtypes: datetime64[ns](1), int64(1)\n",
      "memory usage: 5.4 KB\n"
     ]
    }
   ],
   "source": [
    "sales.info()\n",
    "\n",
    "# то есть дата автоматом перешла в тип datetime64 из-за parse_dates"
   ]
  },
  {
   "cell_type": "code",
   "execution_count": 87,
   "id": "4e14cb9a",
   "metadata": {},
   "outputs": [
    {
     "data": {
      "text/plain": [
       "0      1992\n",
       "1      1992\n",
       "2      1992\n",
       "3      1992\n",
       "4      1992\n",
       "       ... \n",
       "335    2019\n",
       "336    2020\n",
       "337    2020\n",
       "338    2020\n",
       "339    2020\n",
       "Name: DATE, Length: 340, dtype: int64"
      ]
     },
     "execution_count": 87,
     "metadata": {},
     "output_type": "execute_result"
    }
   ],
   "source": [
    "sales['DATE'].dt.year\n",
    "\n",
    "# можем достать год для каждой даты из объекта Series с помощью dt!"
   ]
  },
  {
   "cell_type": "markdown",
   "id": "342efaf3",
   "metadata": {},
   "source": [
    "## Ввод и вывод данных в Pandas "
   ]
  },
  {
   "cell_type": "markdown",
   "id": "be60bacd",
   "metadata": {},
   "source": [
    "Pandas мж читать данные из широкого спектра источников \n",
    "\n",
    "считать из источника:\n",
    "pd.read_<source>('...')\n",
    "\n",
    "записать df в какой-то тип:\n",
    "df.to_<source>('...')"
   ]
  },
  {
   "cell_type": "markdown",
   "id": "d71e3240",
   "metadata": {},
   "source": [
    "### CSV-файлы "
   ]
  },
  {
   "cell_type": "code",
   "execution_count": 89,
   "id": "4487f8b2",
   "metadata": {},
   "outputs": [],
   "source": [
    "import pandas as pd "
   ]
  },
  {
   "cell_type": "code",
   "execution_count": 90,
   "id": "b2caa21f",
   "metadata": {},
   "outputs": [
    {
     "data": {
      "text/plain": [
       "'C:\\\\Users\\\\User'"
      ]
     },
     "execution_count": 90,
     "metadata": {},
     "output_type": "execute_result"
    }
   ],
   "source": [
    "pwd"
   ]
  },
  {
   "cell_type": "code",
   "execution_count": 1,
   "id": "90703d3d",
   "metadata": {},
   "outputs": [],
   "source": [
    "# ls"
   ]
  },
  {
   "cell_type": "code",
   "execution_count": 93,
   "id": "5d646c33",
   "metadata": {},
   "outputs": [
    {
     "data": {
      "text/plain": [
       "'C:\\\\Users\\\\User'"
      ]
     },
     "execution_count": 93,
     "metadata": {},
     "output_type": "execute_result"
    }
   ],
   "source": [
    "# для PyCharm\n",
    "import os\n",
    "\n",
    "os.getcwd() # = get working directory "
   ]
  },
  {
   "cell_type": "code",
   "execution_count": 94,
   "id": "d1c5c4d4",
   "metadata": {},
   "outputs": [
    {
     "data": {
      "text/html": [
       "<div>\n",
       "<style scoped>\n",
       "    .dataframe tbody tr th:only-of-type {\n",
       "        vertical-align: middle;\n",
       "    }\n",
       "\n",
       "    .dataframe tbody tr th {\n",
       "        vertical-align: top;\n",
       "    }\n",
       "\n",
       "    .dataframe thead th {\n",
       "        text-align: right;\n",
       "    }\n",
       "</style>\n",
       "<table border=\"1\" class=\"dataframe\">\n",
       "  <thead>\n",
       "    <tr style=\"text-align: right;\">\n",
       "      <th></th>\n",
       "      <th>a</th>\n",
       "      <th>b</th>\n",
       "      <th>c</th>\n",
       "      <th>d</th>\n",
       "    </tr>\n",
       "  </thead>\n",
       "  <tbody>\n",
       "    <tr>\n",
       "      <th>0</th>\n",
       "      <td>0</td>\n",
       "      <td>1</td>\n",
       "      <td>2</td>\n",
       "      <td>3</td>\n",
       "    </tr>\n",
       "    <tr>\n",
       "      <th>1</th>\n",
       "      <td>4</td>\n",
       "      <td>5</td>\n",
       "      <td>6</td>\n",
       "      <td>7</td>\n",
       "    </tr>\n",
       "    <tr>\n",
       "      <th>2</th>\n",
       "      <td>8</td>\n",
       "      <td>9</td>\n",
       "      <td>10</td>\n",
       "      <td>11</td>\n",
       "    </tr>\n",
       "    <tr>\n",
       "      <th>3</th>\n",
       "      <td>12</td>\n",
       "      <td>13</td>\n",
       "      <td>14</td>\n",
       "      <td>15</td>\n",
       "    </tr>\n",
       "  </tbody>\n",
       "</table>\n",
       "</div>"
      ],
      "text/plain": [
       "    a   b   c   d\n",
       "0   0   1   2   3\n",
       "1   4   5   6   7\n",
       "2   8   9  10  11\n",
       "3  12  13  14  15"
      ]
     },
     "execution_count": 94,
     "metadata": {},
     "output_type": "execute_result"
    }
   ],
   "source": [
    "df = pd.read_csv('example.csv')\n",
    "\n",
    "df"
   ]
  },
  {
   "cell_type": "code",
   "execution_count": 95,
   "id": "3e75cbe9",
   "metadata": {},
   "outputs": [
    {
     "data": {
      "text/html": [
       "<div>\n",
       "<style scoped>\n",
       "    .dataframe tbody tr th:only-of-type {\n",
       "        vertical-align: middle;\n",
       "    }\n",
       "\n",
       "    .dataframe tbody tr th {\n",
       "        vertical-align: top;\n",
       "    }\n",
       "\n",
       "    .dataframe thead th {\n",
       "        text-align: right;\n",
       "    }\n",
       "</style>\n",
       "<table border=\"1\" class=\"dataframe\">\n",
       "  <thead>\n",
       "    <tr style=\"text-align: right;\">\n",
       "      <th></th>\n",
       "      <th>0</th>\n",
       "      <th>1</th>\n",
       "      <th>2</th>\n",
       "      <th>3</th>\n",
       "    </tr>\n",
       "  </thead>\n",
       "  <tbody>\n",
       "    <tr>\n",
       "      <th>0</th>\n",
       "      <td>a</td>\n",
       "      <td>b</td>\n",
       "      <td>c</td>\n",
       "      <td>d</td>\n",
       "    </tr>\n",
       "    <tr>\n",
       "      <th>1</th>\n",
       "      <td>0</td>\n",
       "      <td>1</td>\n",
       "      <td>2</td>\n",
       "      <td>3</td>\n",
       "    </tr>\n",
       "    <tr>\n",
       "      <th>2</th>\n",
       "      <td>4</td>\n",
       "      <td>5</td>\n",
       "      <td>6</td>\n",
       "      <td>7</td>\n",
       "    </tr>\n",
       "    <tr>\n",
       "      <th>3</th>\n",
       "      <td>8</td>\n",
       "      <td>9</td>\n",
       "      <td>10</td>\n",
       "      <td>11</td>\n",
       "    </tr>\n",
       "    <tr>\n",
       "      <th>4</th>\n",
       "      <td>12</td>\n",
       "      <td>13</td>\n",
       "      <td>14</td>\n",
       "      <td>15</td>\n",
       "    </tr>\n",
       "  </tbody>\n",
       "</table>\n",
       "</div>"
      ],
      "text/plain": [
       "    0   1   2   3\n",
       "0   a   b   c   d\n",
       "1   0   1   2   3\n",
       "2   4   5   6   7\n",
       "3   8   9  10  11\n",
       "4  12  13  14  15"
      ]
     },
     "execution_count": 95,
     "metadata": {},
     "output_type": "execute_result"
    }
   ],
   "source": [
    "# если первая строка в файле является не названием колонок, а данными\n",
    "# через доп аргумент header = None\n",
    "\n",
    "df = pd.read_csv('example.csv', header = None)\n",
    "df"
   ]
  },
  {
   "cell_type": "code",
   "execution_count": 106,
   "id": "46f613b1",
   "metadata": {},
   "outputs": [
    {
     "data": {
      "text/html": [
       "<div>\n",
       "<style scoped>\n",
       "    .dataframe tbody tr th:only-of-type {\n",
       "        vertical-align: middle;\n",
       "    }\n",
       "\n",
       "    .dataframe tbody tr th {\n",
       "        vertical-align: top;\n",
       "    }\n",
       "\n",
       "    .dataframe thead th {\n",
       "        text-align: right;\n",
       "    }\n",
       "</style>\n",
       "<table border=\"1\" class=\"dataframe\">\n",
       "  <thead>\n",
       "    <tr style=\"text-align: right;\">\n",
       "      <th></th>\n",
       "      <th>b</th>\n",
       "      <th>c</th>\n",
       "      <th>d</th>\n",
       "    </tr>\n",
       "    <tr>\n",
       "      <th>a</th>\n",
       "      <th></th>\n",
       "      <th></th>\n",
       "      <th></th>\n",
       "    </tr>\n",
       "  </thead>\n",
       "  <tbody>\n",
       "    <tr>\n",
       "      <th>0</th>\n",
       "      <td>1</td>\n",
       "      <td>2</td>\n",
       "      <td>3</td>\n",
       "    </tr>\n",
       "    <tr>\n",
       "      <th>4</th>\n",
       "      <td>5</td>\n",
       "      <td>6</td>\n",
       "      <td>7</td>\n",
       "    </tr>\n",
       "    <tr>\n",
       "      <th>8</th>\n",
       "      <td>9</td>\n",
       "      <td>10</td>\n",
       "      <td>11</td>\n",
       "    </tr>\n",
       "    <tr>\n",
       "      <th>12</th>\n",
       "      <td>13</td>\n",
       "      <td>14</td>\n",
       "      <td>15</td>\n",
       "    </tr>\n",
       "  </tbody>\n",
       "</table>\n",
       "</div>"
      ],
      "text/plain": [
       "     b   c   d\n",
       "a             \n",
       "0    1   2   3\n",
       "4    5   6   7\n",
       "8    9  10  11\n",
       "12  13  14  15"
      ]
     },
     "execution_count": 106,
     "metadata": {},
     "output_type": "execute_result"
    }
   ],
   "source": [
    "# если заранее хотим обозначить индекс какой-то колонкой \n",
    "\n",
    "df = pd.read_csv('example.csv', index_col = 0)\n",
    "\n",
    "df "
   ]
  },
  {
   "cell_type": "code",
   "execution_count": 107,
   "id": "5e760cde",
   "metadata": {},
   "outputs": [],
   "source": [
    "df.to_csv('new_file.csv', index = False)\n",
    "\n",
    "# индекс НЕ сохраняется в файл "
   ]
  },
  {
   "cell_type": "code",
   "execution_count": 108,
   "id": "80edd1ac",
   "metadata": {},
   "outputs": [
    {
     "data": {
      "text/html": [
       "<div>\n",
       "<style scoped>\n",
       "    .dataframe tbody tr th:only-of-type {\n",
       "        vertical-align: middle;\n",
       "    }\n",
       "\n",
       "    .dataframe tbody tr th {\n",
       "        vertical-align: top;\n",
       "    }\n",
       "\n",
       "    .dataframe thead th {\n",
       "        text-align: right;\n",
       "    }\n",
       "</style>\n",
       "<table border=\"1\" class=\"dataframe\">\n",
       "  <thead>\n",
       "    <tr style=\"text-align: right;\">\n",
       "      <th></th>\n",
       "      <th>b</th>\n",
       "      <th>c</th>\n",
       "      <th>d</th>\n",
       "    </tr>\n",
       "  </thead>\n",
       "  <tbody>\n",
       "    <tr>\n",
       "      <th>0</th>\n",
       "      <td>1</td>\n",
       "      <td>2</td>\n",
       "      <td>3</td>\n",
       "    </tr>\n",
       "    <tr>\n",
       "      <th>1</th>\n",
       "      <td>5</td>\n",
       "      <td>6</td>\n",
       "      <td>7</td>\n",
       "    </tr>\n",
       "    <tr>\n",
       "      <th>2</th>\n",
       "      <td>9</td>\n",
       "      <td>10</td>\n",
       "      <td>11</td>\n",
       "    </tr>\n",
       "    <tr>\n",
       "      <th>3</th>\n",
       "      <td>13</td>\n",
       "      <td>14</td>\n",
       "      <td>15</td>\n",
       "    </tr>\n",
       "  </tbody>\n",
       "</table>\n",
       "</div>"
      ],
      "text/plain": [
       "    b   c   d\n",
       "0   1   2   3\n",
       "1   5   6   7\n",
       "2   9  10  11\n",
       "3  13  14  15"
      ]
     },
     "execution_count": 108,
     "metadata": {},
     "output_type": "execute_result"
    }
   ],
   "source": [
    "new_csv = pd.read_csv('new_file.csv')\n",
    "new_csv\n",
    "\n",
    "# видим, что первая колонка стала отсутствовать в файле и в df "
   ]
  },
  {
   "cell_type": "markdown",
   "id": "1dfdad84",
   "metadata": {},
   "source": [
    "### HTML-таблицы "
   ]
  },
  {
   "cell_type": "markdown",
   "id": "277afaed",
   "metadata": {},
   "source": [
    "Pandas ищет тег /table для поиска HTML-таблицы на веб-странице \n",
    "\n",
    "НО не все таблицы мб доступны в виде именно HTML-таблиц\n",
    "\n",
    "зачастую более эффективно использовать API"
   ]
  },
  {
   "cell_type": "code",
   "execution_count": 109,
   "id": "b6349879",
   "metadata": {},
   "outputs": [],
   "source": [
    "import pandas as pd "
   ]
  },
  {
   "cell_type": "code",
   "execution_count": 110,
   "id": "afe5a2a2",
   "metadata": {},
   "outputs": [
    {
     "data": {
      "text/plain": [
       "29"
      ]
     },
     "execution_count": 110,
     "metadata": {},
     "output_type": "execute_result"
    }
   ],
   "source": [
    "url = 'https://en.wikipedia.org/wiki/World_population'\n",
    "\n",
    "tables = pd.read_html(url) # метод возвращает СПИСОК из таблиц \n",
    "\n",
    "len(tables) # это реально так!"
   ]
  },
  {
   "cell_type": "code",
   "execution_count": 159,
   "id": "d0ba7a48",
   "metadata": {},
   "outputs": [
    {
     "data": {
      "text/html": [
       "<div>\n",
       "<style scoped>\n",
       "    .dataframe tbody tr th:only-of-type {\n",
       "        vertical-align: middle;\n",
       "    }\n",
       "\n",
       "    .dataframe tbody tr th {\n",
       "        vertical-align: top;\n",
       "    }\n",
       "\n",
       "    .dataframe thead th {\n",
       "        text-align: right;\n",
       "    }\n",
       "</style>\n",
       "<table border=\"1\" class=\"dataframe\">\n",
       "  <thead>\n",
       "    <tr style=\"text-align: right;\">\n",
       "      <th></th>\n",
       "      <th>Rank</th>\n",
       "      <th>Country / Dependency</th>\n",
       "      <th>Population</th>\n",
       "      <th>Percentage of the world</th>\n",
       "      <th>Date</th>\n",
       "      <th>Source (official or from the United Nations)</th>\n",
       "    </tr>\n",
       "  </thead>\n",
       "  <tbody>\n",
       "    <tr>\n",
       "      <th>0</th>\n",
       "      <td>1</td>\n",
       "      <td>India</td>\n",
       "      <td>1425775850</td>\n",
       "      <td>NaN</td>\n",
       "      <td>14 Apr 2023</td>\n",
       "      <td>UN projection[92]</td>\n",
       "    </tr>\n",
       "    <tr>\n",
       "      <th>1</th>\n",
       "      <td>2</td>\n",
       "      <td>China</td>\n",
       "      <td>1412600000</td>\n",
       "      <td>NaN</td>\n",
       "      <td>31 Dec 2021</td>\n",
       "      <td>National annual estimate[93]</td>\n",
       "    </tr>\n",
       "    <tr>\n",
       "      <th>2</th>\n",
       "      <td>3</td>\n",
       "      <td>United States</td>\n",
       "      <td>335654899</td>\n",
       "      <td>NaN</td>\n",
       "      <td>20 Nov 2023</td>\n",
       "      <td>National population clock[94]</td>\n",
       "    </tr>\n",
       "    <tr>\n",
       "      <th>3</th>\n",
       "      <td>4</td>\n",
       "      <td>Indonesia</td>\n",
       "      <td>275773800</td>\n",
       "      <td>NaN</td>\n",
       "      <td>1 Jul 2022</td>\n",
       "      <td>National annual estimate[95]</td>\n",
       "    </tr>\n",
       "    <tr>\n",
       "      <th>4</th>\n",
       "      <td>5</td>\n",
       "      <td>Pakistan</td>\n",
       "      <td>229488994</td>\n",
       "      <td>NaN</td>\n",
       "      <td>1 Jul 2022</td>\n",
       "      <td>UN projection[96]</td>\n",
       "    </tr>\n",
       "    <tr>\n",
       "      <th>5</th>\n",
       "      <td>6</td>\n",
       "      <td>Nigeria</td>\n",
       "      <td>216746934</td>\n",
       "      <td>NaN</td>\n",
       "      <td>1 Jul 2022</td>\n",
       "      <td>UN projection[96]</td>\n",
       "    </tr>\n",
       "    <tr>\n",
       "      <th>6</th>\n",
       "      <td>7</td>\n",
       "      <td>Brazil</td>\n",
       "      <td>216926847</td>\n",
       "      <td>NaN</td>\n",
       "      <td>20 Nov 2023</td>\n",
       "      <td>National population clock[97]</td>\n",
       "    </tr>\n",
       "    <tr>\n",
       "      <th>7</th>\n",
       "      <td>8</td>\n",
       "      <td>Bangladesh</td>\n",
       "      <td>168220000</td>\n",
       "      <td>NaN</td>\n",
       "      <td>1 Jul 2020</td>\n",
       "      <td>Annual Population Estimate[98]</td>\n",
       "    </tr>\n",
       "    <tr>\n",
       "      <th>8</th>\n",
       "      <td>9</td>\n",
       "      <td>Russia</td>\n",
       "      <td>147190000</td>\n",
       "      <td>NaN</td>\n",
       "      <td>1 Oct 2021</td>\n",
       "      <td>2021 preliminary census results[99]</td>\n",
       "    </tr>\n",
       "    <tr>\n",
       "      <th>9</th>\n",
       "      <td>10</td>\n",
       "      <td>Mexico</td>\n",
       "      <td>128271248</td>\n",
       "      <td>NaN</td>\n",
       "      <td>31 Mar 2022</td>\n",
       "      <td>NaN</td>\n",
       "    </tr>\n",
       "  </tbody>\n",
       "</table>\n",
       "</div>"
      ],
      "text/plain": [
       "   Rank Country / Dependency  Population  Percentage of the world  \\\n",
       "0     1                India  1425775850                      NaN   \n",
       "1     2                China  1412600000                      NaN   \n",
       "2     3        United States   335654899                      NaN   \n",
       "3     4            Indonesia   275773800                      NaN   \n",
       "4     5             Pakistan   229488994                      NaN   \n",
       "5     6              Nigeria   216746934                      NaN   \n",
       "6     7               Brazil   216926847                      NaN   \n",
       "7     8           Bangladesh   168220000                      NaN   \n",
       "8     9               Russia   147190000                      NaN   \n",
       "9    10               Mexico   128271248                      NaN   \n",
       "\n",
       "          Date Source (official or from the United Nations)  \n",
       "0  14 Apr 2023                            UN projection[92]  \n",
       "1  31 Dec 2021                 National annual estimate[93]  \n",
       "2  20 Nov 2023                National population clock[94]  \n",
       "3   1 Jul 2022                 National annual estimate[95]  \n",
       "4   1 Jul 2022                            UN projection[96]  \n",
       "5   1 Jul 2022                            UN projection[96]  \n",
       "6  20 Nov 2023                National population clock[97]  \n",
       "7   1 Jul 2020               Annual Population Estimate[98]  \n",
       "8   1 Oct 2021          2021 preliminary census results[99]  \n",
       "9  31 Mar 2022                                          NaN  "
      ]
     },
     "execution_count": 159,
     "metadata": {},
     "output_type": "execute_result"
    }
   ],
   "source": [
    "tables[4]"
   ]
  },
  {
   "cell_type": "code",
   "execution_count": 134,
   "id": "65fafd63",
   "metadata": {},
   "outputs": [
    {
     "data": {
      "text/plain": [
       "MultiIndex([(            'Year',             'Year'),\n",
       "            (      'Population',       'Population'),\n",
       "            (   'Yearly growth',                '%'),\n",
       "            (   'Yearly growth',           'Number'),\n",
       "            ('Density(pop/km2)', 'Density(pop/km2)')],\n",
       "           )"
      ]
     },
     "execution_count": 134,
     "metadata": {},
     "output_type": "execute_result"
    }
   ],
   "source": [
    "tables[11].columns"
   ]
  },
  {
   "cell_type": "markdown",
   "id": "87d25538",
   "metadata": {},
   "source": [
    "Обычно таблицы, загруженные с html-страниц, требуют очистки данных "
   ]
  },
  {
   "cell_type": "code",
   "execution_count": 158,
   "id": "b6109ca5",
   "metadata": {},
   "outputs": [],
   "source": [
    "# загрузка df в html-формат\n",
    "\n",
    "table = tables[4]\n",
    "\n",
    "table.to_html('my_html_table.html', index = False)\n",
    "\n",
    "# сохранили нашу таблицу БЕЗ индекса \n",
    "# после такого преобразования нам доступен HTML-код созданной таблицы\n",
    "# ктр мж вставить на веб-страничку "
   ]
  },
  {
   "cell_type": "markdown",
   "id": "14c83172",
   "metadata": {},
   "source": [
    "### Excel-файлы "
   ]
  },
  {
   "cell_type": "markdown",
   "id": "3410052c",
   "metadata": {},
   "source": [
    "Pandas работает с Excel-файлом как со словарем, где ключи - названия листов, а значения словаря - это данные листов в иде df \n",
    "\n",
    "нужны доп библиотекм для работы с Excel "
   ]
  },
  {
   "cell_type": "code",
   "execution_count": 164,
   "id": "f72d8645",
   "metadata": {},
   "outputs": [
    {
     "data": {
      "text/html": [
       "<div>\n",
       "<style scoped>\n",
       "    .dataframe tbody tr th:only-of-type {\n",
       "        vertical-align: middle;\n",
       "    }\n",
       "\n",
       "    .dataframe tbody tr th {\n",
       "        vertical-align: top;\n",
       "    }\n",
       "\n",
       "    .dataframe thead th {\n",
       "        text-align: right;\n",
       "    }\n",
       "</style>\n",
       "<table border=\"1\" class=\"dataframe\">\n",
       "  <thead>\n",
       "    <tr style=\"text-align: right;\">\n",
       "      <th></th>\n",
       "      <th>a</th>\n",
       "      <th>b</th>\n",
       "      <th>c</th>\n",
       "      <th>d</th>\n",
       "    </tr>\n",
       "  </thead>\n",
       "  <tbody>\n",
       "    <tr>\n",
       "      <th>0</th>\n",
       "      <td>0</td>\n",
       "      <td>1</td>\n",
       "      <td>2</td>\n",
       "      <td>3</td>\n",
       "    </tr>\n",
       "    <tr>\n",
       "      <th>1</th>\n",
       "      <td>4</td>\n",
       "      <td>5</td>\n",
       "      <td>6</td>\n",
       "      <td>7</td>\n",
       "    </tr>\n",
       "    <tr>\n",
       "      <th>2</th>\n",
       "      <td>8</td>\n",
       "      <td>9</td>\n",
       "      <td>10</td>\n",
       "      <td>11</td>\n",
       "    </tr>\n",
       "    <tr>\n",
       "      <th>3</th>\n",
       "      <td>12</td>\n",
       "      <td>13</td>\n",
       "      <td>14</td>\n",
       "      <td>15</td>\n",
       "    </tr>\n",
       "  </tbody>\n",
       "</table>\n",
       "</div>"
      ],
      "text/plain": [
       "    a   b   c   d\n",
       "0   0   1   2   3\n",
       "1   4   5   6   7\n",
       "2   8   9  10  11\n",
       "3  12  13  14  15"
      ]
     },
     "execution_count": 164,
     "metadata": {},
     "output_type": "execute_result"
    }
   ],
   "source": [
    "df = pd.read_excel('my_excel_file.xlsx', sheet_name='First_Sheet', engine = 'openpyxl')\n",
    "\n",
    "df\n",
    "\n",
    "# без явного указания аргумента engine = 'openpyxl' НЕ работает\n",
    "# но мж переконвертировать с старый excel-формат .xls"
   ]
  },
  {
   "cell_type": "markdown",
   "id": "5d0c8c7c",
   "metadata": {},
   "source": [
    "Как получить названия листов, чтобы понять из какого мы хотим извлечь данные?"
   ]
  },
  {
   "cell_type": "code",
   "execution_count": 166,
   "id": "f9484c73",
   "metadata": {},
   "outputs": [
    {
     "data": {
      "text/plain": [
       "['First_Sheet']"
      ]
     },
     "execution_count": 166,
     "metadata": {},
     "output_type": "execute_result"
    }
   ],
   "source": [
    "excel_obj = pd.ExcelFile('my_excel_file.xlsx', engine = 'openpyxl')\n",
    "\n",
    "excel_obj.sheet_names # список из названий листов "
   ]
  },
  {
   "cell_type": "code",
   "execution_count": 171,
   "id": "b01fa5d4",
   "metadata": {},
   "outputs": [
    {
     "data": {
      "text/plain": [
       "dict"
      ]
     },
     "execution_count": 171,
     "metadata": {},
     "output_type": "execute_result"
    }
   ],
   "source": [
    "excel_dict = pd.read_excel('my_excel_file.xlsx', engine = 'openpyxl', sheet_name = None)\n",
    "\n",
    "# здесь обязательно указываем параметр -> sheet_name = None\n",
    "# чтобы считались данные из всех листов \n",
    "type(excel_dict)"
   ]
  },
  {
   "cell_type": "code",
   "execution_count": 172,
   "id": "250486a8",
   "metadata": {},
   "outputs": [
    {
     "data": {
      "text/plain": [
       "{'First_Sheet':     a   b   c   d\n",
       " 0   0   1   2   3\n",
       " 1   4   5   6   7\n",
       " 2   8   9  10  11\n",
       " 3  12  13  14  15}"
      ]
     },
     "execution_count": 172,
     "metadata": {},
     "output_type": "execute_result"
    }
   ],
   "source": [
    "excel_dict"
   ]
  },
  {
   "cell_type": "code",
   "execution_count": 173,
   "id": "8433dbcd",
   "metadata": {},
   "outputs": [
    {
     "data": {
      "text/plain": [
       "dict_keys(['First_Sheet'])"
      ]
     },
     "execution_count": 173,
     "metadata": {},
     "output_type": "execute_result"
    }
   ],
   "source": [
    "excel_dict.keys() # получение всех ключей "
   ]
  },
  {
   "cell_type": "code",
   "execution_count": 174,
   "id": "d144443c",
   "metadata": {},
   "outputs": [
    {
     "data": {
      "text/html": [
       "<div>\n",
       "<style scoped>\n",
       "    .dataframe tbody tr th:only-of-type {\n",
       "        vertical-align: middle;\n",
       "    }\n",
       "\n",
       "    .dataframe tbody tr th {\n",
       "        vertical-align: top;\n",
       "    }\n",
       "\n",
       "    .dataframe thead th {\n",
       "        text-align: right;\n",
       "    }\n",
       "</style>\n",
       "<table border=\"1\" class=\"dataframe\">\n",
       "  <thead>\n",
       "    <tr style=\"text-align: right;\">\n",
       "      <th></th>\n",
       "      <th>a</th>\n",
       "      <th>b</th>\n",
       "      <th>c</th>\n",
       "      <th>d</th>\n",
       "    </tr>\n",
       "  </thead>\n",
       "  <tbody>\n",
       "    <tr>\n",
       "      <th>0</th>\n",
       "      <td>0</td>\n",
       "      <td>1</td>\n",
       "      <td>2</td>\n",
       "      <td>3</td>\n",
       "    </tr>\n",
       "    <tr>\n",
       "      <th>1</th>\n",
       "      <td>4</td>\n",
       "      <td>5</td>\n",
       "      <td>6</td>\n",
       "      <td>7</td>\n",
       "    </tr>\n",
       "    <tr>\n",
       "      <th>2</th>\n",
       "      <td>8</td>\n",
       "      <td>9</td>\n",
       "      <td>10</td>\n",
       "      <td>11</td>\n",
       "    </tr>\n",
       "    <tr>\n",
       "      <th>3</th>\n",
       "      <td>12</td>\n",
       "      <td>13</td>\n",
       "      <td>14</td>\n",
       "      <td>15</td>\n",
       "    </tr>\n",
       "  </tbody>\n",
       "</table>\n",
       "</div>"
      ],
      "text/plain": [
       "    a   b   c   d\n",
       "0   0   1   2   3\n",
       "1   4   5   6   7\n",
       "2   8   9  10  11\n",
       "3  12  13  14  15"
      ]
     },
     "execution_count": 174,
     "metadata": {},
     "output_type": "execute_result"
    }
   ],
   "source": [
    "excel_dict['First_Sheet'] # обращение по ключу "
   ]
  },
  {
   "cell_type": "code",
   "execution_count": 176,
   "id": "eb74cf20",
   "metadata": {},
   "outputs": [],
   "source": [
    "# сохранение в Excel-формат\n",
    "\n",
    "df.to_excel('to_excel_file.xlsx', sheet_name= 'My_Sheet')"
   ]
  },
  {
   "cell_type": "markdown",
   "id": "7242377f",
   "metadata": {},
   "source": [
    "### SQL "
   ]
  },
  {
   "cell_type": "markdown",
   "id": "1a2ee69c",
   "metadata": {},
   "source": [
    "1) Выясняем, к какой БД подключаемся:\n",
    "- PostgreeSQL (psycopg2)\n",
    "- MySQL (pymysql)\n",
    "- MS SQL Server (pyodbc)\n",
    "- и тд\n",
    "\n",
    "2) установка соответстветствующих библиотеки Питон с драйвером -> драйвера указаны в скобках выше \n",
    "\n",
    "3) далее подключение к БД с помощью библиотеки sqlalchemy (= посредник между драйвером БД и Питоном)\n",
    "\n",
    "4) примеянем метод pd.read_sql() \n",
    "\n",
    "Pandas мж считывать таблицы целиком и класть их в df ИЛИ возвращать результаты запросов SELECT * FROM table (так как часто таблицы очень большие и лучше отфильтровать данные на уровне БД, а потом на этой основе создавать df) "
   ]
  },
  {
   "cell_type": "markdown",
   "id": "215836f5",
   "metadata": {},
   "source": [
    "!! Самое сложное в работе с БД SQL - это добиться подключения к этой базе "
   ]
  },
  {
   "cell_type": "markdown",
   "id": "8ce4b311",
   "metadata": {},
   "source": [
    "В этом уроке мы будем работать с БД SQLite, так как она идет (поставляется) вместе с Питоном, а это позволяет легко создать временную БД в оперативной памяти "
   ]
  },
  {
   "cell_type": "code",
   "execution_count": 187,
   "id": "c8f9f2ea",
   "metadata": {},
   "outputs": [],
   "source": [
    "from sqlalchemy import create_engine\n",
    "import numpy as np"
   ]
  },
  {
   "cell_type": "code",
   "execution_count": 188,
   "id": "b753980c",
   "metadata": {},
   "outputs": [],
   "source": [
    "temp_db = create_engine('sqlite:///:memory:')\n",
    "# создаем временную БД (пустая она) SQLite"
   ]
  },
  {
   "cell_type": "code",
   "execution_count": 189,
   "id": "0c7f3e97",
   "metadata": {},
   "outputs": [
    {
     "data": {
      "text/html": [
       "<div>\n",
       "<style scoped>\n",
       "    .dataframe tbody tr th:only-of-type {\n",
       "        vertical-align: middle;\n",
       "    }\n",
       "\n",
       "    .dataframe tbody tr th {\n",
       "        vertical-align: top;\n",
       "    }\n",
       "\n",
       "    .dataframe thead th {\n",
       "        text-align: right;\n",
       "    }\n",
       "</style>\n",
       "<table border=\"1\" class=\"dataframe\">\n",
       "  <thead>\n",
       "    <tr style=\"text-align: right;\">\n",
       "      <th></th>\n",
       "      <th>a</th>\n",
       "      <th>b</th>\n",
       "      <th>c</th>\n",
       "      <th>d</th>\n",
       "    </tr>\n",
       "  </thead>\n",
       "  <tbody>\n",
       "    <tr>\n",
       "      <th>0</th>\n",
       "      <td>8</td>\n",
       "      <td>12</td>\n",
       "      <td>57</td>\n",
       "      <td>84</td>\n",
       "    </tr>\n",
       "    <tr>\n",
       "      <th>1</th>\n",
       "      <td>55</td>\n",
       "      <td>27</td>\n",
       "      <td>10</td>\n",
       "      <td>40</td>\n",
       "    </tr>\n",
       "    <tr>\n",
       "      <th>2</th>\n",
       "      <td>11</td>\n",
       "      <td>71</td>\n",
       "      <td>39</td>\n",
       "      <td>92</td>\n",
       "    </tr>\n",
       "    <tr>\n",
       "      <th>3</th>\n",
       "      <td>64</td>\n",
       "      <td>38</td>\n",
       "      <td>40</td>\n",
       "      <td>40</td>\n",
       "    </tr>\n",
       "  </tbody>\n",
       "</table>\n",
       "</div>"
      ],
      "text/plain": [
       "    a   b   c   d\n",
       "0   8  12  57  84\n",
       "1  55  27  10  40\n",
       "2  11  71  39  92\n",
       "3  64  38  40  40"
      ]
     },
     "execution_count": 189,
     "metadata": {},
     "output_type": "execute_result"
    }
   ],
   "source": [
    "pd.DataFrame(data = np.random.randint(low = 0, high = 100, size= (4,4)), columns = ['a', 'b', 'c', 'd'])\n"
   ]
  },
  {
   "cell_type": "code",
   "execution_count": 190,
   "id": "2a3a075a",
   "metadata": {},
   "outputs": [],
   "source": [
    "# добавляем новую таблицу (df) в нашу БД \n",
    "\n",
    "df = pd.DataFrame(data = np.random.randint(low = 0, high = 100, size= (4,4)), columns = ['a', 'b', 'c', 'd'])\n",
    "\n",
    "df.to_sql(name = 'new_table', con = temp_db, index = False)\n",
    "# con = connection"
   ]
  },
  {
   "cell_type": "code",
   "execution_count": 2,
   "id": "e2168fe3",
   "metadata": {},
   "outputs": [],
   "source": [
    "#df.to_sql(name = 'new_table', con = temp_db)\n",
    "\n",
    "# ERROR\n",
    "# если таблица уже в БД, то возникает ошибка (чтобы НЕ потерять данные)\n",
    "# так как по умолчанию в if_exists стоит значение fail \n",
    "# также мб replace (заменить) или append (добавить)"
   ]
  },
  {
   "cell_type": "code",
   "execution_count": 192,
   "id": "ba7ffde5",
   "metadata": {},
   "outputs": [
    {
     "data": {
      "text/html": [
       "<div>\n",
       "<style scoped>\n",
       "    .dataframe tbody tr th:only-of-type {\n",
       "        vertical-align: middle;\n",
       "    }\n",
       "\n",
       "    .dataframe tbody tr th {\n",
       "        vertical-align: top;\n",
       "    }\n",
       "\n",
       "    .dataframe thead th {\n",
       "        text-align: right;\n",
       "    }\n",
       "</style>\n",
       "<table border=\"1\" class=\"dataframe\">\n",
       "  <thead>\n",
       "    <tr style=\"text-align: right;\">\n",
       "      <th></th>\n",
       "      <th>a</th>\n",
       "      <th>b</th>\n",
       "      <th>c</th>\n",
       "      <th>d</th>\n",
       "    </tr>\n",
       "  </thead>\n",
       "  <tbody>\n",
       "    <tr>\n",
       "      <th>0</th>\n",
       "      <td>24</td>\n",
       "      <td>63</td>\n",
       "      <td>13</td>\n",
       "      <td>49</td>\n",
       "    </tr>\n",
       "    <tr>\n",
       "      <th>1</th>\n",
       "      <td>10</td>\n",
       "      <td>83</td>\n",
       "      <td>8</td>\n",
       "      <td>88</td>\n",
       "    </tr>\n",
       "    <tr>\n",
       "      <th>2</th>\n",
       "      <td>47</td>\n",
       "      <td>48</td>\n",
       "      <td>12</td>\n",
       "      <td>33</td>\n",
       "    </tr>\n",
       "    <tr>\n",
       "      <th>3</th>\n",
       "      <td>30</td>\n",
       "      <td>30</td>\n",
       "      <td>55</td>\n",
       "      <td>93</td>\n",
       "    </tr>\n",
       "  </tbody>\n",
       "</table>\n",
       "</div>"
      ],
      "text/plain": [
       "    a   b   c   d\n",
       "0  24  63  13  49\n",
       "1  10  83   8  88\n",
       "2  47  48  12  33\n",
       "3  30  30  55  93"
      ]
     },
     "execution_count": 192,
     "metadata": {},
     "output_type": "execute_result"
    }
   ],
   "source": [
    "# чтение из SQL БД в df\n",
    "\n",
    "pd.read_sql(sql = 'new_table', con = temp_db)\n",
    "\n",
    "# НО если таблица очень большая, то лучше ее не выгружать полностью\n",
    "# так как дб достаточно места в оперативной памяти "
   ]
  },
  {
   "cell_type": "code",
   "execution_count": 193,
   "id": "d1cb8629",
   "metadata": {},
   "outputs": [
    {
     "data": {
      "text/html": [
       "<div>\n",
       "<style scoped>\n",
       "    .dataframe tbody tr th:only-of-type {\n",
       "        vertical-align: middle;\n",
       "    }\n",
       "\n",
       "    .dataframe tbody tr th {\n",
       "        vertical-align: top;\n",
       "    }\n",
       "\n",
       "    .dataframe thead th {\n",
       "        text-align: right;\n",
       "    }\n",
       "</style>\n",
       "<table border=\"1\" class=\"dataframe\">\n",
       "  <thead>\n",
       "    <tr style=\"text-align: right;\">\n",
       "      <th></th>\n",
       "      <th>a</th>\n",
       "      <th>c</th>\n",
       "    </tr>\n",
       "  </thead>\n",
       "  <tbody>\n",
       "    <tr>\n",
       "      <th>0</th>\n",
       "      <td>24</td>\n",
       "      <td>13</td>\n",
       "    </tr>\n",
       "    <tr>\n",
       "      <th>1</th>\n",
       "      <td>10</td>\n",
       "      <td>8</td>\n",
       "    </tr>\n",
       "    <tr>\n",
       "      <th>2</th>\n",
       "      <td>47</td>\n",
       "      <td>12</td>\n",
       "    </tr>\n",
       "    <tr>\n",
       "      <th>3</th>\n",
       "      <td>30</td>\n",
       "      <td>55</td>\n",
       "    </tr>\n",
       "  </tbody>\n",
       "</table>\n",
       "</div>"
      ],
      "text/plain": [
       "    a   c\n",
       "0  24  13\n",
       "1  10   8\n",
       "2  47  12\n",
       "3  30  55"
      ]
     },
     "execution_count": 193,
     "metadata": {},
     "output_type": "execute_result"
    }
   ],
   "source": [
    "# есть еще 1 метод чтения из SQL\n",
    "# где указываем код sql внутри запроса \n",
    "\n",
    "pd.read_sql_query(sql = 'SELECT a, c FROM new_table', con = temp_db)"
   ]
  },
  {
   "cell_type": "markdown",
   "id": "c87d9a3e",
   "metadata": {},
   "source": [
    "## Сводные таблицы - Pivot tables "
   ]
  },
  {
   "cell_type": "markdown",
   "id": "e24d0f11",
   "metadata": {},
   "source": [
    "Эти таблицы позволяют менять структуру данных, при этом не добавляя новых данных, а переструктурируя старые (делая их более наглядными) "
   ]
  },
  {
   "cell_type": "markdown",
   "id": "5b50c7c3",
   "metadata": {},
   "source": [
    "### pivot()"
   ]
  },
  {
   "attachments": {
    "%D1%81%D0%B2%D0%BE%D0%B4%D0%BD%D1%8B%D0%B5_%D1%82%D0%B0%D0%B1%D0%BB%D0%B8%D1%86%D1%8B.PNG": {
     "image/png": "[encoded data removed]"
    }
   },
   "cell_type": "markdown",
   "id": "92488d40",
   "metadata": {},
   "source": [
    "![%D1%81%D0%B2%D0%BE%D0%B4%D0%BD%D1%8B%D0%B5_%D1%82%D0%B0%D0%B1%D0%BB%D0%B8%D1%86%D1%8B.PNG](attachment:%D1%81%D0%B2%D0%BE%D0%B4%D0%BD%D1%8B%D0%B5_%D1%82%D0%B0%D0%B1%D0%BB%D0%B8%D1%86%D1%8B.PNG)"
   ]
  },
  {
   "cell_type": "markdown",
   "id": "cf65feb3",
   "metadata": {},
   "source": [
    "! Далеко не всегда нужно применять сводные таблицы "
   ]
  },
  {
   "cell_type": "markdown",
   "id": "d947c933",
   "metadata": {},
   "source": [
    "Когда нужно применять метод pivot()? \n",
    "\n",
    "Прежде чем его применять, нужно самому себе ответить на вопросы ниже:\n",
    "\n",
    "1) на какой вопрос хотим мы найти ответ?\n",
    "\n",
    "2) как именно должен выглядеть df для ответа на этот вопрос?\n",
    "\n",
    "3) как должна выглядеть результирующая сводная таблица? "
   ]
  },
  {
   "cell_type": "code",
   "execution_count": 196,
   "id": "08c90b81",
   "metadata": {},
   "outputs": [
    {
     "data": {
      "text/html": [
       "<div>\n",
       "<style scoped>\n",
       "    .dataframe tbody tr th:only-of-type {\n",
       "        vertical-align: middle;\n",
       "    }\n",
       "\n",
       "    .dataframe tbody tr th {\n",
       "        vertical-align: top;\n",
       "    }\n",
       "\n",
       "    .dataframe thead th {\n",
       "        text-align: right;\n",
       "    }\n",
       "</style>\n",
       "<table border=\"1\" class=\"dataframe\">\n",
       "  <thead>\n",
       "    <tr style=\"text-align: right;\">\n",
       "      <th></th>\n",
       "      <th>Account Number</th>\n",
       "      <th>Company</th>\n",
       "      <th>Contact</th>\n",
       "      <th>Account Manager</th>\n",
       "      <th>Product</th>\n",
       "      <th>Licenses</th>\n",
       "      <th>Sale Price</th>\n",
       "      <th>Status</th>\n",
       "    </tr>\n",
       "  </thead>\n",
       "  <tbody>\n",
       "    <tr>\n",
       "      <th>0</th>\n",
       "      <td>2123398</td>\n",
       "      <td>Google</td>\n",
       "      <td>Larry Pager</td>\n",
       "      <td>Edward Thorp</td>\n",
       "      <td>Analytics</td>\n",
       "      <td>150</td>\n",
       "      <td>2100000</td>\n",
       "      <td>Presented</td>\n",
       "    </tr>\n",
       "    <tr>\n",
       "      <th>1</th>\n",
       "      <td>2123398</td>\n",
       "      <td>Google</td>\n",
       "      <td>Larry Pager</td>\n",
       "      <td>Edward Thorp</td>\n",
       "      <td>Prediction</td>\n",
       "      <td>150</td>\n",
       "      <td>700000</td>\n",
       "      <td>Presented</td>\n",
       "    </tr>\n",
       "    <tr>\n",
       "      <th>2</th>\n",
       "      <td>2123398</td>\n",
       "      <td>Google</td>\n",
       "      <td>Larry Pager</td>\n",
       "      <td>Edward Thorp</td>\n",
       "      <td>Tracking</td>\n",
       "      <td>300</td>\n",
       "      <td>350000</td>\n",
       "      <td>Under Review</td>\n",
       "    </tr>\n",
       "    <tr>\n",
       "      <th>3</th>\n",
       "      <td>2192650</td>\n",
       "      <td>BOBO</td>\n",
       "      <td>Larry Pager</td>\n",
       "      <td>Edward Thorp</td>\n",
       "      <td>Analytics</td>\n",
       "      <td>150</td>\n",
       "      <td>2450000</td>\n",
       "      <td>Lost</td>\n",
       "    </tr>\n",
       "    <tr>\n",
       "      <th>4</th>\n",
       "      <td>420496</td>\n",
       "      <td>IKEA</td>\n",
       "      <td>Elon Tusk</td>\n",
       "      <td>Edward Thorp</td>\n",
       "      <td>Analytics</td>\n",
       "      <td>300</td>\n",
       "      <td>4550000</td>\n",
       "      <td>Won</td>\n",
       "    </tr>\n",
       "    <tr>\n",
       "      <th>5</th>\n",
       "      <td>636685</td>\n",
       "      <td>Tesla Inc.</td>\n",
       "      <td>Elon Tusk</td>\n",
       "      <td>Edward Thorp</td>\n",
       "      <td>Analytics</td>\n",
       "      <td>300</td>\n",
       "      <td>2800000</td>\n",
       "      <td>Under Review</td>\n",
       "    </tr>\n",
       "    <tr>\n",
       "      <th>6</th>\n",
       "      <td>636685</td>\n",
       "      <td>Tesla Inc.</td>\n",
       "      <td>Elon Tusk</td>\n",
       "      <td>Edward Thorp</td>\n",
       "      <td>Prediction</td>\n",
       "      <td>150</td>\n",
       "      <td>700000</td>\n",
       "      <td>Presented</td>\n",
       "    </tr>\n",
       "    <tr>\n",
       "      <th>7</th>\n",
       "      <td>1216870</td>\n",
       "      <td>Microsoft</td>\n",
       "      <td>Will Grates</td>\n",
       "      <td>Edward Thorp</td>\n",
       "      <td>Tracking</td>\n",
       "      <td>300</td>\n",
       "      <td>350000</td>\n",
       "      <td>Under Review</td>\n",
       "    </tr>\n",
       "    <tr>\n",
       "      <th>8</th>\n",
       "      <td>2200450</td>\n",
       "      <td>Walmart</td>\n",
       "      <td>Will Grates</td>\n",
       "      <td>Edward Thorp</td>\n",
       "      <td>Analytics</td>\n",
       "      <td>150</td>\n",
       "      <td>2450000</td>\n",
       "      <td>Lost</td>\n",
       "    </tr>\n",
       "    <tr>\n",
       "      <th>9</th>\n",
       "      <td>405886</td>\n",
       "      <td>Apple</td>\n",
       "      <td>Cindy Phoner</td>\n",
       "      <td>Claude Shannon</td>\n",
       "      <td>Analytics</td>\n",
       "      <td>300</td>\n",
       "      <td>4550000</td>\n",
       "      <td>Won</td>\n",
       "    </tr>\n",
       "  </tbody>\n",
       "</table>\n",
       "</div>"
      ],
      "text/plain": [
       "   Account Number     Company       Contact Account Manager     Product  \\\n",
       "0         2123398      Google   Larry Pager    Edward Thorp   Analytics   \n",
       "1         2123398      Google   Larry Pager    Edward Thorp  Prediction   \n",
       "2         2123398      Google   Larry Pager    Edward Thorp    Tracking   \n",
       "3         2192650        BOBO   Larry Pager    Edward Thorp   Analytics   \n",
       "4          420496        IKEA     Elon Tusk    Edward Thorp   Analytics   \n",
       "5          636685  Tesla Inc.     Elon Tusk    Edward Thorp   Analytics   \n",
       "6          636685  Tesla Inc.     Elon Tusk    Edward Thorp  Prediction   \n",
       "7         1216870   Microsoft   Will Grates    Edward Thorp    Tracking   \n",
       "8         2200450     Walmart   Will Grates    Edward Thorp   Analytics   \n",
       "9          405886       Apple  Cindy Phoner  Claude Shannon   Analytics   \n",
       "\n",
       "   Licenses  Sale Price        Status  \n",
       "0       150     2100000     Presented  \n",
       "1       150      700000     Presented  \n",
       "2       300      350000  Under Review  \n",
       "3       150     2450000          Lost  \n",
       "4       300     4550000           Won  \n",
       "5       300     2800000  Under Review  \n",
       "6       150      700000     Presented  \n",
       "7       300      350000  Under Review  \n",
       "8       150     2450000          Lost  \n",
       "9       300     4550000           Won  "
      ]
     },
     "execution_count": 196,
     "metadata": {},
     "output_type": "execute_result"
    }
   ],
   "source": [
    "df = pd.read_csv('Sales_Funnel_CRM.csv')\n",
    "\n",
    "df.head(10)"
   ]
  },
  {
   "cell_type": "markdown",
   "id": "8556dc58",
   "metadata": {},
   "source": [
    "### Задача 1"
   ]
  },
  {
   "cell_type": "markdown",
   "id": "57edddcb",
   "metadata": {},
   "source": [
    "Сколько лицензий на разные типы продуктов купила компания гугл? \n",
    "\n",
    "ИЛИ\n",
    "\n",
    "В какие компании мы продали продукт GPS? "
   ]
  },
  {
   "cell_type": "code",
   "execution_count": 197,
   "id": "59fc0d1c",
   "metadata": {},
   "outputs": [
    {
     "data": {
      "text/html": [
       "<div>\n",
       "<style scoped>\n",
       "    .dataframe tbody tr th:only-of-type {\n",
       "        vertical-align: middle;\n",
       "    }\n",
       "\n",
       "    .dataframe tbody tr th {\n",
       "        vertical-align: top;\n",
       "    }\n",
       "\n",
       "    .dataframe thead th {\n",
       "        text-align: right;\n",
       "    }\n",
       "</style>\n",
       "<table border=\"1\" class=\"dataframe\">\n",
       "  <thead>\n",
       "    <tr style=\"text-align: right;\">\n",
       "      <th></th>\n",
       "      <th>Company</th>\n",
       "      <th>Product</th>\n",
       "      <th>Licenses</th>\n",
       "    </tr>\n",
       "  </thead>\n",
       "  <tbody>\n",
       "    <tr>\n",
       "      <th>0</th>\n",
       "      <td>Google</td>\n",
       "      <td>Analytics</td>\n",
       "      <td>150</td>\n",
       "    </tr>\n",
       "    <tr>\n",
       "      <th>1</th>\n",
       "      <td>Google</td>\n",
       "      <td>Prediction</td>\n",
       "      <td>150</td>\n",
       "    </tr>\n",
       "    <tr>\n",
       "      <th>2</th>\n",
       "      <td>Google</td>\n",
       "      <td>Tracking</td>\n",
       "      <td>300</td>\n",
       "    </tr>\n",
       "    <tr>\n",
       "      <th>3</th>\n",
       "      <td>BOBO</td>\n",
       "      <td>Analytics</td>\n",
       "      <td>150</td>\n",
       "    </tr>\n",
       "    <tr>\n",
       "      <th>4</th>\n",
       "      <td>IKEA</td>\n",
       "      <td>Analytics</td>\n",
       "      <td>300</td>\n",
       "    </tr>\n",
       "    <tr>\n",
       "      <th>5</th>\n",
       "      <td>Tesla Inc.</td>\n",
       "      <td>Analytics</td>\n",
       "      <td>300</td>\n",
       "    </tr>\n",
       "    <tr>\n",
       "      <th>6</th>\n",
       "      <td>Tesla Inc.</td>\n",
       "      <td>Prediction</td>\n",
       "      <td>150</td>\n",
       "    </tr>\n",
       "    <tr>\n",
       "      <th>7</th>\n",
       "      <td>Microsoft</td>\n",
       "      <td>Tracking</td>\n",
       "      <td>300</td>\n",
       "    </tr>\n",
       "    <tr>\n",
       "      <th>8</th>\n",
       "      <td>Walmart</td>\n",
       "      <td>Analytics</td>\n",
       "      <td>150</td>\n",
       "    </tr>\n",
       "    <tr>\n",
       "      <th>9</th>\n",
       "      <td>Apple</td>\n",
       "      <td>Analytics</td>\n",
       "      <td>300</td>\n",
       "    </tr>\n",
       "    <tr>\n",
       "      <th>10</th>\n",
       "      <td>Exxon Mobile</td>\n",
       "      <td>Analytics</td>\n",
       "      <td>150</td>\n",
       "    </tr>\n",
       "    <tr>\n",
       "      <th>11</th>\n",
       "      <td>ATT</td>\n",
       "      <td>Tracking</td>\n",
       "      <td>150</td>\n",
       "    </tr>\n",
       "    <tr>\n",
       "      <th>12</th>\n",
       "      <td>ATT</td>\n",
       "      <td>Prediction</td>\n",
       "      <td>150</td>\n",
       "    </tr>\n",
       "    <tr>\n",
       "      <th>13</th>\n",
       "      <td>CVS Health</td>\n",
       "      <td>Tracking</td>\n",
       "      <td>450</td>\n",
       "    </tr>\n",
       "    <tr>\n",
       "      <th>14</th>\n",
       "      <td>Salesforce</td>\n",
       "      <td>Analytics</td>\n",
       "      <td>750</td>\n",
       "    </tr>\n",
       "    <tr>\n",
       "      <th>15</th>\n",
       "      <td>Cisco</td>\n",
       "      <td>Analytics</td>\n",
       "      <td>300</td>\n",
       "    </tr>\n",
       "    <tr>\n",
       "      <th>16</th>\n",
       "      <td>Cisco</td>\n",
       "      <td>GPS Positioning</td>\n",
       "      <td>300</td>\n",
       "    </tr>\n",
       "  </tbody>\n",
       "</table>\n",
       "</div>"
      ],
      "text/plain": [
       "         Company          Product  Licenses\n",
       "0         Google        Analytics       150\n",
       "1         Google       Prediction       150\n",
       "2         Google         Tracking       300\n",
       "3           BOBO        Analytics       150\n",
       "4           IKEA        Analytics       300\n",
       "5     Tesla Inc.        Analytics       300\n",
       "6     Tesla Inc.       Prediction       150\n",
       "7      Microsoft         Tracking       300\n",
       "8        Walmart        Analytics       150\n",
       "9          Apple        Analytics       300\n",
       "10  Exxon Mobile        Analytics       150\n",
       "11           ATT         Tracking       150\n",
       "12           ATT       Prediction       150\n",
       "13    CVS Health         Tracking       450\n",
       "14    Salesforce        Analytics       750\n",
       "15         Cisco        Analytics       300\n",
       "16         Cisco  GPS Positioning       300"
      ]
     },
     "execution_count": 197,
     "metadata": {},
     "output_type": "execute_result"
    }
   ],
   "source": [
    "# какие колонки нужны для ответа на вопрос?\n",
    "# отберем в новый df необходимые колонки из исходного\n",
    "\n",
    "task = df[['Company', 'Product', 'Licenses']]\n",
    "task"
   ]
  },
  {
   "cell_type": "code",
   "execution_count": 198,
   "id": "925a1aa4",
   "metadata": {},
   "outputs": [
    {
     "data": {
      "text/html": [
       "<div>\n",
       "<style scoped>\n",
       "    .dataframe tbody tr th:only-of-type {\n",
       "        vertical-align: middle;\n",
       "    }\n",
       "\n",
       "    .dataframe tbody tr th {\n",
       "        vertical-align: top;\n",
       "    }\n",
       "\n",
       "    .dataframe thead th {\n",
       "        text-align: right;\n",
       "    }\n",
       "</style>\n",
       "<table border=\"1\" class=\"dataframe\">\n",
       "  <thead>\n",
       "    <tr style=\"text-align: right;\">\n",
       "      <th>Product</th>\n",
       "      <th>Analytics</th>\n",
       "      <th>GPS Positioning</th>\n",
       "      <th>Prediction</th>\n",
       "      <th>Tracking</th>\n",
       "    </tr>\n",
       "    <tr>\n",
       "      <th>Company</th>\n",
       "      <th></th>\n",
       "      <th></th>\n",
       "      <th></th>\n",
       "      <th></th>\n",
       "    </tr>\n",
       "  </thead>\n",
       "  <tbody>\n",
       "    <tr>\n",
       "      <th>Google</th>\n",
       "      <td>150.0</td>\n",
       "      <td>NaN</td>\n",
       "      <td>150.0</td>\n",
       "      <td>300.0</td>\n",
       "    </tr>\n",
       "    <tr>\n",
       "      <th>ATT</th>\n",
       "      <td>NaN</td>\n",
       "      <td>NaN</td>\n",
       "      <td>150.0</td>\n",
       "      <td>150.0</td>\n",
       "    </tr>\n",
       "    <tr>\n",
       "      <th>Apple</th>\n",
       "      <td>300.0</td>\n",
       "      <td>NaN</td>\n",
       "      <td>NaN</td>\n",
       "      <td>NaN</td>\n",
       "    </tr>\n",
       "    <tr>\n",
       "      <th>BOBO</th>\n",
       "      <td>150.0</td>\n",
       "      <td>NaN</td>\n",
       "      <td>NaN</td>\n",
       "      <td>NaN</td>\n",
       "    </tr>\n",
       "    <tr>\n",
       "      <th>CVS Health</th>\n",
       "      <td>NaN</td>\n",
       "      <td>NaN</td>\n",
       "      <td>NaN</td>\n",
       "      <td>450.0</td>\n",
       "    </tr>\n",
       "    <tr>\n",
       "      <th>Cisco</th>\n",
       "      <td>300.0</td>\n",
       "      <td>300.0</td>\n",
       "      <td>NaN</td>\n",
       "      <td>NaN</td>\n",
       "    </tr>\n",
       "    <tr>\n",
       "      <th>Exxon Mobile</th>\n",
       "      <td>150.0</td>\n",
       "      <td>NaN</td>\n",
       "      <td>NaN</td>\n",
       "      <td>NaN</td>\n",
       "    </tr>\n",
       "    <tr>\n",
       "      <th>IKEA</th>\n",
       "      <td>300.0</td>\n",
       "      <td>NaN</td>\n",
       "      <td>NaN</td>\n",
       "      <td>NaN</td>\n",
       "    </tr>\n",
       "    <tr>\n",
       "      <th>Microsoft</th>\n",
       "      <td>NaN</td>\n",
       "      <td>NaN</td>\n",
       "      <td>NaN</td>\n",
       "      <td>300.0</td>\n",
       "    </tr>\n",
       "    <tr>\n",
       "      <th>Salesforce</th>\n",
       "      <td>750.0</td>\n",
       "      <td>NaN</td>\n",
       "      <td>NaN</td>\n",
       "      <td>NaN</td>\n",
       "    </tr>\n",
       "    <tr>\n",
       "      <th>Tesla Inc.</th>\n",
       "      <td>300.0</td>\n",
       "      <td>NaN</td>\n",
       "      <td>150.0</td>\n",
       "      <td>NaN</td>\n",
       "    </tr>\n",
       "    <tr>\n",
       "      <th>Walmart</th>\n",
       "      <td>150.0</td>\n",
       "      <td>NaN</td>\n",
       "      <td>NaN</td>\n",
       "      <td>NaN</td>\n",
       "    </tr>\n",
       "  </tbody>\n",
       "</table>\n",
       "</div>"
      ],
      "text/plain": [
       "Product       Analytics  GPS Positioning  Prediction  Tracking\n",
       "Company                                                       \n",
       " Google           150.0              NaN       150.0     300.0\n",
       "ATT                 NaN              NaN       150.0     150.0\n",
       "Apple             300.0              NaN         NaN       NaN\n",
       "BOBO              150.0              NaN         NaN       NaN\n",
       "CVS Health          NaN              NaN         NaN     450.0\n",
       "Cisco             300.0            300.0         NaN       NaN\n",
       "Exxon Mobile      150.0              NaN         NaN       NaN\n",
       "IKEA              300.0              NaN         NaN       NaN\n",
       "Microsoft           NaN              NaN         NaN     300.0\n",
       "Salesforce        750.0              NaN         NaN       NaN\n",
       "Tesla Inc.        300.0              NaN       150.0       NaN\n",
       "Walmart           150.0              NaN         NaN       NaN"
      ]
     },
     "execution_count": 198,
     "metadata": {},
     "output_type": "execute_result"
    }
   ],
   "source": [
    "# преобразуем наш df с помощью pivot()\n",
    "\n",
    "pd.pivot(data = task, index = 'Company', columns = 'Product', values = 'Licenses')\n",
    "\n",
    "# ОГОНЬ!!! "
   ]
  },
  {
   "cell_type": "markdown",
   "id": "60bbb1e6",
   "metadata": {},
   "source": [
    "### pivot_table()"
   ]
  },
  {
   "cell_type": "markdown",
   "id": "d713a805",
   "metadata": {},
   "source": [
    "Этот метод позволяет еще и применить дополнительную агрегаторную функцию \n",
    "\n",
    "при этом то же самое мж сделать и с помощью groupby()"
   ]
  },
  {
   "cell_type": "markdown",
   "id": "26749eee",
   "metadata": {},
   "source": [
    "### Задача 2"
   ]
  },
  {
   "cell_type": "markdown",
   "id": "2284db6a",
   "metadata": {},
   "source": [
    "Найти суммарное кол-во лицензий и сумму продаж для каждой компании "
   ]
  },
  {
   "cell_type": "code",
   "execution_count": 199,
   "id": "c41c0323",
   "metadata": {},
   "outputs": [
    {
     "data": {
      "text/html": [
       "<div>\n",
       "<style scoped>\n",
       "    .dataframe tbody tr th:only-of-type {\n",
       "        vertical-align: middle;\n",
       "    }\n",
       "\n",
       "    .dataframe tbody tr th {\n",
       "        vertical-align: top;\n",
       "    }\n",
       "\n",
       "    .dataframe thead th {\n",
       "        text-align: right;\n",
       "    }\n",
       "</style>\n",
       "<table border=\"1\" class=\"dataframe\">\n",
       "  <thead>\n",
       "    <tr style=\"text-align: right;\">\n",
       "      <th></th>\n",
       "      <th>Account Number</th>\n",
       "      <th>Company</th>\n",
       "      <th>Contact</th>\n",
       "      <th>Account Manager</th>\n",
       "      <th>Product</th>\n",
       "      <th>Licenses</th>\n",
       "      <th>Sale Price</th>\n",
       "      <th>Status</th>\n",
       "    </tr>\n",
       "  </thead>\n",
       "  <tbody>\n",
       "    <tr>\n",
       "      <th>0</th>\n",
       "      <td>2123398</td>\n",
       "      <td>Google</td>\n",
       "      <td>Larry Pager</td>\n",
       "      <td>Edward Thorp</td>\n",
       "      <td>Analytics</td>\n",
       "      <td>150</td>\n",
       "      <td>2100000</td>\n",
       "      <td>Presented</td>\n",
       "    </tr>\n",
       "    <tr>\n",
       "      <th>1</th>\n",
       "      <td>2123398</td>\n",
       "      <td>Google</td>\n",
       "      <td>Larry Pager</td>\n",
       "      <td>Edward Thorp</td>\n",
       "      <td>Prediction</td>\n",
       "      <td>150</td>\n",
       "      <td>700000</td>\n",
       "      <td>Presented</td>\n",
       "    </tr>\n",
       "    <tr>\n",
       "      <th>2</th>\n",
       "      <td>2123398</td>\n",
       "      <td>Google</td>\n",
       "      <td>Larry Pager</td>\n",
       "      <td>Edward Thorp</td>\n",
       "      <td>Tracking</td>\n",
       "      <td>300</td>\n",
       "      <td>350000</td>\n",
       "      <td>Under Review</td>\n",
       "    </tr>\n",
       "    <tr>\n",
       "      <th>3</th>\n",
       "      <td>2192650</td>\n",
       "      <td>BOBO</td>\n",
       "      <td>Larry Pager</td>\n",
       "      <td>Edward Thorp</td>\n",
       "      <td>Analytics</td>\n",
       "      <td>150</td>\n",
       "      <td>2450000</td>\n",
       "      <td>Lost</td>\n",
       "    </tr>\n",
       "    <tr>\n",
       "      <th>4</th>\n",
       "      <td>420496</td>\n",
       "      <td>IKEA</td>\n",
       "      <td>Elon Tusk</td>\n",
       "      <td>Edward Thorp</td>\n",
       "      <td>Analytics</td>\n",
       "      <td>300</td>\n",
       "      <td>4550000</td>\n",
       "      <td>Won</td>\n",
       "    </tr>\n",
       "    <tr>\n",
       "      <th>5</th>\n",
       "      <td>636685</td>\n",
       "      <td>Tesla Inc.</td>\n",
       "      <td>Elon Tusk</td>\n",
       "      <td>Edward Thorp</td>\n",
       "      <td>Analytics</td>\n",
       "      <td>300</td>\n",
       "      <td>2800000</td>\n",
       "      <td>Under Review</td>\n",
       "    </tr>\n",
       "    <tr>\n",
       "      <th>6</th>\n",
       "      <td>636685</td>\n",
       "      <td>Tesla Inc.</td>\n",
       "      <td>Elon Tusk</td>\n",
       "      <td>Edward Thorp</td>\n",
       "      <td>Prediction</td>\n",
       "      <td>150</td>\n",
       "      <td>700000</td>\n",
       "      <td>Presented</td>\n",
       "    </tr>\n",
       "    <tr>\n",
       "      <th>7</th>\n",
       "      <td>1216870</td>\n",
       "      <td>Microsoft</td>\n",
       "      <td>Will Grates</td>\n",
       "      <td>Edward Thorp</td>\n",
       "      <td>Tracking</td>\n",
       "      <td>300</td>\n",
       "      <td>350000</td>\n",
       "      <td>Under Review</td>\n",
       "    </tr>\n",
       "    <tr>\n",
       "      <th>8</th>\n",
       "      <td>2200450</td>\n",
       "      <td>Walmart</td>\n",
       "      <td>Will Grates</td>\n",
       "      <td>Edward Thorp</td>\n",
       "      <td>Analytics</td>\n",
       "      <td>150</td>\n",
       "      <td>2450000</td>\n",
       "      <td>Lost</td>\n",
       "    </tr>\n",
       "    <tr>\n",
       "      <th>9</th>\n",
       "      <td>405886</td>\n",
       "      <td>Apple</td>\n",
       "      <td>Cindy Phoner</td>\n",
       "      <td>Claude Shannon</td>\n",
       "      <td>Analytics</td>\n",
       "      <td>300</td>\n",
       "      <td>4550000</td>\n",
       "      <td>Won</td>\n",
       "    </tr>\n",
       "    <tr>\n",
       "      <th>10</th>\n",
       "      <td>470248</td>\n",
       "      <td>Exxon Mobile</td>\n",
       "      <td>Cindy Phoner</td>\n",
       "      <td>Claude Shannon</td>\n",
       "      <td>Analytics</td>\n",
       "      <td>150</td>\n",
       "      <td>2100000</td>\n",
       "      <td>Presented</td>\n",
       "    </tr>\n",
       "    <tr>\n",
       "      <th>11</th>\n",
       "      <td>698032</td>\n",
       "      <td>ATT</td>\n",
       "      <td>Cindy Phoner</td>\n",
       "      <td>Claude Shannon</td>\n",
       "      <td>Tracking</td>\n",
       "      <td>150</td>\n",
       "      <td>350000</td>\n",
       "      <td>Under Review</td>\n",
       "    </tr>\n",
       "    <tr>\n",
       "      <th>12</th>\n",
       "      <td>698032</td>\n",
       "      <td>ATT</td>\n",
       "      <td>Cindy Phoner</td>\n",
       "      <td>Claude Shannon</td>\n",
       "      <td>Prediction</td>\n",
       "      <td>150</td>\n",
       "      <td>700000</td>\n",
       "      <td>Presented</td>\n",
       "    </tr>\n",
       "    <tr>\n",
       "      <th>13</th>\n",
       "      <td>902797</td>\n",
       "      <td>CVS Health</td>\n",
       "      <td>Emma Gordian</td>\n",
       "      <td>Claude Shannon</td>\n",
       "      <td>Tracking</td>\n",
       "      <td>450</td>\n",
       "      <td>490000</td>\n",
       "      <td>Won</td>\n",
       "    </tr>\n",
       "    <tr>\n",
       "      <th>14</th>\n",
       "      <td>2046943</td>\n",
       "      <td>Salesforce</td>\n",
       "      <td>Emma Gordian</td>\n",
       "      <td>Claude Shannon</td>\n",
       "      <td>Analytics</td>\n",
       "      <td>750</td>\n",
       "      <td>7000000</td>\n",
       "      <td>Won</td>\n",
       "    </tr>\n",
       "    <tr>\n",
       "      <th>15</th>\n",
       "      <td>2169499</td>\n",
       "      <td>Cisco</td>\n",
       "      <td>Emma Gordian</td>\n",
       "      <td>Claude Shannon</td>\n",
       "      <td>Analytics</td>\n",
       "      <td>300</td>\n",
       "      <td>4550000</td>\n",
       "      <td>Lost</td>\n",
       "    </tr>\n",
       "    <tr>\n",
       "      <th>16</th>\n",
       "      <td>2169499</td>\n",
       "      <td>Cisco</td>\n",
       "      <td>Emma Gordian</td>\n",
       "      <td>Claude Shannon</td>\n",
       "      <td>GPS Positioning</td>\n",
       "      <td>300</td>\n",
       "      <td>350000</td>\n",
       "      <td>Presented</td>\n",
       "    </tr>\n",
       "  </tbody>\n",
       "</table>\n",
       "</div>"
      ],
      "text/plain": [
       "    Account Number       Company       Contact Account Manager  \\\n",
       "0          2123398        Google   Larry Pager    Edward Thorp   \n",
       "1          2123398        Google   Larry Pager    Edward Thorp   \n",
       "2          2123398        Google   Larry Pager    Edward Thorp   \n",
       "3          2192650          BOBO   Larry Pager    Edward Thorp   \n",
       "4           420496          IKEA     Elon Tusk    Edward Thorp   \n",
       "5           636685    Tesla Inc.     Elon Tusk    Edward Thorp   \n",
       "6           636685    Tesla Inc.     Elon Tusk    Edward Thorp   \n",
       "7          1216870     Microsoft   Will Grates    Edward Thorp   \n",
       "8          2200450       Walmart   Will Grates    Edward Thorp   \n",
       "9           405886         Apple  Cindy Phoner  Claude Shannon   \n",
       "10          470248  Exxon Mobile  Cindy Phoner  Claude Shannon   \n",
       "11          698032           ATT  Cindy Phoner  Claude Shannon   \n",
       "12          698032           ATT  Cindy Phoner  Claude Shannon   \n",
       "13          902797    CVS Health  Emma Gordian  Claude Shannon   \n",
       "14         2046943    Salesforce  Emma Gordian  Claude Shannon   \n",
       "15         2169499         Cisco  Emma Gordian  Claude Shannon   \n",
       "16         2169499         Cisco  Emma Gordian  Claude Shannon   \n",
       "\n",
       "            Product  Licenses  Sale Price        Status  \n",
       "0         Analytics       150     2100000     Presented  \n",
       "1        Prediction       150      700000     Presented  \n",
       "2          Tracking       300      350000  Under Review  \n",
       "3         Analytics       150     2450000          Lost  \n",
       "4         Analytics       300     4550000           Won  \n",
       "5         Analytics       300     2800000  Under Review  \n",
       "6        Prediction       150      700000     Presented  \n",
       "7          Tracking       300      350000  Under Review  \n",
       "8         Analytics       150     2450000          Lost  \n",
       "9         Analytics       300     4550000           Won  \n",
       "10        Analytics       150     2100000     Presented  \n",
       "11         Tracking       150      350000  Under Review  \n",
       "12       Prediction       150      700000     Presented  \n",
       "13         Tracking       450      490000           Won  \n",
       "14        Analytics       750     7000000           Won  \n",
       "15        Analytics       300     4550000          Lost  \n",
       "16  GPS Positioning       300      350000     Presented  "
      ]
     },
     "execution_count": 199,
     "metadata": {},
     "output_type": "execute_result"
    }
   ],
   "source": [
    "df"
   ]
  },
  {
   "cell_type": "code",
   "execution_count": 203,
   "id": "3025cbe5",
   "metadata": {},
   "outputs": [
    {
     "data": {
      "text/html": [
       "<div>\n",
       "<style scoped>\n",
       "    .dataframe tbody tr th:only-of-type {\n",
       "        vertical-align: middle;\n",
       "    }\n",
       "\n",
       "    .dataframe tbody tr th {\n",
       "        vertical-align: top;\n",
       "    }\n",
       "\n",
       "    .dataframe thead th {\n",
       "        text-align: right;\n",
       "    }\n",
       "</style>\n",
       "<table border=\"1\" class=\"dataframe\">\n",
       "  <thead>\n",
       "    <tr style=\"text-align: right;\">\n",
       "      <th></th>\n",
       "      <th>Licenses</th>\n",
       "      <th>Sale Price</th>\n",
       "    </tr>\n",
       "    <tr>\n",
       "      <th>Company</th>\n",
       "      <th></th>\n",
       "      <th></th>\n",
       "    </tr>\n",
       "  </thead>\n",
       "  <tbody>\n",
       "    <tr>\n",
       "      <th>Google</th>\n",
       "      <td>600</td>\n",
       "      <td>3150000</td>\n",
       "    </tr>\n",
       "    <tr>\n",
       "      <th>ATT</th>\n",
       "      <td>300</td>\n",
       "      <td>1050000</td>\n",
       "    </tr>\n",
       "    <tr>\n",
       "      <th>Apple</th>\n",
       "      <td>300</td>\n",
       "      <td>4550000</td>\n",
       "    </tr>\n",
       "    <tr>\n",
       "      <th>BOBO</th>\n",
       "      <td>150</td>\n",
       "      <td>2450000</td>\n",
       "    </tr>\n",
       "    <tr>\n",
       "      <th>CVS Health</th>\n",
       "      <td>450</td>\n",
       "      <td>490000</td>\n",
       "    </tr>\n",
       "    <tr>\n",
       "      <th>Cisco</th>\n",
       "      <td>600</td>\n",
       "      <td>4900000</td>\n",
       "    </tr>\n",
       "    <tr>\n",
       "      <th>Exxon Mobile</th>\n",
       "      <td>150</td>\n",
       "      <td>2100000</td>\n",
       "    </tr>\n",
       "    <tr>\n",
       "      <th>IKEA</th>\n",
       "      <td>300</td>\n",
       "      <td>4550000</td>\n",
       "    </tr>\n",
       "    <tr>\n",
       "      <th>Microsoft</th>\n",
       "      <td>300</td>\n",
       "      <td>350000</td>\n",
       "    </tr>\n",
       "    <tr>\n",
       "      <th>Salesforce</th>\n",
       "      <td>750</td>\n",
       "      <td>7000000</td>\n",
       "    </tr>\n",
       "    <tr>\n",
       "      <th>Tesla Inc.</th>\n",
       "      <td>450</td>\n",
       "      <td>3500000</td>\n",
       "    </tr>\n",
       "    <tr>\n",
       "      <th>Walmart</th>\n",
       "      <td>150</td>\n",
       "      <td>2450000</td>\n",
       "    </tr>\n",
       "  </tbody>\n",
       "</table>\n",
       "</div>"
      ],
      "text/plain": [
       "              Licenses  Sale Price\n",
       "Company                           \n",
       " Google            600     3150000\n",
       "ATT                300     1050000\n",
       "Apple              300     4550000\n",
       "BOBO               150     2450000\n",
       "CVS Health         450      490000\n",
       "Cisco              600     4900000\n",
       "Exxon Mobile       150     2100000\n",
       "IKEA               300     4550000\n",
       "Microsoft          300      350000\n",
       "Salesforce         750     7000000\n",
       "Tesla Inc.         450     3500000\n",
       "Walmart            150     2450000"
      ]
     },
     "execution_count": 203,
     "metadata": {},
     "output_type": "execute_result"
    }
   ],
   "source": [
    "pd.pivot_table(data = df, index = 'Company', aggfunc = 'sum', values = ['Licenses', 'Sale Price'])\n",
    "\n",
    "# в парметре values указываем только те колонки, ктр хотим оставить "
   ]
  },
  {
   "cell_type": "code",
   "execution_count": 201,
   "id": "25a87fea",
   "metadata": {},
   "outputs": [
    {
     "data": {
      "text/plain": [
       "<pandas.core.groupby.generic.DataFrameGroupBy object at 0x000002123F6D57F0>"
      ]
     },
     "execution_count": 201,
     "metadata": {},
     "output_type": "execute_result"
    }
   ],
   "source": [
    "# эту же задачу мж решить и через groupby()\n",
    "# выбор метода или pivot_table() или groupby() индивидуален \n",
    "\n",
    "df.groupby('Company')"
   ]
  },
  {
   "cell_type": "code",
   "execution_count": 202,
   "id": "4b0f5809",
   "metadata": {},
   "outputs": [
    {
     "data": {
      "text/html": [
       "<div>\n",
       "<style scoped>\n",
       "    .dataframe tbody tr th:only-of-type {\n",
       "        vertical-align: middle;\n",
       "    }\n",
       "\n",
       "    .dataframe tbody tr th {\n",
       "        vertical-align: top;\n",
       "    }\n",
       "\n",
       "    .dataframe thead th {\n",
       "        text-align: right;\n",
       "    }\n",
       "</style>\n",
       "<table border=\"1\" class=\"dataframe\">\n",
       "  <thead>\n",
       "    <tr style=\"text-align: right;\">\n",
       "      <th></th>\n",
       "      <th>Account Number</th>\n",
       "      <th>Licenses</th>\n",
       "      <th>Sale Price</th>\n",
       "    </tr>\n",
       "    <tr>\n",
       "      <th>Company</th>\n",
       "      <th></th>\n",
       "      <th></th>\n",
       "      <th></th>\n",
       "    </tr>\n",
       "  </thead>\n",
       "  <tbody>\n",
       "    <tr>\n",
       "      <th>Google</th>\n",
       "      <td>6370194</td>\n",
       "      <td>600</td>\n",
       "      <td>3150000</td>\n",
       "    </tr>\n",
       "    <tr>\n",
       "      <th>ATT</th>\n",
       "      <td>1396064</td>\n",
       "      <td>300</td>\n",
       "      <td>1050000</td>\n",
       "    </tr>\n",
       "    <tr>\n",
       "      <th>Apple</th>\n",
       "      <td>405886</td>\n",
       "      <td>300</td>\n",
       "      <td>4550000</td>\n",
       "    </tr>\n",
       "    <tr>\n",
       "      <th>BOBO</th>\n",
       "      <td>2192650</td>\n",
       "      <td>150</td>\n",
       "      <td>2450000</td>\n",
       "    </tr>\n",
       "    <tr>\n",
       "      <th>CVS Health</th>\n",
       "      <td>902797</td>\n",
       "      <td>450</td>\n",
       "      <td>490000</td>\n",
       "    </tr>\n",
       "    <tr>\n",
       "      <th>Cisco</th>\n",
       "      <td>4338998</td>\n",
       "      <td>600</td>\n",
       "      <td>4900000</td>\n",
       "    </tr>\n",
       "    <tr>\n",
       "      <th>Exxon Mobile</th>\n",
       "      <td>470248</td>\n",
       "      <td>150</td>\n",
       "      <td>2100000</td>\n",
       "    </tr>\n",
       "    <tr>\n",
       "      <th>IKEA</th>\n",
       "      <td>420496</td>\n",
       "      <td>300</td>\n",
       "      <td>4550000</td>\n",
       "    </tr>\n",
       "    <tr>\n",
       "      <th>Microsoft</th>\n",
       "      <td>1216870</td>\n",
       "      <td>300</td>\n",
       "      <td>350000</td>\n",
       "    </tr>\n",
       "    <tr>\n",
       "      <th>Salesforce</th>\n",
       "      <td>2046943</td>\n",
       "      <td>750</td>\n",
       "      <td>7000000</td>\n",
       "    </tr>\n",
       "    <tr>\n",
       "      <th>Tesla Inc.</th>\n",
       "      <td>1273370</td>\n",
       "      <td>450</td>\n",
       "      <td>3500000</td>\n",
       "    </tr>\n",
       "    <tr>\n",
       "      <th>Walmart</th>\n",
       "      <td>2200450</td>\n",
       "      <td>150</td>\n",
       "      <td>2450000</td>\n",
       "    </tr>\n",
       "  </tbody>\n",
       "</table>\n",
       "</div>"
      ],
      "text/plain": [
       "              Account Number  Licenses  Sale Price\n",
       "Company                                           \n",
       " Google              6370194       600     3150000\n",
       "ATT                  1396064       300     1050000\n",
       "Apple                 405886       300     4550000\n",
       "BOBO                 2192650       150     2450000\n",
       "CVS Health            902797       450      490000\n",
       "Cisco                4338998       600     4900000\n",
       "Exxon Mobile          470248       150     2100000\n",
       "IKEA                  420496       300     4550000\n",
       "Microsoft            1216870       300      350000\n",
       "Salesforce           2046943       750     7000000\n",
       "Tesla Inc.           1273370       450     3500000\n",
       "Walmart              2200450       150     2450000"
      ]
     },
     "execution_count": 202,
     "metadata": {},
     "output_type": "execute_result"
    }
   ],
   "source": [
    "df.groupby('Company').sum()"
   ]
  },
  {
   "cell_type": "markdown",
   "id": "a09b7407",
   "metadata": {},
   "source": [
    "### Задача 3 "
   ]
  },
  {
   "cell_type": "markdown",
   "id": "4b9b8f07",
   "metadata": {},
   "source": [
    "Для каждой пары: Менеджер продаж - контакт в компании узнать сумму продаж\n",
    "    \n",
    "(это задача на мультииндекс) "
   ]
  },
  {
   "cell_type": "code",
   "execution_count": 204,
   "id": "80503da4",
   "metadata": {},
   "outputs": [
    {
     "data": {
      "text/html": [
       "<div>\n",
       "<style scoped>\n",
       "    .dataframe tbody tr th:only-of-type {\n",
       "        vertical-align: middle;\n",
       "    }\n",
       "\n",
       "    .dataframe tbody tr th {\n",
       "        vertical-align: top;\n",
       "    }\n",
       "\n",
       "    .dataframe thead th {\n",
       "        text-align: right;\n",
       "    }\n",
       "</style>\n",
       "<table border=\"1\" class=\"dataframe\">\n",
       "  <thead>\n",
       "    <tr style=\"text-align: right;\">\n",
       "      <th></th>\n",
       "      <th></th>\n",
       "      <th>Sale Price</th>\n",
       "    </tr>\n",
       "    <tr>\n",
       "      <th>Account Manager</th>\n",
       "      <th>Contact</th>\n",
       "      <th></th>\n",
       "    </tr>\n",
       "  </thead>\n",
       "  <tbody>\n",
       "    <tr>\n",
       "      <th rowspan=\"2\" valign=\"top\">Claude Shannon</th>\n",
       "      <th>Cindy Phoner</th>\n",
       "      <td>7700000</td>\n",
       "    </tr>\n",
       "    <tr>\n",
       "      <th>Emma Gordian</th>\n",
       "      <td>12390000</td>\n",
       "    </tr>\n",
       "    <tr>\n",
       "      <th rowspan=\"3\" valign=\"top\">Edward Thorp</th>\n",
       "      <th>Elon Tusk</th>\n",
       "      <td>8050000</td>\n",
       "    </tr>\n",
       "    <tr>\n",
       "      <th>Larry Pager</th>\n",
       "      <td>5600000</td>\n",
       "    </tr>\n",
       "    <tr>\n",
       "      <th>Will Grates</th>\n",
       "      <td>2800000</td>\n",
       "    </tr>\n",
       "  </tbody>\n",
       "</table>\n",
       "</div>"
      ],
      "text/plain": [
       "                              Sale Price\n",
       "Account Manager Contact                 \n",
       "Claude Shannon  Cindy Phoner     7700000\n",
       "                Emma Gordian    12390000\n",
       "Edward Thorp    Elon Tusk        8050000\n",
       "                Larry Pager      5600000\n",
       "                Will Grates      2800000"
      ]
     },
     "execution_count": 204,
     "metadata": {},
     "output_type": "execute_result"
    }
   ],
   "source": [
    "pd.pivot_table(df, index = ['Account Manager', 'Contact'], values = ['Sale Price'], aggfunc = 'sum')"
   ]
  },
  {
   "cell_type": "code",
   "execution_count": 209,
   "id": "7e6c834c",
   "metadata": {},
   "outputs": [
    {
     "data": {
      "text/html": [
       "<div>\n",
       "<style scoped>\n",
       "    .dataframe tbody tr th:only-of-type {\n",
       "        vertical-align: middle;\n",
       "    }\n",
       "\n",
       "    .dataframe tbody tr th {\n",
       "        vertical-align: top;\n",
       "    }\n",
       "\n",
       "    .dataframe thead tr th {\n",
       "        text-align: left;\n",
       "    }\n",
       "\n",
       "    .dataframe thead tr:last-of-type th {\n",
       "        text-align: right;\n",
       "    }\n",
       "</style>\n",
       "<table border=\"1\" class=\"dataframe\">\n",
       "  <thead>\n",
       "    <tr>\n",
       "      <th></th>\n",
       "      <th></th>\n",
       "      <th colspan=\"4\" halign=\"left\">Sale Price</th>\n",
       "    </tr>\n",
       "    <tr>\n",
       "      <th></th>\n",
       "      <th>Product</th>\n",
       "      <th>Analytics</th>\n",
       "      <th>GPS Positioning</th>\n",
       "      <th>Prediction</th>\n",
       "      <th>Tracking</th>\n",
       "    </tr>\n",
       "    <tr>\n",
       "      <th>Account Manager</th>\n",
       "      <th>Contact</th>\n",
       "      <th></th>\n",
       "      <th></th>\n",
       "      <th></th>\n",
       "      <th></th>\n",
       "    </tr>\n",
       "  </thead>\n",
       "  <tbody>\n",
       "    <tr>\n",
       "      <th rowspan=\"2\" valign=\"top\">Claude Shannon</th>\n",
       "      <th>Cindy Phoner</th>\n",
       "      <td>6650000</td>\n",
       "      <td>0</td>\n",
       "      <td>700000</td>\n",
       "      <td>350000</td>\n",
       "    </tr>\n",
       "    <tr>\n",
       "      <th>Emma Gordian</th>\n",
       "      <td>11550000</td>\n",
       "      <td>350000</td>\n",
       "      <td>0</td>\n",
       "      <td>490000</td>\n",
       "    </tr>\n",
       "    <tr>\n",
       "      <th rowspan=\"3\" valign=\"top\">Edward Thorp</th>\n",
       "      <th>Elon Tusk</th>\n",
       "      <td>7350000</td>\n",
       "      <td>0</td>\n",
       "      <td>700000</td>\n",
       "      <td>0</td>\n",
       "    </tr>\n",
       "    <tr>\n",
       "      <th>Larry Pager</th>\n",
       "      <td>4550000</td>\n",
       "      <td>0</td>\n",
       "      <td>700000</td>\n",
       "      <td>350000</td>\n",
       "    </tr>\n",
       "    <tr>\n",
       "      <th>Will Grates</th>\n",
       "      <td>2450000</td>\n",
       "      <td>0</td>\n",
       "      <td>0</td>\n",
       "      <td>350000</td>\n",
       "    </tr>\n",
       "  </tbody>\n",
       "</table>\n",
       "</div>"
      ],
      "text/plain": [
       "                             Sale Price                                    \n",
       "Product                       Analytics GPS Positioning Prediction Tracking\n",
       "Account Manager Contact                                                    \n",
       "Claude Shannon  Cindy Phoner    6650000               0     700000   350000\n",
       "                Emma Gordian   11550000          350000          0   490000\n",
       "Edward Thorp    Elon Tusk       7350000               0     700000        0\n",
       "                Larry Pager     4550000               0     700000   350000\n",
       "                Will Grates     2450000               0          0   350000"
      ]
     },
     "execution_count": 209,
     "metadata": {},
     "output_type": "execute_result"
    }
   ],
   "source": [
    "# можем также сделать доп детализацию через параметр columns\n",
    "# посмотрим, какие конкретно продукты продались \n",
    "\n",
    "pd.pivot_table(df, index = ['Account Manager', 'Contact'], values = ['Sale Price'], fill_value = 0, columns = ['Product'], aggfunc = 'sum')\n",
    "\n",
    "# если вместо NaN хотим более осмысленное значение, то есть параметр fill_value "
   ]
  },
  {
   "cell_type": "code",
   "execution_count": 210,
   "id": "657c1d58",
   "metadata": {},
   "outputs": [
    {
     "data": {
      "text/html": [
       "<div>\n",
       "<style scoped>\n",
       "    .dataframe tbody tr th:only-of-type {\n",
       "        vertical-align: middle;\n",
       "    }\n",
       "\n",
       "    .dataframe tbody tr th {\n",
       "        vertical-align: top;\n",
       "    }\n",
       "\n",
       "    .dataframe thead tr th {\n",
       "        text-align: left;\n",
       "    }\n",
       "\n",
       "    .dataframe thead tr:last-of-type th {\n",
       "        text-align: right;\n",
       "    }\n",
       "</style>\n",
       "<table border=\"1\" class=\"dataframe\">\n",
       "  <thead>\n",
       "    <tr>\n",
       "      <th></th>\n",
       "      <th></th>\n",
       "      <th colspan=\"4\" halign=\"left\">sum</th>\n",
       "      <th colspan=\"4\" halign=\"left\">mean</th>\n",
       "    </tr>\n",
       "    <tr>\n",
       "      <th></th>\n",
       "      <th></th>\n",
       "      <th colspan=\"4\" halign=\"left\">Sale Price</th>\n",
       "      <th colspan=\"4\" halign=\"left\">Sale Price</th>\n",
       "    </tr>\n",
       "    <tr>\n",
       "      <th></th>\n",
       "      <th>Product</th>\n",
       "      <th>Analytics</th>\n",
       "      <th>GPS Positioning</th>\n",
       "      <th>Prediction</th>\n",
       "      <th>Tracking</th>\n",
       "      <th>Analytics</th>\n",
       "      <th>GPS Positioning</th>\n",
       "      <th>Prediction</th>\n",
       "      <th>Tracking</th>\n",
       "    </tr>\n",
       "    <tr>\n",
       "      <th>Account Manager</th>\n",
       "      <th>Contact</th>\n",
       "      <th></th>\n",
       "      <th></th>\n",
       "      <th></th>\n",
       "      <th></th>\n",
       "      <th></th>\n",
       "      <th></th>\n",
       "      <th></th>\n",
       "      <th></th>\n",
       "    </tr>\n",
       "  </thead>\n",
       "  <tbody>\n",
       "    <tr>\n",
       "      <th rowspan=\"2\" valign=\"top\">Claude Shannon</th>\n",
       "      <th>Cindy Phoner</th>\n",
       "      <td>6650000</td>\n",
       "      <td>0</td>\n",
       "      <td>700000</td>\n",
       "      <td>350000</td>\n",
       "      <td>3325000</td>\n",
       "      <td>0</td>\n",
       "      <td>700000</td>\n",
       "      <td>350000</td>\n",
       "    </tr>\n",
       "    <tr>\n",
       "      <th>Emma Gordian</th>\n",
       "      <td>11550000</td>\n",
       "      <td>350000</td>\n",
       "      <td>0</td>\n",
       "      <td>490000</td>\n",
       "      <td>5775000</td>\n",
       "      <td>350000</td>\n",
       "      <td>0</td>\n",
       "      <td>490000</td>\n",
       "    </tr>\n",
       "    <tr>\n",
       "      <th rowspan=\"3\" valign=\"top\">Edward Thorp</th>\n",
       "      <th>Elon Tusk</th>\n",
       "      <td>7350000</td>\n",
       "      <td>0</td>\n",
       "      <td>700000</td>\n",
       "      <td>0</td>\n",
       "      <td>3675000</td>\n",
       "      <td>0</td>\n",
       "      <td>700000</td>\n",
       "      <td>0</td>\n",
       "    </tr>\n",
       "    <tr>\n",
       "      <th>Larry Pager</th>\n",
       "      <td>4550000</td>\n",
       "      <td>0</td>\n",
       "      <td>700000</td>\n",
       "      <td>350000</td>\n",
       "      <td>2275000</td>\n",
       "      <td>0</td>\n",
       "      <td>700000</td>\n",
       "      <td>350000</td>\n",
       "    </tr>\n",
       "    <tr>\n",
       "      <th>Will Grates</th>\n",
       "      <td>2450000</td>\n",
       "      <td>0</td>\n",
       "      <td>0</td>\n",
       "      <td>350000</td>\n",
       "      <td>2450000</td>\n",
       "      <td>0</td>\n",
       "      <td>0</td>\n",
       "      <td>350000</td>\n",
       "    </tr>\n",
       "  </tbody>\n",
       "</table>\n",
       "</div>"
      ],
      "text/plain": [
       "                                    sum                                      \\\n",
       "                             Sale Price                                       \n",
       "Product                       Analytics GPS Positioning Prediction Tracking   \n",
       "Account Manager Contact                                                       \n",
       "Claude Shannon  Cindy Phoner    6650000               0     700000   350000   \n",
       "                Emma Gordian   11550000          350000          0   490000   \n",
       "Edward Thorp    Elon Tusk       7350000               0     700000        0   \n",
       "                Larry Pager     4550000               0     700000   350000   \n",
       "                Will Grates     2450000               0          0   350000   \n",
       "\n",
       "                                   mean                                      \n",
       "                             Sale Price                                      \n",
       "Product                       Analytics GPS Positioning Prediction Tracking  \n",
       "Account Manager Contact                                                      \n",
       "Claude Shannon  Cindy Phoner    3325000               0     700000   350000  \n",
       "                Emma Gordian    5775000          350000          0   490000  \n",
       "Edward Thorp    Elon Tusk       3675000               0     700000        0  \n",
       "                Larry Pager     2275000               0     700000   350000  \n",
       "                Will Grates     2450000               0          0   350000  "
      ]
     },
     "execution_count": 210,
     "metadata": {},
     "output_type": "execute_result"
    }
   ],
   "source": [
    "pd.pivot_table(df, index = ['Account Manager', 'Contact'], values = ['Sale Price'], fill_value = 0, columns = ['Product'], aggfunc = ['sum', 'mean'])\n",
    "\n",
    "# можно указать несколько агрегаторных функций \n",
    "# здесь уже будет многоуровневый мультииндекс (3 уровня)"
   ]
  },
  {
   "cell_type": "code",
   "execution_count": 212,
   "id": "7754d6dc",
   "metadata": {},
   "outputs": [
    {
     "data": {
      "text/html": [
       "<div>\n",
       "<style scoped>\n",
       "    .dataframe tbody tr th:only-of-type {\n",
       "        vertical-align: middle;\n",
       "    }\n",
       "\n",
       "    .dataframe tbody tr th {\n",
       "        vertical-align: top;\n",
       "    }\n",
       "\n",
       "    .dataframe thead th {\n",
       "        text-align: right;\n",
       "    }\n",
       "</style>\n",
       "<table border=\"1\" class=\"dataframe\">\n",
       "  <thead>\n",
       "    <tr style=\"text-align: right;\">\n",
       "      <th></th>\n",
       "      <th></th>\n",
       "      <th></th>\n",
       "      <th>Sale Price</th>\n",
       "    </tr>\n",
       "    <tr>\n",
       "      <th>Account Manager</th>\n",
       "      <th>Contact</th>\n",
       "      <th>Product</th>\n",
       "      <th></th>\n",
       "    </tr>\n",
       "  </thead>\n",
       "  <tbody>\n",
       "    <tr>\n",
       "      <th rowspan=\"6\" valign=\"top\">Claude Shannon</th>\n",
       "      <th rowspan=\"3\" valign=\"top\">Cindy Phoner</th>\n",
       "      <th>Analytics</th>\n",
       "      <td>6650000</td>\n",
       "    </tr>\n",
       "    <tr>\n",
       "      <th>Prediction</th>\n",
       "      <td>700000</td>\n",
       "    </tr>\n",
       "    <tr>\n",
       "      <th>Tracking</th>\n",
       "      <td>350000</td>\n",
       "    </tr>\n",
       "    <tr>\n",
       "      <th rowspan=\"3\" valign=\"top\">Emma Gordian</th>\n",
       "      <th>Analytics</th>\n",
       "      <td>11550000</td>\n",
       "    </tr>\n",
       "    <tr>\n",
       "      <th>GPS Positioning</th>\n",
       "      <td>350000</td>\n",
       "    </tr>\n",
       "    <tr>\n",
       "      <th>Tracking</th>\n",
       "      <td>490000</td>\n",
       "    </tr>\n",
       "    <tr>\n",
       "      <th rowspan=\"7\" valign=\"top\">Edward Thorp</th>\n",
       "      <th rowspan=\"2\" valign=\"top\">Elon Tusk</th>\n",
       "      <th>Analytics</th>\n",
       "      <td>7350000</td>\n",
       "    </tr>\n",
       "    <tr>\n",
       "      <th>Prediction</th>\n",
       "      <td>700000</td>\n",
       "    </tr>\n",
       "    <tr>\n",
       "      <th rowspan=\"3\" valign=\"top\">Larry Pager</th>\n",
       "      <th>Analytics</th>\n",
       "      <td>4550000</td>\n",
       "    </tr>\n",
       "    <tr>\n",
       "      <th>Prediction</th>\n",
       "      <td>700000</td>\n",
       "    </tr>\n",
       "    <tr>\n",
       "      <th>Tracking</th>\n",
       "      <td>350000</td>\n",
       "    </tr>\n",
       "    <tr>\n",
       "      <th rowspan=\"2\" valign=\"top\">Will Grates</th>\n",
       "      <th>Analytics</th>\n",
       "      <td>2450000</td>\n",
       "    </tr>\n",
       "    <tr>\n",
       "      <th>Tracking</th>\n",
       "      <td>350000</td>\n",
       "    </tr>\n",
       "    <tr>\n",
       "      <th>All</th>\n",
       "      <th></th>\n",
       "      <th></th>\n",
       "      <td>36540000</td>\n",
       "    </tr>\n",
       "  </tbody>\n",
       "</table>\n",
       "</div>"
      ],
      "text/plain": [
       "                                              Sale Price\n",
       "Account Manager Contact      Product                    \n",
       "Claude Shannon  Cindy Phoner Analytics           6650000\n",
       "                             Prediction           700000\n",
       "                             Tracking             350000\n",
       "                Emma Gordian Analytics          11550000\n",
       "                             GPS Positioning      350000\n",
       "                             Tracking             490000\n",
       "Edward Thorp    Elon Tusk    Analytics           7350000\n",
       "                             Prediction           700000\n",
       "                Larry Pager  Analytics           4550000\n",
       "                             Prediction           700000\n",
       "                             Tracking             350000\n",
       "                Will Grates  Analytics           2450000\n",
       "                             Tracking             350000\n",
       "All                                             36540000"
      ]
     },
     "execution_count": 212,
     "metadata": {},
     "output_type": "execute_result"
    }
   ],
   "source": [
    "pd.pivot_table(df, index = ['Account Manager', 'Contact', 'Product'], \n",
    "               values = ['Sale Price'], \n",
    "               fill_value = 0, \n",
    "               aggfunc = 'sum', \n",
    "               margins = True)\n",
    "\n",
    "# можно сделать в индексе сразу 3 уровня для лучшей читаемости\n",
    "# + параметр margins делает внизу суммарную строку итогов "
   ]
  },
  {
   "cell_type": "code",
   "execution_count": null,
   "id": "0f287459",
   "metadata": {},
   "outputs": [],
   "source": []
  }
 ],
 "metadata": {
  "kernelspec": {
   "display_name": "Python 3 (ipykernel)",
   "language": "python",
   "name": "python3"
  },
  "language_info": {
   "codemirror_mode": {
    "name": "ipython",
    "version": 3
   },
   "file_extension": ".py",
   "mimetype": "text/x-python",
   "name": "python",
   "nbconvert_exporter": "python",
   "pygments_lexer": "ipython3",
   "version": "3.9.7"
  }
 },
 "nbformat": 4,
 "nbformat_minor": 5
}
